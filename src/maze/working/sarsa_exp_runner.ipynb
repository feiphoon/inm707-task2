{
 "metadata": {
  "language_info": {
   "codemirror_mode": {
    "name": "ipython",
    "version": 3
   },
   "file_extension": ".py",
   "mimetype": "text/x-python",
   "name": "python",
   "nbconvert_exporter": "python",
   "pygments_lexer": "ipython3",
   "version": "3.8.5"
  },
  "orig_nbformat": 2,
  "kernelspec": {
   "name": "python385jvsc74a57bd04cd5165088d7123c72a5486f42173f69b6a9502e50339e0cc6c0a980fed3743c",
   "display_name": "Python 3.8.5 64-bit"
  }
 },
 "nbformat": 4,
 "nbformat_minor": 2,
 "cells": [
  {
   "source": [
    "# SARSA (Will evolve to Q-learning) experiment runner"
   ],
   "cell_type": "markdown",
   "metadata": {}
  },
  {
   "cell_type": "code",
   "execution_count": 3,
   "metadata": {},
   "outputs": [],
   "source": [
    "%%capture\n",
    "!pip install tqdm"
   ]
  },
  {
   "cell_type": "code",
   "execution_count": 4,
   "metadata": {},
   "outputs": [],
   "source": [
    "import matplotlib.pyplot as plt\n",
    "%matplotlib inline\n",
    "from tqdm import tqdm\n",
    "import numpy as np\n",
    "\n",
    "from q_maze import QMaze, Action\n",
    "from e_greedy_policy import EGreedyPolicy\n",
    "from sarsa import Sarsa\n",
    "\n",
    "from typing import Tuple"
   ]
  },
  {
   "source": [
    "## Instantiate QMaze and EGreedyPolicy"
   ],
   "cell_type": "markdown",
   "metadata": {}
  },
  {
   "cell_type": "code",
   "execution_count": 5,
   "metadata": {},
   "outputs": [],
   "source": [
    "qm = QMaze(20)\n",
    "# Reminder that QMaze.reset only returns agent state now.\n",
    "# Be careful to capture the state when resetting, because the \n",
    "# Agent/entrance will move!\n",
    "state = qm.reset()\n",
    "eg_policy = EGreedyPolicy(epsilon=0.999, decay=0.9)\n",
    "sarsa = Sarsa(policy=eg_policy, environment=qm, gamma=0.9, alpha=0.01)\n"
   ]
  },
  {
   "cell_type": "code",
   "execution_count": 6,
   "metadata": {
    "tags": []
   },
   "outputs": [
    {
     "output_type": "stream",
     "name": "stdout",
     "text": [
      "X X X X X X X X X X X X X X X X X X X X \nX . X X . X X X X X X . . . . . . A . X \nX . X . . . X X X X . . X . X X X . X X \nX . X X X . . X X . . X X . X . X X X X \nX . X X X . X X . . X X X X X . . X . X \nX . X . X . X X X . . . X X X . X X . X \nX . . . . . . . X . X . X . X . X . . X \nX X X . X X X X X . X X X . . . . . X X \nX X . . . . . . . . . X . . X . X X X X \nX . . X X . X X . X X X . X X X X X X X \nX X . . X . X X . . . . . . . . . . X X \nX X . X X X X X X X X X . X X . X . . X \nX . . . . X . . . . . X . . X . X . X X \nX . X X X X . X X X X X . X X X X . . X \nX . . . . . . . X X . X X X . X X X X X \nX . X . X . X . . . . . . . . . . . . X \nX . X X X X X X . X . X X X X X X X X X \nX . . . . X X . . X . X X X . X X X X X \nX . X . X X . . X X . . . . . . . . . X \nX X X X X X X X X X X X X X X X X X O X \n\n"
     ]
    }
   ],
   "source": [
    "qm.display()"
   ]
  },
  {
   "source": [
    "## One iteration to check policy is working with SARSA"
   ],
   "cell_type": "markdown",
   "metadata": {}
  },
  {
   "cell_type": "code",
   "execution_count": 7,
   "metadata": {},
   "outputs": [
    {
     "output_type": "stream",
     "name": "stdout",
     "text": [
      "12290\n"
     ]
    },
    {
     "output_type": "display_data",
     "data": {
      "text/plain": "<Figure size 432x288 with 1 Axes>",
      "image/svg+xml": "<?xml version=\"1.0\" encoding=\"utf-8\" standalone=\"no\"?>\n<!DOCTYPE svg PUBLIC \"-//W3C//DTD SVG 1.1//EN\"\n  \"http://www.w3.org/Graphics/SVG/1.1/DTD/svg11.dtd\">\n<!-- Created with matplotlib (https://matplotlib.org/) -->\n<svg height=\"248.518125pt\" version=\"1.1\" viewBox=\"0 0 261.105625 248.518125\" width=\"261.105625pt\" xmlns=\"http://www.w3.org/2000/svg\" xmlns:xlink=\"http://www.w3.org/1999/xlink\">\n <metadata>\n  <rdf:RDF xmlns:cc=\"http://creativecommons.org/ns#\" xmlns:dc=\"http://purl.org/dc/elements/1.1/\" xmlns:rdf=\"http://www.w3.org/1999/02/22-rdf-syntax-ns#\">\n   <cc:Work>\n    <dc:type rdf:resource=\"http://purl.org/dc/dcmitype/StillImage\"/>\n    <dc:date>2021-04-10T19:19:32.381360</dc:date>\n    <dc:format>image/svg+xml</dc:format>\n    <dc:creator>\n     <cc:Agent>\n      <dc:title>Matplotlib v3.3.4, https://matplotlib.org/</dc:title>\n     </cc:Agent>\n    </dc:creator>\n   </cc:Work>\n  </rdf:RDF>\n </metadata>\n <defs>\n  <style type=\"text/css\">*{stroke-linecap:butt;stroke-linejoin:round;}</style>\n </defs>\n <g id=\"figure_1\">\n  <g id=\"patch_1\">\n   <path d=\"M 0 248.518125 \nL 261.105625 248.518125 \nL 261.105625 0 \nL 0 0 \nz\n\" style=\"fill:none;\"/>\n  </g>\n  <g id=\"axes_1\">\n   <g id=\"patch_2\">\n    <path d=\"M 36.465625 224.64 \nL 253.905625 224.64 \nL 253.905625 7.2 \nL 36.465625 7.2 \nz\n\" style=\"fill:#ffffff;\"/>\n   </g>\n   <g clip-path=\"url(#p413a97d589)\">\n    <image height=\"218\" id=\"image1a4f60ae73\" transform=\"scale(1 -1)translate(0 -218)\" width=\"218\" x=\"36.465625\" xlink:href=\"data:image/png;base64,\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\" y=\"-6.64\"/>\n   </g>\n   <g id=\"matplotlib.axis_1\">\n    <g id=\"xtick_1\">\n     <g id=\"line2d_1\">\n      <defs>\n       <path d=\"M 0 0 \nL 0 3.5 \n\" id=\"md59620159a\" style=\"stroke:#000000;stroke-width:0.8;\"/>\n      </defs>\n      <g>\n       <use style=\"stroke:#000000;stroke-width:0.8;\" x=\"41.901625\" xlink:href=\"#md59620159a\" y=\"224.64\"/>\n      </g>\n     </g>\n     <g id=\"text_1\">\n      <!-- 0 -->\n      <g transform=\"translate(38.720375 239.238438)scale(0.1 -0.1)\">\n       <defs>\n        <path d=\"M 31.78125 66.40625 \nQ 24.171875 66.40625 20.328125 58.90625 \nQ 16.5 51.421875 16.5 36.375 \nQ 16.5 21.390625 20.328125 13.890625 \nQ 24.171875 6.390625 31.78125 6.390625 \nQ 39.453125 6.390625 43.28125 13.890625 \nQ 47.125 21.390625 47.125 36.375 \nQ 47.125 51.421875 43.28125 58.90625 \nQ 39.453125 66.40625 31.78125 66.40625 \nz\nM 31.78125 74.21875 \nQ 44.046875 74.21875 50.515625 64.515625 \nQ 56.984375 54.828125 56.984375 36.375 \nQ 56.984375 17.96875 50.515625 8.265625 \nQ 44.046875 -1.421875 31.78125 -1.421875 \nQ 19.53125 -1.421875 13.0625 8.265625 \nQ 6.59375 17.96875 6.59375 36.375 \nQ 6.59375 54.828125 13.0625 64.515625 \nQ 19.53125 74.21875 31.78125 74.21875 \nz\n\" id=\"DejaVuSans-48\"/>\n       </defs>\n       <use xlink:href=\"#DejaVuSans-48\"/>\n      </g>\n     </g>\n    </g>\n    <g id=\"xtick_2\">\n     <g id=\"line2d_2\">\n      <g>\n       <use style=\"stroke:#000000;stroke-width:0.8;\" x=\"96.261625\" xlink:href=\"#md59620159a\" y=\"224.64\"/>\n      </g>\n     </g>\n     <g id=\"text_2\">\n      <!-- 5 -->\n      <g transform=\"translate(93.080375 239.238438)scale(0.1 -0.1)\">\n       <defs>\n        <path d=\"M 10.796875 72.90625 \nL 49.515625 72.90625 \nL 49.515625 64.59375 \nL 19.828125 64.59375 \nL 19.828125 46.734375 \nQ 21.96875 47.46875 24.109375 47.828125 \nQ 26.265625 48.1875 28.421875 48.1875 \nQ 40.625 48.1875 47.75 41.5 \nQ 54.890625 34.8125 54.890625 23.390625 \nQ 54.890625 11.625 47.5625 5.09375 \nQ 40.234375 -1.421875 26.90625 -1.421875 \nQ 22.3125 -1.421875 17.546875 -0.640625 \nQ 12.796875 0.140625 7.71875 1.703125 \nL 7.71875 11.625 \nQ 12.109375 9.234375 16.796875 8.0625 \nQ 21.484375 6.890625 26.703125 6.890625 \nQ 35.15625 6.890625 40.078125 11.328125 \nQ 45.015625 15.765625 45.015625 23.390625 \nQ 45.015625 31 40.078125 35.4375 \nQ 35.15625 39.890625 26.703125 39.890625 \nQ 22.75 39.890625 18.8125 39.015625 \nQ 14.890625 38.140625 10.796875 36.28125 \nz\n\" id=\"DejaVuSans-53\"/>\n       </defs>\n       <use xlink:href=\"#DejaVuSans-53\"/>\n      </g>\n     </g>\n    </g>\n    <g id=\"xtick_3\">\n     <g id=\"line2d_3\">\n      <g>\n       <use style=\"stroke:#000000;stroke-width:0.8;\" x=\"150.621625\" xlink:href=\"#md59620159a\" y=\"224.64\"/>\n      </g>\n     </g>\n     <g id=\"text_3\">\n      <!-- 10 -->\n      <g transform=\"translate(144.259125 239.238438)scale(0.1 -0.1)\">\n       <defs>\n        <path d=\"M 12.40625 8.296875 \nL 28.515625 8.296875 \nL 28.515625 63.921875 \nL 10.984375 60.40625 \nL 10.984375 69.390625 \nL 28.421875 72.90625 \nL 38.28125 72.90625 \nL 38.28125 8.296875 \nL 54.390625 8.296875 \nL 54.390625 0 \nL 12.40625 0 \nz\n\" id=\"DejaVuSans-49\"/>\n       </defs>\n       <use xlink:href=\"#DejaVuSans-49\"/>\n       <use x=\"63.623047\" xlink:href=\"#DejaVuSans-48\"/>\n      </g>\n     </g>\n    </g>\n    <g id=\"xtick_4\">\n     <g id=\"line2d_4\">\n      <g>\n       <use style=\"stroke:#000000;stroke-width:0.8;\" x=\"204.981625\" xlink:href=\"#md59620159a\" y=\"224.64\"/>\n      </g>\n     </g>\n     <g id=\"text_4\">\n      <!-- 15 -->\n      <g transform=\"translate(198.619125 239.238438)scale(0.1 -0.1)\">\n       <use xlink:href=\"#DejaVuSans-49\"/>\n       <use x=\"63.623047\" xlink:href=\"#DejaVuSans-53\"/>\n      </g>\n     </g>\n    </g>\n   </g>\n   <g id=\"matplotlib.axis_2\">\n    <g id=\"ytick_1\">\n     <g id=\"line2d_5\">\n      <defs>\n       <path d=\"M 0 0 \nL -3.5 0 \n\" id=\"md6ce77c02a\" style=\"stroke:#000000;stroke-width:0.8;\"/>\n      </defs>\n      <g>\n       <use style=\"stroke:#000000;stroke-width:0.8;\" x=\"36.465625\" xlink:href=\"#md6ce77c02a\" y=\"12.636\"/>\n      </g>\n     </g>\n     <g id=\"text_5\">\n      <!-- 0.0 -->\n      <g transform=\"translate(13.5625 16.435219)scale(0.1 -0.1)\">\n       <defs>\n        <path d=\"M 10.6875 12.40625 \nL 21 12.40625 \nL 21 0 \nL 10.6875 0 \nz\n\" id=\"DejaVuSans-46\"/>\n       </defs>\n       <use xlink:href=\"#DejaVuSans-48\"/>\n       <use x=\"63.623047\" xlink:href=\"#DejaVuSans-46\"/>\n       <use x=\"95.410156\" xlink:href=\"#DejaVuSans-48\"/>\n      </g>\n     </g>\n    </g>\n    <g id=\"ytick_2\">\n     <g id=\"line2d_6\">\n      <g>\n       <use style=\"stroke:#000000;stroke-width:0.8;\" x=\"36.465625\" xlink:href=\"#md6ce77c02a\" y=\"39.816\"/>\n      </g>\n     </g>\n     <g id=\"text_6\">\n      <!-- 2.5 -->\n      <g transform=\"translate(13.5625 43.615219)scale(0.1 -0.1)\">\n       <defs>\n        <path d=\"M 19.1875 8.296875 \nL 53.609375 8.296875 \nL 53.609375 0 \nL 7.328125 0 \nL 7.328125 8.296875 \nQ 12.9375 14.109375 22.625 23.890625 \nQ 32.328125 33.6875 34.8125 36.53125 \nQ 39.546875 41.84375 41.421875 45.53125 \nQ 43.3125 49.21875 43.3125 52.78125 \nQ 43.3125 58.59375 39.234375 62.25 \nQ 35.15625 65.921875 28.609375 65.921875 \nQ 23.96875 65.921875 18.8125 64.3125 \nQ 13.671875 62.703125 7.8125 59.421875 \nL 7.8125 69.390625 \nQ 13.765625 71.78125 18.9375 73 \nQ 24.125 74.21875 28.421875 74.21875 \nQ 39.75 74.21875 46.484375 68.546875 \nQ 53.21875 62.890625 53.21875 53.421875 \nQ 53.21875 48.921875 51.53125 44.890625 \nQ 49.859375 40.875 45.40625 35.40625 \nQ 44.1875 33.984375 37.640625 27.21875 \nQ 31.109375 20.453125 19.1875 8.296875 \nz\n\" id=\"DejaVuSans-50\"/>\n       </defs>\n       <use xlink:href=\"#DejaVuSans-50\"/>\n       <use x=\"63.623047\" xlink:href=\"#DejaVuSans-46\"/>\n       <use x=\"95.410156\" xlink:href=\"#DejaVuSans-53\"/>\n      </g>\n     </g>\n    </g>\n    <g id=\"ytick_3\">\n     <g id=\"line2d_7\">\n      <g>\n       <use style=\"stroke:#000000;stroke-width:0.8;\" x=\"36.465625\" xlink:href=\"#md6ce77c02a\" y=\"66.996\"/>\n      </g>\n     </g>\n     <g id=\"text_7\">\n      <!-- 5.0 -->\n      <g transform=\"translate(13.5625 70.795219)scale(0.1 -0.1)\">\n       <use xlink:href=\"#DejaVuSans-53\"/>\n       <use x=\"63.623047\" xlink:href=\"#DejaVuSans-46\"/>\n       <use x=\"95.410156\" xlink:href=\"#DejaVuSans-48\"/>\n      </g>\n     </g>\n    </g>\n    <g id=\"ytick_4\">\n     <g id=\"line2d_8\">\n      <g>\n       <use style=\"stroke:#000000;stroke-width:0.8;\" x=\"36.465625\" xlink:href=\"#md6ce77c02a\" y=\"94.176\"/>\n      </g>\n     </g>\n     <g id=\"text_8\">\n      <!-- 7.5 -->\n      <g transform=\"translate(13.5625 97.975219)scale(0.1 -0.1)\">\n       <defs>\n        <path d=\"M 8.203125 72.90625 \nL 55.078125 72.90625 \nL 55.078125 68.703125 \nL 28.609375 0 \nL 18.3125 0 \nL 43.21875 64.59375 \nL 8.203125 64.59375 \nz\n\" id=\"DejaVuSans-55\"/>\n       </defs>\n       <use xlink:href=\"#DejaVuSans-55\"/>\n       <use x=\"63.623047\" xlink:href=\"#DejaVuSans-46\"/>\n       <use x=\"95.410156\" xlink:href=\"#DejaVuSans-53\"/>\n      </g>\n     </g>\n    </g>\n    <g id=\"ytick_5\">\n     <g id=\"line2d_9\">\n      <g>\n       <use style=\"stroke:#000000;stroke-width:0.8;\" x=\"36.465625\" xlink:href=\"#md6ce77c02a\" y=\"121.356\"/>\n      </g>\n     </g>\n     <g id=\"text_9\">\n      <!-- 10.0 -->\n      <g transform=\"translate(7.2 125.155219)scale(0.1 -0.1)\">\n       <use xlink:href=\"#DejaVuSans-49\"/>\n       <use x=\"63.623047\" xlink:href=\"#DejaVuSans-48\"/>\n       <use x=\"127.246094\" xlink:href=\"#DejaVuSans-46\"/>\n       <use x=\"159.033203\" xlink:href=\"#DejaVuSans-48\"/>\n      </g>\n     </g>\n    </g>\n    <g id=\"ytick_6\">\n     <g id=\"line2d_10\">\n      <g>\n       <use style=\"stroke:#000000;stroke-width:0.8;\" x=\"36.465625\" xlink:href=\"#md6ce77c02a\" y=\"148.536\"/>\n      </g>\n     </g>\n     <g id=\"text_10\">\n      <!-- 12.5 -->\n      <g transform=\"translate(7.2 152.335219)scale(0.1 -0.1)\">\n       <use xlink:href=\"#DejaVuSans-49\"/>\n       <use x=\"63.623047\" xlink:href=\"#DejaVuSans-50\"/>\n       <use x=\"127.246094\" xlink:href=\"#DejaVuSans-46\"/>\n       <use x=\"159.033203\" xlink:href=\"#DejaVuSans-53\"/>\n      </g>\n     </g>\n    </g>\n    <g id=\"ytick_7\">\n     <g id=\"line2d_11\">\n      <g>\n       <use style=\"stroke:#000000;stroke-width:0.8;\" x=\"36.465625\" xlink:href=\"#md6ce77c02a\" y=\"175.716\"/>\n      </g>\n     </g>\n     <g id=\"text_11\">\n      <!-- 15.0 -->\n      <g transform=\"translate(7.2 179.515219)scale(0.1 -0.1)\">\n       <use xlink:href=\"#DejaVuSans-49\"/>\n       <use x=\"63.623047\" xlink:href=\"#DejaVuSans-53\"/>\n       <use x=\"127.246094\" xlink:href=\"#DejaVuSans-46\"/>\n       <use x=\"159.033203\" xlink:href=\"#DejaVuSans-48\"/>\n      </g>\n     </g>\n    </g>\n    <g id=\"ytick_8\">\n     <g id=\"line2d_12\">\n      <g>\n       <use style=\"stroke:#000000;stroke-width:0.8;\" x=\"36.465625\" xlink:href=\"#md6ce77c02a\" y=\"202.896\"/>\n      </g>\n     </g>\n     <g id=\"text_12\">\n      <!-- 17.5 -->\n      <g transform=\"translate(7.2 206.695219)scale(0.1 -0.1)\">\n       <use xlink:href=\"#DejaVuSans-49\"/>\n       <use x=\"63.623047\" xlink:href=\"#DejaVuSans-55\"/>\n       <use x=\"127.246094\" xlink:href=\"#DejaVuSans-46\"/>\n       <use x=\"159.033203\" xlink:href=\"#DejaVuSans-53\"/>\n      </g>\n     </g>\n    </g>\n   </g>\n   <g id=\"patch_3\">\n    <path d=\"M 36.465625 224.64 \nL 36.465625 7.2 \n\" style=\"fill:none;stroke:#000000;stroke-linecap:square;stroke-linejoin:miter;stroke-width:0.8;\"/>\n   </g>\n   <g id=\"patch_4\">\n    <path d=\"M 253.905625 224.64 \nL 253.905625 7.2 \n\" style=\"fill:none;stroke:#000000;stroke-linecap:square;stroke-linejoin:miter;stroke-width:0.8;\"/>\n   </g>\n   <g id=\"patch_5\">\n    <path d=\"M 36.465625 224.64 \nL 253.905625 224.64 \n\" style=\"fill:none;stroke:#000000;stroke-linecap:square;stroke-linejoin:miter;stroke-width:0.8;\"/>\n   </g>\n   <g id=\"patch_6\">\n    <path d=\"M 36.465625 7.2 \nL 253.905625 7.2 \n\" style=\"fill:none;stroke:#000000;stroke-linecap:square;stroke-linejoin:miter;stroke-width:0.8;\"/>\n   </g>\n  </g>\n </g>\n <defs>\n  <clipPath id=\"p413a97d589\">\n   <rect height=\"217.44\" width=\"217.44\" x=\"36.465625\" y=\"7.2\"/>\n  </clipPath>\n </defs>\n</svg>\n",
      "image/png": "[encoded data removed]"
     },
     "metadata": {
      "needs_background": "light"
     }
    }
   ],
   "source": [
    "done = False\n",
    "total_reward = 0\n",
    "\n",
    "# TODO: We update epsilon here because actually I should have \n",
    "# made an Agent class, need to refactor to make this nicer...\n",
    "while not done:\n",
    "    action = eg_policy(state, sarsa.q_value_store)\n",
    "    next_state, reward, done = qm.step(action)\n",
    "\n",
    "    next_action = eg_policy(next_state, sarsa.q_value_store)\n",
    "    \n",
    "    action_index = action.value.index\n",
    "    next_action_index = next_action.value.index\n",
    "    \n",
    "    sarsa.update_q_values(\n",
    "        current_state=state,\n",
    "        next_action=action_index,\n",
    "        next_reward=reward,\n",
    "        next_state=next_state,\n",
    "        next_next_action=next_action_index\n",
    "    )\n",
    "\n",
    "    eg_policy.update_epsilon()\n",
    "    state = next_state\n",
    "    # print(reward)\n",
    "    total_reward += reward\n",
    "\n",
    "print(qm.turns_elapsed)\n",
    "vals = sarsa.display_q_values()\n",
    "plt.imshow((vals - vals.min())/(vals.max() - vals.min()))\n",
    "plt.show()"
   ]
  },
  {
   "cell_type": "code",
   "execution_count": 8,
   "metadata": {},
   "outputs": [],
   "source": [
    "# Transfer spike code to a nice function\n",
    "def train_sarsa_for_one_episode(environment: QMaze, q_learning_method: Sarsa, policy: EGreedyPolicy) -> int:\n",
    "    state = environment.reset()\n",
    "    done = False\n",
    "    total_reward = 0\n",
    "\n",
    "    while not done:\n",
    "        action = policy(state, q_learning_method.q_value_store)\n",
    "        next_state, reward, done = environment.step(action)\n",
    "\n",
    "        next_action = policy(next_state, q_learning_method.q_value_store)\n",
    "        \n",
    "        action_index = action.value.index\n",
    "        next_action_index = next_action.value.index\n",
    "        \n",
    "        q_learning_method.update_q_values(\n",
    "            current_state=state,\n",
    "            next_action=action_index,\n",
    "            next_reward=reward,\n",
    "            next_state=next_state,\n",
    "            next_next_action=next_action_index\n",
    "        )\n",
    "\n",
    "        policy.update_epsilon()\n",
    "        state = next_state\n",
    "        total_reward += reward\n",
    "\n",
    "    return total_reward"
   ]
  },
  {
   "source": [
    "## Now do it nicely for more episodes"
   ],
   "cell_type": "markdown",
   "metadata": {}
  },
  {
   "cell_type": "code",
   "execution_count": 9,
   "metadata": {},
   "outputs": [],
   "source": [
    "def run_single_sarsa_exp(environment: QMaze, policy: EGreedyPolicy, q_values: np.ndarray) -> int:\n",
    "    state = environment.reset()\n",
    "    done = False\n",
    "\n",
    "    total_reward = 0\n",
    "\n",
    "    while not done:\n",
    "\n",
    "        action = policy(state, q_values)\n",
    "        state, reward, done = environment.step(action)\n",
    "\n",
    "        total_reward += reward\n",
    "\n",
    "    return total_reward\n",
    "    \n",
    "def run_sarsa_experiments(environment: QMaze, policy: EGreedyPolicy, q_learning_method: Sarsa, num_exp: int) -> Tuple[int, float, float, float]:\n",
    "    all_rewards = []\n",
    "\n",
    "    for _ in range(num_exp):\n",
    "\n",
    "        final_reward = run_single_sarsa_exp(environment=environment, policy=policy, q_values=sarsa.q_value_store)\n",
    "        all_rewards.append(final_reward)\n",
    "\n",
    "    max_reward = max(all_rewards)\n",
    "    mean_reward = np.mean(all_rewards)\n",
    "    var_reward = np.std(all_rewards)\n",
    "\n",
    "    return all_rewards, max_reward, mean_reward, var_reward\n",
    "\n",
    "def run_sarsa_experiments_special(environment: QMaze, policy: EGreedyPolicy, q_learning_method: Sarsa, num_exp: int) -> Tuple[int, float, float, float]:\n",
    "    all_rewards = []\n",
    "\n",
    "    for _ in range(num_exp):\n",
    "\n",
    "        final_reward = train_sarsa_for_one_episode(environment=environment, policy=policy, q_learning_method=sarsa)\n",
    "        all_rewards.append(final_reward)\n",
    "\n",
    "    max_reward = max(all_rewards)\n",
    "    mean_reward = np.mean(all_rewards)\n",
    "    var_reward = np.std(all_rewards)\n",
    "    # policy.reset()\n",
    "\n",
    "    return all_rewards, max_reward, mean_reward, var_reward\n"
   ]
  },
  {
   "cell_type": "code",
   "execution_count": 14,
   "metadata": {
    "tags": []
   },
   "outputs": [
    {
     "output_type": "stream",
     "name": "stderr",
     "text": [
      "  0%|          | 0/20 [07:38<?, ?it/s]\n"
     ]
    },
    {
     "output_type": "error",
     "ename": "KeyboardInterrupt",
     "evalue": "",
     "traceback": [
      "\u001b[0;31m---------------------------------------------------------------------------\u001b[0m",
      "\u001b[0;31mKeyboardInterrupt\u001b[0m                         Traceback (most recent call last)",
      "\u001b[0;32m<ipython-input-14-172ef465bbbf>\u001b[0m in \u001b[0;36m<module>\u001b[0;34m\u001b[0m\n\u001b[1;32m     16\u001b[0m \u001b[0;34m\u001b[0m\u001b[0m\n\u001b[1;32m     17\u001b[0m     \u001b[0;32mif\u001b[0m \u001b[0;34m(\u001b[0m\u001b[0mepisode\u001b[0m \u001b[0;34m%\u001b[0m \u001b[0;36m10\u001b[0m\u001b[0;34m)\u001b[0m \u001b[0;34m==\u001b[0m \u001b[0;36m0\u001b[0m\u001b[0;34m:\u001b[0m\u001b[0;34m\u001b[0m\u001b[0;34m\u001b[0m\u001b[0m\n\u001b[0;32m---> 18\u001b[0;31m         \u001b[0mall_rewards\u001b[0m\u001b[0;34m,\u001b[0m \u001b[0mmax_reward\u001b[0m\u001b[0;34m,\u001b[0m \u001b[0mmean_reward\u001b[0m\u001b[0;34m,\u001b[0m \u001b[0mvar_reward\u001b[0m \u001b[0;34m=\u001b[0m \u001b[0mrun_sarsa_experiments\u001b[0m\u001b[0;34m(\u001b[0m\u001b[0menvironment\u001b[0m\u001b[0;34m=\u001b[0m\u001b[0mqm\u001b[0m\u001b[0;34m,\u001b[0m \u001b[0mpolicy\u001b[0m\u001b[0;34m=\u001b[0m\u001b[0meg_policy\u001b[0m\u001b[0;34m,\u001b[0m \u001b[0mq_learning_method\u001b[0m\u001b[0;34m=\u001b[0m\u001b[0msarsa\u001b[0m\u001b[0;34m,\u001b[0m \u001b[0mnum_exp\u001b[0m\u001b[0;34m=\u001b[0m\u001b[0;36m10\u001b[0m\u001b[0;34m)\u001b[0m\u001b[0;34m\u001b[0m\u001b[0;34m\u001b[0m\u001b[0m\n\u001b[0m\u001b[1;32m     19\u001b[0m         \u001b[0;31m# print('Episode: ', episode, ' ,epsilon: ',eg_policy.epsilon, ' , reward: ',  mean_reward, ' , var reward: ',  var_reward)\u001b[0m\u001b[0;34m\u001b[0m\u001b[0;34m\u001b[0m\u001b[0;34m\u001b[0m\u001b[0m\n\u001b[1;32m     20\u001b[0m         \u001b[0mall_all_rewards\u001b[0m\u001b[0;34m.\u001b[0m\u001b[0mappend\u001b[0m\u001b[0;34m(\u001b[0m\u001b[0mall_rewards\u001b[0m\u001b[0;34m)\u001b[0m\u001b[0;34m\u001b[0m\u001b[0;34m\u001b[0m\u001b[0m\n",
      "\u001b[0;32m<ipython-input-10-d820a05e07e7>\u001b[0m in \u001b[0;36mrun_sarsa_experiments\u001b[0;34m(environment, policy, q_learning_method, num_exp)\u001b[0m\n\u001b[1;32m     19\u001b[0m     \u001b[0;32mfor\u001b[0m \u001b[0m_\u001b[0m \u001b[0;32min\u001b[0m \u001b[0mrange\u001b[0m\u001b[0;34m(\u001b[0m\u001b[0mnum_exp\u001b[0m\u001b[0;34m)\u001b[0m\u001b[0;34m:\u001b[0m\u001b[0;34m\u001b[0m\u001b[0;34m\u001b[0m\u001b[0m\n\u001b[1;32m     20\u001b[0m \u001b[0;34m\u001b[0m\u001b[0m\n\u001b[0;32m---> 21\u001b[0;31m         \u001b[0mfinal_reward\u001b[0m \u001b[0;34m=\u001b[0m \u001b[0mrun_single_sarsa_exp\u001b[0m\u001b[0;34m(\u001b[0m\u001b[0menvironment\u001b[0m\u001b[0;34m=\u001b[0m\u001b[0menvironment\u001b[0m\u001b[0;34m,\u001b[0m \u001b[0mpolicy\u001b[0m\u001b[0;34m=\u001b[0m\u001b[0mpolicy\u001b[0m\u001b[0;34m,\u001b[0m \u001b[0mq_values\u001b[0m\u001b[0;34m=\u001b[0m\u001b[0msarsa\u001b[0m\u001b[0;34m.\u001b[0m\u001b[0mq_value_store\u001b[0m\u001b[0;34m)\u001b[0m\u001b[0;34m\u001b[0m\u001b[0;34m\u001b[0m\u001b[0m\n\u001b[0m\u001b[1;32m     22\u001b[0m         \u001b[0mall_rewards\u001b[0m\u001b[0;34m.\u001b[0m\u001b[0mappend\u001b[0m\u001b[0;34m(\u001b[0m\u001b[0mfinal_reward\u001b[0m\u001b[0;34m)\u001b[0m\u001b[0;34m\u001b[0m\u001b[0;34m\u001b[0m\u001b[0m\n\u001b[1;32m     23\u001b[0m \u001b[0;34m\u001b[0m\u001b[0m\n",
      "\u001b[0;32m<ipython-input-10-d820a05e07e7>\u001b[0m in \u001b[0;36mrun_single_sarsa_exp\u001b[0;34m(environment, policy, q_values)\u001b[0m\n\u001b[1;32m      8\u001b[0m \u001b[0;34m\u001b[0m\u001b[0m\n\u001b[1;32m      9\u001b[0m         \u001b[0maction\u001b[0m \u001b[0;34m=\u001b[0m \u001b[0mpolicy\u001b[0m\u001b[0;34m(\u001b[0m\u001b[0mstate\u001b[0m\u001b[0;34m,\u001b[0m \u001b[0mq_values\u001b[0m\u001b[0;34m)\u001b[0m\u001b[0;34m\u001b[0m\u001b[0;34m\u001b[0m\u001b[0m\n\u001b[0;32m---> 10\u001b[0;31m         \u001b[0mstate\u001b[0m\u001b[0;34m,\u001b[0m \u001b[0mreward\u001b[0m\u001b[0;34m,\u001b[0m \u001b[0mdone\u001b[0m \u001b[0;34m=\u001b[0m \u001b[0menvironment\u001b[0m\u001b[0;34m.\u001b[0m\u001b[0mstep\u001b[0m\u001b[0;34m(\u001b[0m\u001b[0maction\u001b[0m\u001b[0;34m)\u001b[0m\u001b[0;34m\u001b[0m\u001b[0;34m\u001b[0m\u001b[0m\n\u001b[0m\u001b[1;32m     11\u001b[0m \u001b[0;34m\u001b[0m\u001b[0m\n\u001b[1;32m     12\u001b[0m         \u001b[0mtotal_reward\u001b[0m \u001b[0;34m+=\u001b[0m \u001b[0mreward\u001b[0m\u001b[0;34m\u001b[0m\u001b[0;34m\u001b[0m\u001b[0m\n",
      "\u001b[0;32m~/projects/inm707-joint-coursework/src/maze/q_maze.py\u001b[0m in \u001b[0;36mstep\u001b[0;34m(self, action)\u001b[0m\n\u001b[1;32m     49\u001b[0m             \u001b[0;31m# This \"picks\" one item out from the prob_of_action list: e.g. [0, 0, 1, 0]\u001b[0m\u001b[0;34m\u001b[0m\u001b[0;34m\u001b[0m\u001b[0;34m\u001b[0m\u001b[0m\n\u001b[1;32m     50\u001b[0m             \u001b[0;31m# Then argmax returns the index of the biggest item, so e.g. 2\u001b[0m\u001b[0;34m\u001b[0m\u001b[0;34m\u001b[0m\u001b[0;34m\u001b[0m\u001b[0m\n\u001b[0;32m---> 51\u001b[0;31m             \u001b[0maction_index\u001b[0m \u001b[0;34m=\u001b[0m \u001b[0mnp\u001b[0m\u001b[0;34m.\u001b[0m\u001b[0margmax\u001b[0m\u001b[0;34m(\u001b[0m\u001b[0mnp\u001b[0m\u001b[0;34m.\u001b[0m\u001b[0mrandom\u001b[0m\u001b[0;34m.\u001b[0m\u001b[0mmultinomial\u001b[0m\u001b[0;34m(\u001b[0m\u001b[0;36m1\u001b[0m\u001b[0;34m,\u001b[0m \u001b[0mself\u001b[0m\u001b[0;34m.\u001b[0m\u001b[0mprob_of_slipping\u001b[0m\u001b[0;34m)\u001b[0m\u001b[0;34m)\u001b[0m\u001b[0;34m\u001b[0m\u001b[0;34m\u001b[0m\u001b[0m\n\u001b[0m\u001b[1;32m     52\u001b[0m \u001b[0;34m\u001b[0m\u001b[0m\n\u001b[1;32m     53\u001b[0m             \u001b[0;31m# Check for the action of \"Don't move\" other than the usual\u001b[0m\u001b[0;34m\u001b[0m\u001b[0;34m\u001b[0m\u001b[0;34m\u001b[0m\u001b[0m\n",
      "\u001b[0;32mmtrand.pyx\u001b[0m in \u001b[0;36mnumpy.random.mtrand.RandomState.multinomial\u001b[0;34m()\u001b[0m\n",
      "\u001b[0;32m_common.pyx\u001b[0m in \u001b[0;36mnumpy.random._common.check_array_constraint\u001b[0;34m()\u001b[0m\n",
      "\u001b[0;32m<__array_function__ internals>\u001b[0m in \u001b[0;36mall\u001b[0;34m(*args, **kwargs)\u001b[0m\n",
      "\u001b[0;31mKeyboardInterrupt\u001b[0m: "
     ]
    }
   ],
   "source": [
    "# # Set up parameters for the experiment\n",
    "# qm = QMaze(10)\n",
    "# eg_policy = EGreedyPolicy(epsilon=0.7, decay=0.9)\n",
    "# sarsa = Sarsa(policy=eg_policy, environment=qm, gamma=0.9, alpha=0.01)\n",
    "# num_episodes = tqdm(range(20))\n",
    "\n",
    "# # Create structures to store data:\n",
    "# all_all_rewards = []\n",
    "# all_max_reward = []\n",
    "# # all_mean_reward = []\n",
    "# # all_var_reward = []\n",
    "\n",
    "# for episode in num_episodes:\n",
    "\n",
    "#     train_sarsa_for_one_episode(environment=qm, q_learning_method=sarsa, policy=eg_policy)\n",
    "\n",
    "#     if (episode % 10) == 0:\n",
    "#         all_rewards, max_reward, mean_reward, var_reward = run_sarsa_experiments(environment=qm, policy=eg_policy, q_learning_method=sarsa, num_exp=10)\n",
    "#         # print('Episode: ', episode, ' ,epsilon: ',eg_policy.epsilon, ' , reward: ',  mean_reward, ' , var reward: ',  var_reward)\n",
    "#         all_all_rewards.append(all_rewards)\n",
    "#         all_max_reward.append(max_reward)\n",
    "#         # all_mean_reward.append(mean_reward)\n",
    "#         # all_var_reward.append(var_reward)\n",
    "    \n",
    "# vals = sarsa.display_q_values()\n",
    "# plt.imshow((vals - vals.min())/(vals.max() - vals.min()))\n",
    "# plt.show()"
   ]
  },
  {
   "cell_type": "code",
   "execution_count": 22,
   "metadata": {},
   "outputs": [
    {
     "output_type": "stream",
     "name": "stderr",
     "text": [
      "  0%|          | 0/1000 [00:00<?, ?it/s]X X X X X X X X X X \n",
      "X . . . . . . A . X \n",
      "X X X X X . X X X X \n",
      "X X X . . . . X X X \n",
      "X . X X . X . . . X \n",
      "X . . . . X . X X X \n",
      "X X X X . X . . . X \n",
      "X . . . . X . X X X \n",
      "X . X X . X . . . X \n",
      "X X X X X X X X O X \n",
      "\n",
      "{'maze_width': 10, 'maze_height': 10, 'size': 10, 'has_treasure': False, 'treasure_found': 0, 'treasure_left': 0, 'treasure_map': [], 'position_agent': (1, 7), 'position_entrance': (1, 7), 'position_exit': (9, 8), 'maze': array([[1, 1, 1, 1, 1, 1, 1, 1, 1, 1],\n",
      "       [1, 0, 0, 0, 0, 0, 0, 2, 0, 1],\n",
      "       [1, 1, 1, 1, 1, 0, 1, 1, 1, 1],\n",
      "       [1, 1, 1, 0, 0, 0, 0, 1, 1, 1],\n",
      "       [1, 0, 1, 1, 0, 1, 0, 0, 0, 1],\n",
      "       [1, 0, 0, 0, 0, 1, 0, 1, 1, 1],\n",
      "       [1, 1, 1, 1, 0, 1, 0, 0, 0, 1],\n",
      "       [1, 0, 0, 0, 0, 1, 0, 1, 1, 1],\n",
      "       [1, 0, 1, 1, 0, 1, 0, 0, 0, 1],\n",
      "       [1, 1, 1, 1, 1, 1, 1, 1, 3, 1]]), 'generation_start_coords': (3, 6), 'generation_start_neighbours': [], 'turns_elapsed': 0, 'done': False, 'coord_to_index_state': array([[ 9, 54, 31, 18,  5, 40, 81, 85, 44, 82],\n",
      "       [59, 86, 12, 49, 41, 13, 45, 20, 96,  8],\n",
      "       [76, 73, 63, 70, 65, 14,  2, 10, 80,  3],\n",
      "       [47, 75, 60, 90, 71, 79, 19,  0, 56, 28],\n",
      "       [61, 89, 25, 55, 42, 37,  7, 33, 22, 91],\n",
      "       [58, 11, 93, 62, 29, 50, 32, 94,  1, 64],\n",
      "       [98, 57, 35, 26, 84, 17, 27, 95, 72, 38],\n",
      "       [34, 23, 69,  4, 97, 51, 21, 16, 30, 68],\n",
      "       [88,  6, 87, 24, 46, 48, 66, 52, 53, 39],\n",
      "       [15, 36, 99, 74, 77, 67, 43, 92, 78, 83]]), 'prob_of_slipping': [0.1, 0.1, 0.1, 0.1, 0.6]}\n",
      "  0%|          | 1/1000 [00:01<30:34,  1.84s/it]Episode:  0  ,starting epsilon:  0.7  ,epsilon:  0.0945596202371095  , reward:  -806.02  , var reward:  906.8361150726188\n",
      "  1%|          | 11/1000 [00:02<02:59,  5.51it/s]Episode:  10  ,starting epsilon:  0.7  ,epsilon:  0.0945596202371095  , reward:  -274.23  , var reward:  390.87591010447295\n",
      "  2%|▏         | 21/1000 [00:03<01:48,  9.04it/s]Episode:  20  ,starting epsilon:  0.7  ,epsilon:  0.0945596202371095  , reward:  -156.4  , var reward:  396.74929111467867\n",
      "  3%|▎         | 31/1000 [00:03<01:12, 13.32it/s]Episode:  30  ,starting epsilon:  0.7  ,epsilon:  0.0945596202371095  , reward:  -58.29  , var reward:  210.57983260511915\n",
      "  5%|▌         | 51/1000 [00:03<00:41, 23.05it/s]Episode:  40  ,starting epsilon:  0.7  ,epsilon:  0.0945596202371095  , reward:  -25.63  , var reward:  179.1126826888593\n",
      "Episode:  50  ,starting epsilon:  0.7  ,epsilon:  0.0945596202371095  , reward:  26.9  , var reward:  85.07825809218241\n",
      "  7%|▋         | 71/1000 [00:04<00:25, 36.35it/s]Episode:  60  ,starting epsilon:  0.7  ,epsilon:  0.0945596202371095  , reward:  40.91  , var reward:  38.821925506084824\n",
      "Episode:  70  ,starting epsilon:  0.7  ,epsilon:  0.0945596202371095  , reward:  47.61  , var reward:  19.382412130588904\n",
      "  9%|▉         | 91/1000 [00:04<00:18, 48.74it/s]Episode:  80  ,starting epsilon:  0.7  ,epsilon:  0.0945596202371095  , reward:  48.31  , var reward:  22.614019987609456\n",
      "Episode:  90  ,starting epsilon:  0.7  ,epsilon:  0.0945596202371095  , reward:  45.81  , var reward:  30.25316347094961\n",
      " 11%|█         | 111/1000 [00:04<00:14, 60.57it/s]Episode:  100  ,starting epsilon:  0.7  ,epsilon:  0.0945596202371095  , reward:  51.56  , var reward:  14.756232581522967\n",
      "Episode:  110  ,starting epsilon:  0.7  ,epsilon:  0.0945596202371095  , reward:  52.29  , var reward:  14.371009011200293\n",
      " 13%|█▎        | 131/1000 [00:04<00:12, 67.05it/s]Episode:  120  ,starting epsilon:  0.7  ,epsilon:  0.0945596202371095  , reward:  53.7  , var reward:  14.230600830604448\n",
      "Episode:  130  ,starting epsilon:  0.7  ,epsilon:  0.0945596202371095  , reward:  52.86  , var reward:  13.454382185741569\n",
      " 15%|█▌        | 151/1000 [00:05<00:12, 68.98it/s]Episode:  140  ,starting epsilon:  0.7  ,epsilon:  0.0945596202371095  , reward:  52.11  , var reward:  12.841257726562457\n",
      "Episode:  150  ,starting epsilon:  0.7  ,epsilon:  0.0945596202371095  , reward:  54.0  , var reward:  12.451505933018705\n",
      " 17%|█▋        | 171/1000 [00:05<00:12, 65.02it/s]Episode:  160  ,starting epsilon:  0.7  ,epsilon:  0.0945596202371095  , reward:  52.76  , var reward:  15.511363576423577\n",
      "Episode:  170  ,starting epsilon:  0.7  ,epsilon:  0.0945596202371095  , reward:  52.96  , var reward:  15.053850005895502\n",
      " 19%|█▉        | 191/1000 [00:05<00:11, 72.18it/s]Episode:  180  ,starting epsilon:  0.7  ,epsilon:  0.0945596202371095  , reward:  53.61  , var reward:  12.727839565299368\n",
      "Episode:  190  ,starting epsilon:  0.7  ,epsilon:  0.0945596202371095  , reward:  52.73  , var reward:  13.1140039652274\n",
      " 21%|██        | 211/1000 [00:06<00:10, 74.75it/s]Episode:  200  ,starting epsilon:  0.7  ,epsilon:  0.0945596202371095  , reward:  51.99  , var reward:  13.432419737336978\n",
      "Episode:  210  ,starting epsilon:  0.7  ,epsilon:  0.0945596202371095  , reward:  50.4  , var reward:  15.679923469200988\n",
      " 23%|██▎       | 231/1000 [00:06<00:10, 73.97it/s]Episode:  220  ,starting epsilon:  0.7  ,epsilon:  0.0945596202371095  , reward:  54.84  , var reward:  12.822417868717272\n",
      "Episode:  230  ,starting epsilon:  0.7  ,epsilon:  0.0945596202371095  , reward:  52.85  , var reward:  13.241129105933526\n",
      " 25%|██▌       | 251/1000 [00:06<00:10, 71.32it/s]Episode:  240  ,starting epsilon:  0.7  ,epsilon:  0.0945596202371095  , reward:  52.82  , var reward:  13.237356231513905\n",
      "Episode:  250  ,starting epsilon:  0.7  ,epsilon:  0.0945596202371095  , reward:  53.95  , var reward:  12.844746007609494\n",
      " 27%|██▋       | 271/1000 [00:06<00:10, 68.66it/s]Episode:  260  ,starting epsilon:  0.7  ,epsilon:  0.0945596202371095  , reward:  54.08  , var reward:  11.893426755985846\n",
      "Episode:  270  ,starting epsilon:  0.7  ,epsilon:  0.0945596202371095  , reward:  52.07  , var reward:  14.463232695355488\n",
      " 29%|██▉       | 291/1000 [00:07<00:10, 68.25it/s]Episode:  280  ,starting epsilon:  0.7  ,epsilon:  0.0945596202371095  , reward:  52.07  , var reward:  13.896945707600647\n",
      "Episode:  290  ,starting epsilon:  0.7  ,epsilon:  0.0945596202371095  , reward:  52.93  , var reward:  12.429203514304527\n",
      " 31%|███       | 311/1000 [00:07<00:09, 73.01it/s]Episode:  300  ,starting epsilon:  0.7  ,epsilon:  0.0945596202371095  , reward:  53.09  , var reward:  12.071532628461059\n",
      "Episode:  310  ,starting epsilon:  0.7  ,epsilon:  0.0945596202371095  , reward:  52.63  , var reward:  13.824366169918967\n",
      " 33%|███▎      | 331/1000 [00:07<00:08, 75.91it/s]Episode:  320  ,starting epsilon:  0.7  ,epsilon:  0.0945596202371095  , reward:  55.74  , var reward:  13.562167968285895\n",
      "Episode:  330  ,starting epsilon:  0.7  ,epsilon:  0.0945596202371095  , reward:  54.01  , var reward:  14.151674812544275\n",
      " 35%|███▌      | 351/1000 [00:08<00:08, 73.79it/s]Episode:  340  ,starting epsilon:  0.7  ,epsilon:  0.0945596202371095  , reward:  52.93  , var reward:  14.128166901618908\n",
      "Episode:  350  ,starting epsilon:  0.7  ,epsilon:  0.0945596202371095  , reward:  53.04  , var reward:  12.514727324236834\n",
      " 37%|███▋      | 371/1000 [00:08<00:08, 73.76it/s]Episode:  360  ,starting epsilon:  0.7  ,epsilon:  0.0945596202371095  , reward:  52.59  , var reward:  13.53373193173265\n",
      "Episode:  370  ,starting epsilon:  0.7  ,epsilon:  0.0945596202371095  , reward:  51.32  , var reward:  11.896957594275941\n",
      " 39%|███▉      | 391/1000 [00:08<00:08, 74.39it/s]Episode:  380  ,starting epsilon:  0.7  ,epsilon:  0.0945596202371095  , reward:  52.74  , var reward:  12.435931810684714\n",
      "Episode:  390  ,starting epsilon:  0.7  ,epsilon:  0.0945596202371095  , reward:  50.83  , var reward:  13.70113498948171\n",
      " 41%|████      | 411/1000 [00:08<00:07, 77.48it/s]Episode:  400  ,starting epsilon:  0.7  ,epsilon:  0.0945596202371095  , reward:  54.18  , var reward:  12.682570717326989\n",
      "Episode:  410  ,starting epsilon:  0.7  ,epsilon:  0.0945596202371095  , reward:  53.38  , var reward:  12.982126174090283\n",
      " 43%|████▎     | 431/1000 [00:09<00:07, 76.51it/s]Episode:  420  ,starting epsilon:  0.7  ,epsilon:  0.0945596202371095  , reward:  51.97  , var reward:  15.624631195647465\n",
      "Episode:  430  ,starting epsilon:  0.7  ,epsilon:  0.0945596202371095  , reward:  53.91  , var reward:  13.437332324535255\n",
      " 45%|████▌     | 451/1000 [00:09<00:07, 75.08it/s]Episode:  440  ,starting epsilon:  0.7  ,epsilon:  0.0945596202371095  , reward:  51.89  , var reward:  12.23183959999476\n",
      "Episode:  450  ,starting epsilon:  0.7  ,epsilon:  0.0945596202371095  , reward:  50.9  , var reward:  11.815667564721004\n",
      " 47%|████▋     | 471/1000 [00:09<00:06, 75.92it/s]Episode:  460  ,starting epsilon:  0.7  ,epsilon:  0.0945596202371095  , reward:  56.1  , var reward:  12.34382436686459\n",
      "Episode:  470  ,starting epsilon:  0.7  ,epsilon:  0.0945596202371095  , reward:  52.58  , var reward:  14.89508643815134\n",
      " 49%|████▉     | 491/1000 [00:09<00:06, 76.00it/s]Episode:  480  ,starting epsilon:  0.7  ,epsilon:  0.0945596202371095  , reward:  52.3  , var reward:  12.192210628101861\n",
      "Episode:  490  ,starting epsilon:  0.7  ,epsilon:  0.0945596202371095  , reward:  52.3  , var reward:  13.029581727745523\n",
      " 51%|█████     | 511/1000 [00:10<00:06, 76.60it/s]Episode:  500  ,starting epsilon:  0.7  ,epsilon:  0.0945596202371095  , reward:  51.95  , var reward:  14.49301555922714\n",
      "Episode:  510  ,starting epsilon:  0.7  ,epsilon:  0.0945596202371095  , reward:  53.73  , var reward:  12.584001748251627\n",
      " 53%|█████▎    | 531/1000 [00:10<00:06, 77.56it/s]Episode:  520  ,starting epsilon:  0.7  ,epsilon:  0.0945596202371095  , reward:  53.76  , var reward:  12.578648576059354\n",
      "Episode:  530  ,starting epsilon:  0.7  ,epsilon:  0.0945596202371095  , reward:  51.82  , var reward:  14.916018235440717\n",
      " 55%|█████▌    | 551/1000 [00:10<00:06, 73.31it/s]Episode:  540  ,starting epsilon:  0.7  ,epsilon:  0.0945596202371095  , reward:  53.34  , var reward:  14.280210082488281\n",
      "Episode:  550  ,starting epsilon:  0.7  ,epsilon:  0.0945596202371095  , reward:  55.2  , var reward:  10.896788517723927\n",
      " 57%|█████▋    | 571/1000 [00:11<00:06, 66.63it/s]Episode:  560  ,starting epsilon:  0.7  ,epsilon:  0.0945596202371095  , reward:  53.57  , var reward:  14.870275720375865\n",
      "Episode:  570  ,starting epsilon:  0.7  ,epsilon:  0.0945596202371095  , reward:  51.37  , var reward:  14.229304269710449\n",
      " 59%|█████▉    | 591/1000 [00:11<00:05, 71.78it/s]Episode:  580  ,starting epsilon:  0.7  ,epsilon:  0.0945596202371095  , reward:  50.72  , var reward:  12.408126369440312\n",
      "Episode:  590  ,starting epsilon:  0.7  ,epsilon:  0.0945596202371095  , reward:  53.49  , var reward:  12.981906639627322\n",
      " 61%|██████    | 611/1000 [00:11<00:05, 71.62it/s]Episode:  600  ,starting epsilon:  0.7  ,epsilon:  0.0945596202371095  , reward:  53.99  , var reward:  11.660613191423511\n",
      "Episode:  610  ,starting epsilon:  0.7  ,epsilon:  0.0945596202371095  , reward:  53.9  , var reward:  12.281286577553674\n",
      " 63%|██████▎   | 631/1000 [00:11<00:05, 71.66it/s]Episode:  620  ,starting epsilon:  0.7  ,epsilon:  0.0945596202371095  , reward:  53.09  , var reward:  13.684366993032599\n",
      "Episode:  630  ,starting epsilon:  0.7  ,epsilon:  0.0945596202371095  , reward:  52.56  , var reward:  12.914580906866473\n",
      " 65%|██████▌   | 651/1000 [00:12<00:04, 72.81it/s]Episode:  640  ,starting epsilon:  0.7  ,epsilon:  0.0945596202371095  , reward:  51.08  , var reward:  13.41318754062583\n",
      "Episode:  650  ,starting epsilon:  0.7  ,epsilon:  0.0945596202371095  , reward:  52.64  , var reward:  14.807106401994956\n",
      " 67%|██████▋   | 671/1000 [00:12<00:04, 76.14it/s]Episode:  660  ,starting epsilon:  0.7  ,epsilon:  0.0945596202371095  , reward:  53.15  , var reward:  13.827780009820811\n",
      "Episode:  670  ,starting epsilon:  0.7  ,epsilon:  0.0945596202371095  , reward:  52.49  , var reward:  14.205981134719279\n",
      " 69%|██████▉   | 691/1000 [00:12<00:04, 69.81it/s]Episode:  680  ,starting epsilon:  0.7  ,epsilon:  0.0945596202371095  , reward:  53.58  , var reward:  13.810271539691028\n",
      "Episode:  690  ,starting epsilon:  0.7  ,epsilon:  0.0945596202371095  , reward:  53.24  , var reward:  12.924488384458396\n",
      " 71%|███████   | 711/1000 [00:13<00:04, 66.49it/s]Episode:  700  ,starting epsilon:  0.7  ,epsilon:  0.0945596202371095  , reward:  52.06  , var reward:  13.316020426538854\n",
      "Episode:  710  ,starting epsilon:  0.7  ,epsilon:  0.0945596202371095  , reward:  52.65  , var reward:  12.228143767555238\n",
      " 73%|███████▎  | 731/1000 [00:13<00:03, 70.82it/s]Episode:  720  ,starting epsilon:  0.7  ,epsilon:  0.0945596202371095  , reward:  51.76  , var reward:  13.771797268330666\n",
      "Episode:  730  ,starting epsilon:  0.7  ,epsilon:  0.0945596202371095  , reward:  52.42  , var reward:  15.002786407864376\n",
      " 75%|███████▌  | 751/1000 [00:13<00:03, 71.16it/s]Episode:  740  ,starting epsilon:  0.7  ,epsilon:  0.0945596202371095  , reward:  54.26  , var reward:  13.570276342064666\n",
      "Episode:  750  ,starting epsilon:  0.7  ,epsilon:  0.0945596202371095  , reward:  51.94  , var reward:  13.379701042997935\n",
      " 77%|███████▋  | 771/1000 [00:13<00:03, 69.97it/s]Episode:  760  ,starting epsilon:  0.7  ,epsilon:  0.0945596202371095  , reward:  54.23  , var reward:  12.074646992769603\n",
      "Episode:  770  ,starting epsilon:  0.7  ,epsilon:  0.0945596202371095  , reward:  54.07  , var reward:  11.78325506810406\n",
      " 79%|███████▉  | 791/1000 [00:14<00:02, 72.89it/s]Episode:  780  ,starting epsilon:  0.7  ,epsilon:  0.0945596202371095  , reward:  54.34  , var reward:  13.935006279151796\n",
      "Episode:  790  ,starting epsilon:  0.7  ,epsilon:  0.0945596202371095  , reward:  51.2  , var reward:  14.396527359054337\n",
      " 81%|████████  | 811/1000 [00:14<00:02, 75.12it/s]Episode:  800  ,starting epsilon:  0.7  ,epsilon:  0.0945596202371095  , reward:  51.93  , var reward:  12.997118911512661\n",
      "Episode:  810  ,starting epsilon:  0.7  ,epsilon:  0.0945596202371095  , reward:  52.76  , var reward:  13.988652544115892\n",
      " 83%|████████▎ | 831/1000 [00:14<00:03, 54.39it/s]Episode:  820  ,starting epsilon:  0.7  ,epsilon:  0.0945596202371095  , reward:  53.55  , var reward:  12.195388472697374\n",
      "Episode:  830  ,starting epsilon:  0.7  ,epsilon:  0.0945596202371095  , reward:  53.43  , var reward:  14.199475342420225\n",
      " 85%|████████▌ | 851/1000 [00:15<00:02, 59.62it/s]Episode:  840  ,starting epsilon:  0.7  ,epsilon:  0.0945596202371095  , reward:  52.56  , var reward:  13.706436444240348\n",
      "Episode:  850  ,starting epsilon:  0.7  ,epsilon:  0.0945596202371095  , reward:  53.61  , var reward:  13.062078701339999\n",
      " 87%|████████▋ | 871/1000 [00:15<00:02, 56.56it/s]Episode:  860  ,starting epsilon:  0.7  ,epsilon:  0.0945596202371095  , reward:  50.87  , var reward:  13.935318439131558\n",
      "Episode:  870  ,starting epsilon:  0.7  ,epsilon:  0.0945596202371095  , reward:  53.06  , var reward:  13.665884530464904\n",
      " 89%|████████▉ | 891/1000 [00:15<00:01, 60.11it/s]Episode:  880  ,starting epsilon:  0.7  ,epsilon:  0.0945596202371095  , reward:  51.66  , var reward:  15.041422805040751\n",
      "Episode:  890  ,starting epsilon:  0.7  ,epsilon:  0.0945596202371095  , reward:  53.93  , var reward:  12.126215403001877\n",
      " 90%|█████████ | 901/1000 [00:16<00:01, 49.87it/s]Episode:  900  ,starting epsilon:  0.7  ,epsilon:  0.0945596202371095  , reward:  52.41  , var reward:  12.29235128036943\n",
      " 91%|█████████ | 911/1000 [00:16<00:02, 36.73it/s]Episode:  910  ,starting epsilon:  0.7  ,epsilon:  0.0945596202371095  , reward:  53.53  , var reward:  11.877251365530663\n",
      " 93%|█████████▎| 931/1000 [00:17<00:01, 40.99it/s]Episode:  920  ,starting epsilon:  0.7  ,epsilon:  0.0945596202371095  , reward:  51.15  , var reward:  14.784028544344737\n",
      "Episode:  930  ,starting epsilon:  0.7  ,epsilon:  0.0945596202371095  , reward:  52.18  , var reward:  11.95857851084317\n",
      " 94%|█████████▍| 941/1000 [00:17<00:01, 46.34it/s]Episode:  940  ,starting epsilon:  0.7  ,epsilon:  0.0945596202371095  , reward:  52.49  , var reward:  13.372729713861712\n",
      " 96%|█████████▌| 961/1000 [00:17<00:00, 48.10it/s]Episode:  950  ,starting epsilon:  0.7  ,epsilon:  0.0945596202371095  , reward:  49.68  , var reward:  13.673975281533894\n",
      "Episode:  960  ,starting epsilon:  0.7  ,epsilon:  0.0945596202371095  , reward:  49.83  , var reward:  14.824341469353707\n",
      " 98%|█████████▊| 981/1000 [00:17<00:00, 51.86it/s]Episode:  970  ,starting epsilon:  0.7  ,epsilon:  0.0945596202371095  , reward:  55.05  , var reward:  13.669217241671156\n",
      "Episode:  980  ,starting epsilon:  0.7  ,epsilon:  0.0945596202371095  , reward:  53.65  , var reward:  12.749411751135813\n",
      "100%|██████████| 1000/1000 [00:18<00:00, 55.27it/s]\n",
      "Episode:  990  ,starting epsilon:  0.7  ,epsilon:  0.0945596202371095  , reward:  52.83  , var reward:  12.015036412762136\n"
     ]
    },
    {
     "output_type": "display_data",
     "data": {
      "text/plain": "<Figure size 432x288 with 1 Axes>",
      "image/svg+xml": "<?xml version=\"1.0\" encoding=\"utf-8\" standalone=\"no\"?>\n<!DOCTYPE svg PUBLIC \"-//W3C//DTD SVG 1.1//EN\"\n  \"http://www.w3.org/Graphics/SVG/1.1/DTD/svg11.dtd\">\n<!-- Created with matplotlib (https://matplotlib.org/) -->\n<svg height=\"248.518125pt\" version=\"1.1\" viewBox=\"0 0 245.2025 248.518125\" width=\"245.2025pt\" xmlns=\"http://www.w3.org/2000/svg\" xmlns:xlink=\"http://www.w3.org/1999/xlink\">\n <metadata>\n  <rdf:RDF xmlns:cc=\"http://creativecommons.org/ns#\" xmlns:dc=\"http://purl.org/dc/elements/1.1/\" xmlns:rdf=\"http://www.w3.org/1999/02/22-rdf-syntax-ns#\">\n   <cc:Work>\n    <dc:type rdf:resource=\"http://purl.org/dc/dcmitype/StillImage\"/>\n    <dc:date>2021-03-21T16:05:31.251445</dc:date>\n    <dc:format>image/svg+xml</dc:format>\n    <dc:creator>\n     <cc:Agent>\n      <dc:title>Matplotlib v3.3.4, https://matplotlib.org/</dc:title>\n     </cc:Agent>\n    </dc:creator>\n   </cc:Work>\n  </rdf:RDF>\n </metadata>\n <defs>\n  <style type=\"text/css\">*{stroke-linecap:butt;stroke-linejoin:round;}</style>\n </defs>\n <g id=\"figure_1\">\n  <g id=\"patch_1\">\n   <path d=\"M 0 248.518125 \nL 245.2025 248.518125 \nL 245.2025 0 \nL 0 0 \nz\n\" style=\"fill:none;\"/>\n  </g>\n  <g id=\"axes_1\">\n   <g id=\"patch_2\">\n    <path d=\"M 20.5625 224.64 \nL 238.0025 224.64 \nL 238.0025 7.2 \nL 20.5625 7.2 \nz\n\" style=\"fill:#ffffff;\"/>\n   </g>\n   <g clip-path=\"url(#pf7c3274f4a)\">\n    <image height=\"218\" id=\"imagef3f190a132\" transform=\"scale(1 -1)translate(0 -218)\" width=\"218\" x=\"20.5625\" xlink:href=\"data:image/png;base64,\niVBORw0KGgoAAAANSUhEUgAAANoAAADaCAYAAADAHVzbAAAD2UlEQVR4nO3cT2rdZRiG4e8kpqImkGLFjpSG1pkrcOBQ0JlTQVyF6xHEXTgXHEpnVjsRpcSSxCrWPzFuwcB573Dwuhbw8ONwbr7Zu3nvrU+vFjBq76Y/AP4PhAYBoUFAaBAQGgSEBgGhQUBoEBAaBIQGAaFBQGgQEBoEhAYBoUFAaBAQGgSEBgGhQUBoEBAaBF6YGr789vuR3f0HJyO7E3btNzj+7Gxk94M732x986Ojp1vfXGut99/9cGTXiwYBoUFAaBAQGgSEBgGhQUBoEBAaBIQGAaFBQGgQEBoEhAYBoUFAaBAQGgSEBgGhQUBoEBAaBIQGgbErWFOmLkux1sPTuyO755/c3vrmF1tfnOVFg4DQICA0CAgNAkKDgNAgIDQICA0CQoOA0CAgNAgIDQJCg4DQICA0CAgNAkKDgNAgIDQICA0CY8d59h+cTE3vjF07JPTs9HBk97uPj7e++caXz7e+udZaBz9ejOx60SAgNAgIDQJCg4DQICA0CAgNAkKDgNAgIDQICA0CQoOA0CAgNAgIDQJCg4DQICA0CAgNAkKDgNAgMHYF6/LR46np3bHZ3PQXXMuLP838HU4+fzKyu0u8aBAQGgSEBgGhQUBoEBAaBIQGAaFBQGgQEBoEhAYBoUFAaBAQGgSEBgGhQUBoEBAaBIQGAaFBQGgQGLuCNWX//r2b/oT/7uzipr/gWm5dzFzt+vmd17e+eefrp1vfXGut9dffI7NeNAgIDQJCg4DQICA0CAgNAkKDgNAgIDQICA0CQoOA0CAgNAgIDQJCg4DQICA0CAgNAkKDgNAgIDQIjF3B2qlrVefPRmb/fPvNkd0/jg9Gdl86vRrZffWrJyO7u8SLBgGhQUBoEBAaBIQGAaFBQGgQEBoEhAYBoUFAaBAQGgSEBgGhQUBoEBAaBIQGAaFBQGgQEBoEhAaBsStYO+X4aGT21g/nI7tXm9sju0cPz0Z28aJBQmgQEBoEhAYBoUFAaBAQGgSEBgGhQUBoEBAaBIQGAaFBQGgQEBoEhAYBoUFAaBAQGgSEBoGx4zyXjx6P7O4dHg5svrL1zbXWujp8eWT34OL5yO7abGZmn/229c1/ft3+5lprbe6+NrLrRYOA0CAgNAgIDQJCg4DQICA0CAgNAkKDgNAgIDQICA0CQoOA0CAgNAgIDQJCg4DQICA0CAgNAkKDwNgVrP3796amt+7qpj/gmvZ++f2mP+FaJq6BbYYujE3xokFAaBAQGgSEBgGhQUBoEBAaBIQGAaFBQGgQEBoEhAYBoUFAaBAQGgSEBgGhQUBoEBAaBIQGAaFB4F9EcEjxldMClwAAAABJRU5ErkJggg==\" y=\"-6.64\"/>\n   </g>\n   <g id=\"matplotlib.axis_1\">\n    <g id=\"xtick_1\">\n     <g id=\"line2d_1\">\n      <defs>\n       <path d=\"M 0 0 \nL 0 3.5 \n\" id=\"m17987e4e02\" style=\"stroke:#000000;stroke-width:0.8;\"/>\n      </defs>\n      <g>\n       <use style=\"stroke:#000000;stroke-width:0.8;\" x=\"31.4345\" xlink:href=\"#m17987e4e02\" y=\"224.64\"/>\n      </g>\n     </g>\n     <g id=\"text_1\">\n      <!-- 0 -->\n      <g transform=\"translate(28.25325 239.238437)scale(0.1 -0.1)\">\n       <defs>\n        <path d=\"M 31.78125 66.40625 \nQ 24.171875 66.40625 20.328125 58.90625 \nQ 16.5 51.421875 16.5 36.375 \nQ 16.5 21.390625 20.328125 13.890625 \nQ 24.171875 6.390625 31.78125 6.390625 \nQ 39.453125 6.390625 43.28125 13.890625 \nQ 47.125 21.390625 47.125 36.375 \nQ 47.125 51.421875 43.28125 58.90625 \nQ 39.453125 66.40625 31.78125 66.40625 \nz\nM 31.78125 74.21875 \nQ 44.046875 74.21875 50.515625 64.515625 \nQ 56.984375 54.828125 56.984375 36.375 \nQ 56.984375 17.96875 50.515625 8.265625 \nQ 44.046875 -1.421875 31.78125 -1.421875 \nQ 19.53125 -1.421875 13.0625 8.265625 \nQ 6.59375 17.96875 6.59375 36.375 \nQ 6.59375 54.828125 13.0625 64.515625 \nQ 19.53125 74.21875 31.78125 74.21875 \nz\n\" id=\"DejaVuSans-48\"/>\n       </defs>\n       <use xlink:href=\"#DejaVuSans-48\"/>\n      </g>\n     </g>\n    </g>\n    <g id=\"xtick_2\">\n     <g id=\"line2d_2\">\n      <g>\n       <use style=\"stroke:#000000;stroke-width:0.8;\" x=\"74.9225\" xlink:href=\"#m17987e4e02\" y=\"224.64\"/>\n      </g>\n     </g>\n     <g id=\"text_2\">\n      <!-- 2 -->\n      <g transform=\"translate(71.74125 239.238437)scale(0.1 -0.1)\">\n       <defs>\n        <path d=\"M 19.1875 8.296875 \nL 53.609375 8.296875 \nL 53.609375 0 \nL 7.328125 0 \nL 7.328125 8.296875 \nQ 12.9375 14.109375 22.625 23.890625 \nQ 32.328125 33.6875 34.8125 36.53125 \nQ 39.546875 41.84375 41.421875 45.53125 \nQ 43.3125 49.21875 43.3125 52.78125 \nQ 43.3125 58.59375 39.234375 62.25 \nQ 35.15625 65.921875 28.609375 65.921875 \nQ 23.96875 65.921875 18.8125 64.3125 \nQ 13.671875 62.703125 7.8125 59.421875 \nL 7.8125 69.390625 \nQ 13.765625 71.78125 18.9375 73 \nQ 24.125 74.21875 28.421875 74.21875 \nQ 39.75 74.21875 46.484375 68.546875 \nQ 53.21875 62.890625 53.21875 53.421875 \nQ 53.21875 48.921875 51.53125 44.890625 \nQ 49.859375 40.875 45.40625 35.40625 \nQ 44.1875 33.984375 37.640625 27.21875 \nQ 31.109375 20.453125 19.1875 8.296875 \nz\n\" id=\"DejaVuSans-50\"/>\n       </defs>\n       <use xlink:href=\"#DejaVuSans-50\"/>\n      </g>\n     </g>\n    </g>\n    <g id=\"xtick_3\">\n     <g id=\"line2d_3\">\n      <g>\n       <use style=\"stroke:#000000;stroke-width:0.8;\" x=\"118.4105\" xlink:href=\"#m17987e4e02\" y=\"224.64\"/>\n      </g>\n     </g>\n     <g id=\"text_3\">\n      <!-- 4 -->\n      <g transform=\"translate(115.22925 239.238437)scale(0.1 -0.1)\">\n       <defs>\n        <path d=\"M 37.796875 64.3125 \nL 12.890625 25.390625 \nL 37.796875 25.390625 \nz\nM 35.203125 72.90625 \nL 47.609375 72.90625 \nL 47.609375 25.390625 \nL 58.015625 25.390625 \nL 58.015625 17.1875 \nL 47.609375 17.1875 \nL 47.609375 0 \nL 37.796875 0 \nL 37.796875 17.1875 \nL 4.890625 17.1875 \nL 4.890625 26.703125 \nz\n\" id=\"DejaVuSans-52\"/>\n       </defs>\n       <use xlink:href=\"#DejaVuSans-52\"/>\n      </g>\n     </g>\n    </g>\n    <g id=\"xtick_4\">\n     <g id=\"line2d_4\">\n      <g>\n       <use style=\"stroke:#000000;stroke-width:0.8;\" x=\"161.8985\" xlink:href=\"#m17987e4e02\" y=\"224.64\"/>\n      </g>\n     </g>\n     <g id=\"text_4\">\n      <!-- 6 -->\n      <g transform=\"translate(158.71725 239.238437)scale(0.1 -0.1)\">\n       <defs>\n        <path d=\"M 33.015625 40.375 \nQ 26.375 40.375 22.484375 35.828125 \nQ 18.609375 31.296875 18.609375 23.390625 \nQ 18.609375 15.53125 22.484375 10.953125 \nQ 26.375 6.390625 33.015625 6.390625 \nQ 39.65625 6.390625 43.53125 10.953125 \nQ 47.40625 15.53125 47.40625 23.390625 \nQ 47.40625 31.296875 43.53125 35.828125 \nQ 39.65625 40.375 33.015625 40.375 \nz\nM 52.59375 71.296875 \nL 52.59375 62.3125 \nQ 48.875 64.0625 45.09375 64.984375 \nQ 41.3125 65.921875 37.59375 65.921875 \nQ 27.828125 65.921875 22.671875 59.328125 \nQ 17.53125 52.734375 16.796875 39.40625 \nQ 19.671875 43.65625 24.015625 45.921875 \nQ 28.375 48.1875 33.59375 48.1875 \nQ 44.578125 48.1875 50.953125 41.515625 \nQ 57.328125 34.859375 57.328125 23.390625 \nQ 57.328125 12.15625 50.6875 5.359375 \nQ 44.046875 -1.421875 33.015625 -1.421875 \nQ 20.359375 -1.421875 13.671875 8.265625 \nQ 6.984375 17.96875 6.984375 36.375 \nQ 6.984375 53.65625 15.1875 63.9375 \nQ 23.390625 74.21875 37.203125 74.21875 \nQ 40.921875 74.21875 44.703125 73.484375 \nQ 48.484375 72.75 52.59375 71.296875 \nz\n\" id=\"DejaVuSans-54\"/>\n       </defs>\n       <use xlink:href=\"#DejaVuSans-54\"/>\n      </g>\n     </g>\n    </g>\n    <g id=\"xtick_5\">\n     <g id=\"line2d_5\">\n      <g>\n       <use style=\"stroke:#000000;stroke-width:0.8;\" x=\"205.3865\" xlink:href=\"#m17987e4e02\" y=\"224.64\"/>\n      </g>\n     </g>\n     <g id=\"text_5\">\n      <!-- 8 -->\n      <g transform=\"translate(202.20525 239.238437)scale(0.1 -0.1)\">\n       <defs>\n        <path d=\"M 31.78125 34.625 \nQ 24.75 34.625 20.71875 30.859375 \nQ 16.703125 27.09375 16.703125 20.515625 \nQ 16.703125 13.921875 20.71875 10.15625 \nQ 24.75 6.390625 31.78125 6.390625 \nQ 38.8125 6.390625 42.859375 10.171875 \nQ 46.921875 13.96875 46.921875 20.515625 \nQ 46.921875 27.09375 42.890625 30.859375 \nQ 38.875 34.625 31.78125 34.625 \nz\nM 21.921875 38.8125 \nQ 15.578125 40.375 12.03125 44.71875 \nQ 8.5 49.078125 8.5 55.328125 \nQ 8.5 64.0625 14.71875 69.140625 \nQ 20.953125 74.21875 31.78125 74.21875 \nQ 42.671875 74.21875 48.875 69.140625 \nQ 55.078125 64.0625 55.078125 55.328125 \nQ 55.078125 49.078125 51.53125 44.71875 \nQ 48 40.375 41.703125 38.8125 \nQ 48.828125 37.15625 52.796875 32.3125 \nQ 56.78125 27.484375 56.78125 20.515625 \nQ 56.78125 9.90625 50.3125 4.234375 \nQ 43.84375 -1.421875 31.78125 -1.421875 \nQ 19.734375 -1.421875 13.25 4.234375 \nQ 6.78125 9.90625 6.78125 20.515625 \nQ 6.78125 27.484375 10.78125 32.3125 \nQ 14.796875 37.15625 21.921875 38.8125 \nz\nM 18.3125 54.390625 \nQ 18.3125 48.734375 21.84375 45.5625 \nQ 25.390625 42.390625 31.78125 42.390625 \nQ 38.140625 42.390625 41.71875 45.5625 \nQ 45.3125 48.734375 45.3125 54.390625 \nQ 45.3125 60.0625 41.71875 63.234375 \nQ 38.140625 66.40625 31.78125 66.40625 \nQ 25.390625 66.40625 21.84375 63.234375 \nQ 18.3125 60.0625 18.3125 54.390625 \nz\n\" id=\"DejaVuSans-56\"/>\n       </defs>\n       <use xlink:href=\"#DejaVuSans-56\"/>\n      </g>\n     </g>\n    </g>\n   </g>\n   <g id=\"matplotlib.axis_2\">\n    <g id=\"ytick_1\">\n     <g id=\"line2d_6\">\n      <defs>\n       <path d=\"M 0 0 \nL -3.5 0 \n\" id=\"m828c35f1ed\" style=\"stroke:#000000;stroke-width:0.8;\"/>\n      </defs>\n      <g>\n       <use style=\"stroke:#000000;stroke-width:0.8;\" x=\"20.5625\" xlink:href=\"#m828c35f1ed\" y=\"18.072\"/>\n      </g>\n     </g>\n     <g id=\"text_6\">\n      <!-- 0 -->\n      <g transform=\"translate(7.2 21.871219)scale(0.1 -0.1)\">\n       <use xlink:href=\"#DejaVuSans-48\"/>\n      </g>\n     </g>\n    </g>\n    <g id=\"ytick_2\">\n     <g id=\"line2d_7\">\n      <g>\n       <use style=\"stroke:#000000;stroke-width:0.8;\" x=\"20.5625\" xlink:href=\"#m828c35f1ed\" y=\"61.56\"/>\n      </g>\n     </g>\n     <g id=\"text_7\">\n      <!-- 2 -->\n      <g transform=\"translate(7.2 65.359219)scale(0.1 -0.1)\">\n       <use xlink:href=\"#DejaVuSans-50\"/>\n      </g>\n     </g>\n    </g>\n    <g id=\"ytick_3\">\n     <g id=\"line2d_8\">\n      <g>\n       <use style=\"stroke:#000000;stroke-width:0.8;\" x=\"20.5625\" xlink:href=\"#m828c35f1ed\" y=\"105.048\"/>\n      </g>\n     </g>\n     <g id=\"text_8\">\n      <!-- 4 -->\n      <g transform=\"translate(7.2 108.847219)scale(0.1 -0.1)\">\n       <use xlink:href=\"#DejaVuSans-52\"/>\n      </g>\n     </g>\n    </g>\n    <g id=\"ytick_4\">\n     <g id=\"line2d_9\">\n      <g>\n       <use style=\"stroke:#000000;stroke-width:0.8;\" x=\"20.5625\" xlink:href=\"#m828c35f1ed\" y=\"148.536\"/>\n      </g>\n     </g>\n     <g id=\"text_9\">\n      <!-- 6 -->\n      <g transform=\"translate(7.2 152.335219)scale(0.1 -0.1)\">\n       <use xlink:href=\"#DejaVuSans-54\"/>\n      </g>\n     </g>\n    </g>\n    <g id=\"ytick_5\">\n     <g id=\"line2d_10\">\n      <g>\n       <use style=\"stroke:#000000;stroke-width:0.8;\" x=\"20.5625\" xlink:href=\"#m828c35f1ed\" y=\"192.024\"/>\n      </g>\n     </g>\n     <g id=\"text_10\">\n      <!-- 8 -->\n      <g transform=\"translate(7.2 195.823219)scale(0.1 -0.1)\">\n       <use xlink:href=\"#DejaVuSans-56\"/>\n      </g>\n     </g>\n    </g>\n   </g>\n   <g id=\"patch_3\">\n    <path d=\"M 20.5625 224.64 \nL 20.5625 7.2 \n\" style=\"fill:none;stroke:#000000;stroke-linecap:square;stroke-linejoin:miter;stroke-width:0.8;\"/>\n   </g>\n   <g id=\"patch_4\">\n    <path d=\"M 238.0025 224.64 \nL 238.0025 7.2 \n\" style=\"fill:none;stroke:#000000;stroke-linecap:square;stroke-linejoin:miter;stroke-width:0.8;\"/>\n   </g>\n   <g id=\"patch_5\">\n    <path d=\"M 20.5625 224.64 \nL 238.0025 224.64 \n\" style=\"fill:none;stroke:#000000;stroke-linecap:square;stroke-linejoin:miter;stroke-width:0.8;\"/>\n   </g>\n   <g id=\"patch_6\">\n    <path d=\"M 20.5625 7.2 \nL 238.0025 7.2 \n\" style=\"fill:none;stroke:#000000;stroke-linecap:square;stroke-linejoin:miter;stroke-width:0.8;\"/>\n   </g>\n  </g>\n </g>\n <defs>\n  <clipPath id=\"pf7c3274f4a\">\n   <rect height=\"217.44\" width=\"217.44\" x=\"20.5625\" y=\"7.2\"/>\n  </clipPath>\n </defs>\n</svg>\n",
      "image/png": "[encoded data removed]"
     },
     "metadata": {
      "needs_background": "light"
     }
    }
   ],
   "source": [
    "qm = QMaze(10)\n",
    "qm.display(debug=True)\n",
    "eg_policy = EGreedyPolicy(epsilon=0.7, decay=0.9)\n",
    "sarsa = Sarsa(policy=eg_policy, environment=qm, gamma=0.9, alpha=0.01)\n",
    "num_episodes = tqdm(range(1000))\n",
    "\n",
    "# Create structures to store data:\n",
    "all_all_rewards = []\n",
    "all_max_reward = []\n",
    "# all_mean_reward = []\n",
    "# all_var_reward = []\n",
    "\n",
    "for episode in num_episodes:\n",
    "\n",
    "    # train_sarsa_for_one_episode(environment=qm, q_learning_method=sarsa, policy=eg_policy)\n",
    "\n",
    "    if (episode % 10) == 0:\n",
    "        all_rewards, max_reward, mean_reward, var_reward = run_sarsa_experiments_special(environment=qm, policy=eg_policy, q_learning_method=sarsa, num_exp=100)\n",
    "        print('Episode: ', episode, ' ,starting epsilon: ',eg_policy.starting_epsilon,' ,epsilon: ',eg_policy.epsilon, ' , reward: ',  mean_reward, ' , var reward: ',  var_reward)\n",
    "        all_all_rewards.append(all_rewards)\n",
    "        all_max_reward.append(max_reward)\n",
    "        # all_mean_reward.append(mean_reward)\n",
    "        # all_var_reward.append(var_reward)\n",
    "    \n",
    "vals = sarsa.display_q_values()\n",
    "plt.imshow((vals - vals.min())/(vals.max() - vals.min()))\n",
    "plt.show()"
   ]
  },
  {
   "cell_type": "code",
   "execution_count": 17,
   "metadata": {},
   "outputs": [],
   "source": [
    "# n_environments_per_size=5\n",
    "# n_runs_per_environments=5\n",
    "# gamma = 0.9\n",
    "\n",
    "# mean_reward = []\n",
    "# std_reward = []\n",
    "    \n",
    "# for size_envir in range(5,50,5):\n",
    "\n",
    "#     # heuristics\n",
    "#     n_improvement_steps = size_envir\n",
    "#     n_steps_policy_eval = 10\n",
    "    \n",
    "#     total_rewards = []\n",
    "\n",
    "#     for n_envir in range(n_environments_per_size):\n",
    "\n",
    "#         dungeon = DungeonDP(size_envir)\n",
    "#         policy = Policy(dungeon, gamma)\n",
    "        \n",
    "#         for n_improvements in range(n_improvement_steps):\n",
    "    \n",
    "#             policy.policy_iteration(n_steps_policy_eval)\n",
    "\n",
    "#         all_total_rewards, _, _, _ = run_experiments(dungeon, policy, n_runs_per_environments)\n",
    "\n",
    "#         total_rewards += all_total_rewards\n",
    "\n",
    "#     mean_reward.append( np.mean(total_rewards) )\n",
    "#     std_reward.append( np.std(total_rewards) )\n",
    "\n",
    "# mean_reward = np.asarray(mean_reward)\n",
    "# std_reward = np.asarray(std_reward)\n",
    "\n",
    "# plt.plot(range(5, 50, 5), mean_reward, 'or')\n",
    "# plt.plot(range(5, 50, 5), mean_reward, color = 'r')\n",
    "# plt.fill_between(range(5, 50, 5), mean_reward - std_reward/2, mean_reward + std_reward/2,\n",
    "#              color='r', alpha=0.2)\n",
    "\n",
    "# plt.xlabel('Environment size')\n",
    "# plt.ylabel('Average reward')\n",
    "\n",
    "# plt.show()"
   ]
  },
  {
   "cell_type": "code",
   "execution_count": null,
   "metadata": {},
   "outputs": [],
   "source": []
  }
 ]
}