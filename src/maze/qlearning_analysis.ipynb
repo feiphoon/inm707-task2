{
 "metadata": {
  "language_info": {
   "codemirror_mode": {
    "name": "ipython",
    "version": 3
   },
   "file_extension": ".py",
   "mimetype": "text/x-python",
   "name": "python",
   "nbconvert_exporter": "python",
   "pygments_lexer": "ipython3",
   "version": "3.8.5"
  },
  "orig_nbformat": 2,
  "kernelspec": {
   "name": "python385jvsc74a57bd04cd5165088d7123c72a5486f42173f69b6a9502e50339e0cc6c0a980fed3743c",
   "display_name": "Python 3.8.5 64-bit"
  }
 },
 "nbformat": 4,
 "nbformat_minor": 2,
 "cells": [
  {
   "source": [
    "# Q-learning analysis"
   ],
   "cell_type": "markdown",
   "metadata": {}
  },
  {
   "cell_type": "code",
   "execution_count": 1,
   "metadata": {},
   "outputs": [],
   "source": [
    "import pandas as pd\n",
    "import matplotlib.pyplot as plt\n",
    "%matplotlib inline\n",
    "\n",
    "import seaborn as sns\n",
    "sns.set_style(\"whitegrid\")\n",
    "\n",
    "pd.set_option('display.max_rows', 10)\n",
    "pd.set_option('display.max_columns', 500)\n",
    "pd.set_option('display.width', 150)"
   ]
  },
  {
   "source": [
    "## Load learning results"
   ],
   "cell_type": "markdown",
   "metadata": {}
  },
  {
   "cell_type": "code",
   "execution_count": 6,
   "metadata": {},
   "outputs": [
    {
     "output_type": "execute_result",
     "data": {
      "text/plain": [
       "(87, 9)"
      ]
     },
     "metadata": {},
     "execution_count": 6
    }
   ],
   "source": [
    "results_df = pd.read_csv(\"results/20210411-041749/results_summary.csv\")\n",
    "results_df.head(3)\n",
    "results_df.shape"
   ]
  },
  {
   "cell_type": "code",
   "execution_count": 9,
   "metadata": {},
   "outputs": [],
   "source": [
    "# Drop any results from env_size 15 - leaving that for later\n",
    "results_df = results_df[results_df[\"env_size\"]==10]"
   ]
  },
  {
   "cell_type": "code",
   "execution_count": 10,
   "metadata": {},
   "outputs": [
    {
     "output_type": "execute_result",
     "data": {
      "text/plain": [
       "       env_size    epsilon      decay      gamma      alpha  experiment_max_rewards  experiment_min_turns_elapsed\n",
       "count      81.0  81.000000  81.000000  81.000000  81.000000               81.000000                     81.000000\n",
       "mean       10.0   0.700000   0.800000   0.800000   0.020000               28.078025                     20.400000\n",
       "std         0.0   0.082158   0.082158   0.082158   0.008216               50.851067                     13.506584\n",
       "min        10.0   0.600000   0.700000   0.700000   0.010000             -322.680000                     13.460000\n",
       "25%        10.0   0.600000   0.700000   0.700000   0.010000               29.580000                     15.920000\n",
       "50%        10.0   0.700000   0.800000   0.800000   0.020000               39.750000                     17.700000\n",
       "75%        10.0   0.800000   0.900000   0.900000   0.030000               45.090000                     20.310000\n",
       "max        10.0   0.800000   0.900000   0.900000   0.030000               55.920000                    114.690000"
      ],
      "text/html": "<div>\n<style scoped>\n    .dataframe tbody tr th:only-of-type {\n        vertical-align: middle;\n    }\n\n    .dataframe tbody tr th {\n        vertical-align: top;\n    }\n\n    .dataframe thead th {\n        text-align: right;\n    }\n</style>\n<table border=\"1\" class=\"dataframe\">\n  <thead>\n    <tr style=\"text-align: right;\">\n      <th></th>\n      <th>env_size</th>\n      <th>epsilon</th>\n      <th>decay</th>\n      <th>gamma</th>\n      <th>alpha</th>\n      <th>experiment_max_rewards</th>\n      <th>experiment_min_turns_elapsed</th>\n    </tr>\n  </thead>\n  <tbody>\n    <tr>\n      <th>count</th>\n      <td>81.0</td>\n      <td>81.000000</td>\n      <td>81.000000</td>\n      <td>81.000000</td>\n      <td>81.000000</td>\n      <td>81.000000</td>\n      <td>81.000000</td>\n    </tr>\n    <tr>\n      <th>mean</th>\n      <td>10.0</td>\n      <td>0.700000</td>\n      <td>0.800000</td>\n      <td>0.800000</td>\n      <td>0.020000</td>\n      <td>28.078025</td>\n      <td>20.400000</td>\n    </tr>\n    <tr>\n      <th>std</th>\n      <td>0.0</td>\n      <td>0.082158</td>\n      <td>0.082158</td>\n      <td>0.082158</td>\n      <td>0.008216</td>\n      <td>50.851067</td>\n      <td>13.506584</td>\n    </tr>\n    <tr>\n      <th>min</th>\n      <td>10.0</td>\n      <td>0.600000</td>\n      <td>0.700000</td>\n      <td>0.700000</td>\n      <td>0.010000</td>\n      <td>-322.680000</td>\n      <td>13.460000</td>\n    </tr>\n    <tr>\n      <th>25%</th>\n      <td>10.0</td>\n      <td>0.600000</td>\n      <td>0.700000</td>\n      <td>0.700000</td>\n      <td>0.010000</td>\n      <td>29.580000</td>\n      <td>15.920000</td>\n    </tr>\n    <tr>\n      <th>50%</th>\n      <td>10.0</td>\n      <td>0.700000</td>\n      <td>0.800000</td>\n      <td>0.800000</td>\n      <td>0.020000</td>\n      <td>39.750000</td>\n      <td>17.700000</td>\n    </tr>\n    <tr>\n      <th>75%</th>\n      <td>10.0</td>\n      <td>0.800000</td>\n      <td>0.900000</td>\n      <td>0.900000</td>\n      <td>0.030000</td>\n      <td>45.090000</td>\n      <td>20.310000</td>\n    </tr>\n    <tr>\n      <th>max</th>\n      <td>10.0</td>\n      <td>0.800000</td>\n      <td>0.900000</td>\n      <td>0.900000</td>\n      <td>0.030000</td>\n      <td>55.920000</td>\n      <td>114.690000</td>\n    </tr>\n  </tbody>\n</table>\n</div>"
     },
     "metadata": {},
     "execution_count": 10
    }
   ],
   "source": [
    "results_df.describe()"
   ]
  },
  {
   "source": [
    "## Analyse learning results"
   ],
   "cell_type": "markdown",
   "metadata": {}
  },
  {
   "cell_type": "code",
   "execution_count": null,
   "metadata": {},
   "outputs": [],
   "source": []
  }
 ]
}