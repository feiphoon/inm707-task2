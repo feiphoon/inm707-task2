{
 "metadata": {
  "language_info": {
   "codemirror_mode": {
    "name": "ipython",
    "version": 3
   },
   "file_extension": ".py",
   "mimetype": "text/x-python",
   "name": "python",
   "nbconvert_exporter": "python",
   "pygments_lexer": "ipython3",
   "version": "3.8.5"
  },
  "orig_nbformat": 2,
  "kernelspec": {
   "name": "python385jvsc74a57bd04cd5165088d7123c72a5486f42173f69b6a9502e50339e0cc6c0a980fed3743c",
   "display_name": "Python 3.8.5 64-bit"
  }
 },
 "nbformat": 4,
 "nbformat_minor": 2,
 "cells": [
  {
   "source": [
    "# Q-Learning experiment runner"
   ],
   "cell_type": "markdown",
   "metadata": {}
  },
  {
   "source": [
    "## Imports"
   ],
   "cell_type": "markdown",
   "metadata": {}
  },
  {
   "cell_type": "code",
   "execution_count": 1,
   "metadata": {},
   "outputs": [],
   "source": [
    "%%capture\n",
    "!pip install tqdm"
   ]
  },
  {
   "cell_type": "code",
   "execution_count": 16,
   "metadata": {},
   "outputs": [],
   "source": [
    "from IPython.display import clear_output\n",
    "import matplotlib.pyplot as plt\n",
    "%matplotlib inline\n",
    "import seaborn as sns\n",
    "sns.set_style(\"whitegrid\")\n",
    "\n",
    "from tqdm import tqdm\n",
    "import numpy as np\n",
    "import pandas as pd\n",
    "import os\n",
    "from operator import itemgetter\n",
    "from contextlib import redirect_stdout\n",
    "from datetime import datetime\n",
    "\n",
    "from typing import Tuple, Any"
   ]
  },
  {
   "cell_type": "code",
   "execution_count": 3,
   "metadata": {},
   "outputs": [],
   "source": [
    "from q_maze import QMaze, Action\n",
    "from e_greedy_policy import EGreedyPolicy\n",
    "from qlearning import QLearning\n",
    "\n",
    "from qlearning_exp_functions import Results, train_ql_for_one_episode, run_ql_experiments\n",
    "from utils import stringify_dict, preprocess_hyperparameters_filename"
   ]
  },
  {
   "source": [
    "## Smoke test for QMaze, EGreedyPolicy and running on one episode"
   ],
   "cell_type": "markdown",
   "metadata": {}
  },
  {
   "cell_type": "code",
   "execution_count": 10,
   "metadata": {},
   "outputs": [],
   "source": [
    "qm = QMaze(10)\n",
    "# Reminder that QMaze.reset only returns agent state now.\n",
    "# Be careful to capture the state when resetting, because the \n",
    "# Agent/entrance will move!\n",
    "state = qm.reset()\n",
    "eg_policy = EGreedyPolicy(epsilon=0.5, decay=0.9)\n",
    "ql = QLearning(policy=eg_policy, environment=qm, gamma=0.9, alpha=0.01)\n"
   ]
  },
  {
   "cell_type": "code",
   "execution_count": 11,
   "metadata": {
    "tags": []
   },
   "outputs": [
    {
     "output_type": "stream",
     "name": "stdout",
     "text": [
      "X X X X X X X X X X \nX . . X A . X X . X \nX X . X X . . . . X \nX . . . X X X . X X \nX X X . X . X . . X \nX . . . X . . . X X \nX X X . X X X . . X \nX . . . . . X . X X \nX . X . X . . . . X \nX X X X X X X X O X \n\n{'maze_width': 10, 'maze_height': 10, 'size': 10, 'has_treasure': False, 'treasure_found': 0, 'treasure_left': 0, 'treasure_map': [], 'position_agent': (1, 4), 'position_entrance': (1, 4), 'position_exit': (9, 8), 'maze': array([[1, 1, 1, 1, 1, 1, 1, 1, 1, 1],\n       [1, 0, 0, 1, 2, 0, 1, 1, 0, 1],\n       [1, 1, 0, 1, 1, 0, 0, 0, 0, 1],\n       [1, 0, 0, 0, 1, 1, 1, 0, 1, 1],\n       [1, 1, 1, 0, 1, 0, 1, 0, 0, 1],\n       [1, 0, 0, 0, 1, 0, 0, 0, 1, 1],\n       [1, 1, 1, 0, 1, 1, 1, 0, 0, 1],\n       [1, 0, 0, 0, 0, 0, 1, 0, 1, 1],\n       [1, 0, 1, 0, 1, 0, 0, 0, 0, 1],\n       [1, 1, 1, 1, 1, 1, 1, 1, 3, 1]]), 'generation_start_coords': (8, 7), 'generation_start_neighbours': [], 'turns_elapsed': 0, 'done': False, 'coord_to_index_state': array([[27, 46, 95, 50, 74, 84, 90,  0, 37, 97],\n       [21, 24, 94, 39, 44, 88,  2, 30, 99, 11],\n       [13, 72, 76, 54, 51, 58, 93, 79, 20, 73],\n       [89, 71, 87, 48, 69, 60, 64, 65, 61, 78],\n       [26, 35, 62, 14, 56, 42, 80, 53, 36, 83],\n       [49, 98, 31, 77, 18, 16, 59, 10, 43, 67],\n       [66, 34,  9,  8, 63,  7, 33, 47, 32,  3],\n       [52,  1, 96, 82, 19, 85, 68, 29, 12, 92],\n       [22, 91, 70,  6,  5, 15, 55, 17, 57, 25],\n       [41, 75, 45, 40, 38, 28, 86,  4, 81, 23]]), 'prob_of_slipping': [0.1, 0.1, 0.1, 0.1, 0.6]}\n"
     ]
    }
   ],
   "source": [
    "qm.display(debug=True)"
   ]
  },
  {
   "source": [
    "### One iteration to check policy is working with QLearning"
   ],
   "cell_type": "markdown",
   "metadata": {}
  },
  {
   "cell_type": "code",
   "execution_count": 12,
   "metadata": {},
   "outputs": [
    {
     "output_type": "stream",
     "name": "stdout",
     "text": [
      "113\n-480\n"
     ]
    },
    {
     "output_type": "display_data",
     "data": {
      "text/plain": "<Figure size 432x288 with 2 Axes>",
      "image/svg+xml": "<?xml version=\"1.0\" encoding=\"utf-8\" standalone=\"no\"?>\n<!DOCTYPE svg PUBLIC \"-//W3C//DTD SVG 1.1//EN\"\n  \"http://www.w3.org/Graphics/SVG/1.1/DTD/svg11.dtd\">\n<!-- Created with matplotlib (https://matplotlib.org/) -->\n<svg height=\"251.564219pt\" version=\"1.1\" viewBox=\"0 0 292.912937 251.564219\" width=\"292.912937pt\" xmlns=\"http://www.w3.org/2000/svg\" xmlns:xlink=\"http://www.w3.org/1999/xlink\">\n <metadata>\n  <rdf:RDF xmlns:cc=\"http://creativecommons.org/ns#\" xmlns:dc=\"http://purl.org/dc/elements/1.1/\" xmlns:rdf=\"http://www.w3.org/1999/02/22-rdf-syntax-ns#\">\n   <cc:Work>\n    <dc:type rdf:resource=\"http://purl.org/dc/dcmitype/StillImage\"/>\n    <dc:date>2021-04-10T21:47:15.412611</dc:date>\n    <dc:format>image/svg+xml</dc:format>\n    <dc:creator>\n     <cc:Agent>\n      <dc:title>Matplotlib v3.3.4, https://matplotlib.org/</dc:title>\n     </cc:Agent>\n    </dc:creator>\n   </cc:Work>\n  </rdf:RDF>\n </metadata>\n <defs>\n  <style type=\"text/css\">*{stroke-linecap:butt;stroke-linejoin:round;}</style>\n </defs>\n <g id=\"figure_1\">\n  <g id=\"patch_1\">\n   <path d=\"M 0 251.564219 \nL 292.912937 251.564219 \nL 292.912937 0 \nL 0 0 \nz\n\" style=\"fill:#ffffff;\"/>\n  </g>\n  <g id=\"axes_1\">\n   <g id=\"patch_2\">\n    <path d=\"M 19.760938 228.218906 \nL 237.200937 228.218906 \nL 237.200937 10.778906 \nL 19.760938 10.778906 \nz\n\" style=\"fill:#ffffff;\"/>\n   </g>\n   <g clip-path=\"url(#p978b9c0ead)\">\n    <image height=\"218\" id=\"image02dac698ff\" transform=\"scale(1 -1)translate(0 -218)\" width=\"218\" x=\"19.760938\" xlink:href=\"data:image/png;base64,\niVBORw0KGgoAAAANSUhEUgAAANoAAADaCAYAAADAHVzbAAADL0lEQVR4nO3cMYoTYRyH4cxmA8paWAiyYGNt5d5hQfAIHmbPZOERPIOVtY3FForBkIxnCMz3jtHnOcCPr5iXfzfT/d3DvAGGulr7AfA/EBoEhAYBoUFAaBAQGgSEBgGhQUBoEBAaBIQGAaFBQGgQEBoEhAYBoUFAaBAQGgSEBgGhQUBoELhe+wGcbzoc137CWa5+/lp889Pnj4tvbjabzbv3H4bsumgQEBoEhAYBoUFAaBAQGgSEBgGhQUBoEBAaBIQGAaFBQGgQEBoEhAYBoUFAaBAQGgSEBgGhQUBoEJju7x7mtR8B/zoXDQJCg4DQICA0CAgNAkKDgNAgIDQICA0CQoOA0CAgNAgIDQJCg4DQICA0CAgNAkKDgNAgIDQICA0CQoOA0CAgNAgIDQJCg4DQICA0CAgNAkKDgNAgIDQICA0CQoOA0CAgNAgIDQJCg4DQICA0CAgNAkKDwPXaD+B805evQ3avbl8O2T3dPF18c95tF98cyUWDgNAgIDQICA0CQoOA0CAgNAgIDQJCg4DQICA0CAgNAkKDgNAgIDQICA0CQoOA0CAgNAgIDQJCg4C/YF2g034/ZHd+/mzILi4aJIQGAaFBQGgQEBoEhAYBoUFAaBAQGgSEBgGhQUBoEBAaBIQGAaFBQGgQEBoEhAYBoUFAaBAQGgT8BesCTW/frP2Es0yH4+Kb8267+OZILhoEhAYBoUFAaBAQGgSEBgGhQUBoEBAaBIQGAaFBQGgQEBoEhAYBoUFAaBAQGgSEBgGhQUBoEBAaBPwF6wJtH38M2Z13l/M5TL8PQ3ZPN0+G7LpoEBAaBIQGAaFBQGgQEBoEhAYBoUFAaBAQGgSEBgGhQUBoEBAaBIQGAaFBQGgQEBoEhAYBoUHgcv7GcoG2374P2Z33+yG7p9evhuziokFCaBAQGgSEBgGhQUBoEBAaBIQGAaFBQGgQEBoEhAYBoUFAaBAQGgSEBgGhQUBoEBAaBIQGAaFBwF+wBjrevlj7CfwlXDQICA0CQoOA0CAgNAgIDQJCg4DQICA0CAgNAkKDgNAgIDQICA0CQoOA0CAgNAgIDQJCg4DQICA0CPwBOOAlMeNW6+wAAAAASUVORK5CYII=\" y=\"-10.218906\"/>\n   </g>\n   <g id=\"matplotlib.axis_1\">\n    <g id=\"xtick_1\">\n     <g id=\"text_1\">\n      <!-- 0 -->\n      <g style=\"fill:#262626;\" transform=\"translate(27.852469 242.376719)scale(0.1 -0.1)\">\n       <defs>\n        <path d=\"M 4.15625 35.296875 \nQ 4.15625 48 6.765625 55.734375 \nQ 9.375 63.484375 14.515625 67.671875 \nQ 19.671875 71.875 27.484375 71.875 \nQ 33.25 71.875 37.59375 69.546875 \nQ 41.9375 67.234375 44.765625 62.859375 \nQ 47.609375 58.5 49.21875 52.21875 \nQ 50.828125 45.953125 50.828125 35.296875 \nQ 50.828125 22.703125 48.234375 14.96875 \nQ 45.65625 7.234375 40.5 3 \nQ 35.359375 -1.21875 27.484375 -1.21875 \nQ 17.140625 -1.21875 11.234375 6.203125 \nQ 4.15625 15.140625 4.15625 35.296875 \nz\nM 13.1875 35.296875 \nQ 13.1875 17.671875 17.3125 11.828125 \nQ 21.4375 6 27.484375 6 \nQ 33.546875 6 37.671875 11.859375 \nQ 41.796875 17.71875 41.796875 35.296875 \nQ 41.796875 52.984375 37.671875 58.78125 \nQ 33.546875 64.59375 27.390625 64.59375 \nQ 21.34375 64.59375 17.71875 59.46875 \nQ 13.1875 52.9375 13.1875 35.296875 \nz\n\" id=\"ArialMT-48\"/>\n       </defs>\n       <use xlink:href=\"#ArialMT-48\"/>\n      </g>\n     </g>\n    </g>\n    <g id=\"xtick_2\">\n     <g id=\"text_2\">\n      <!-- 2 -->\n      <g style=\"fill:#262626;\" transform=\"translate(71.340469 242.376719)scale(0.1 -0.1)\">\n       <defs>\n        <path d=\"M 50.34375 8.453125 \nL 50.34375 0 \nL 3.03125 0 \nQ 2.9375 3.171875 4.046875 6.109375 \nQ 5.859375 10.9375 9.828125 15.625 \nQ 13.8125 20.3125 21.34375 26.46875 \nQ 33.015625 36.03125 37.109375 41.625 \nQ 41.21875 47.21875 41.21875 52.203125 \nQ 41.21875 57.421875 37.46875 61 \nQ 33.734375 64.59375 27.734375 64.59375 \nQ 21.390625 64.59375 17.578125 60.78125 \nQ 13.765625 56.984375 13.71875 50.25 \nL 4.6875 51.171875 \nQ 5.609375 61.28125 11.65625 66.578125 \nQ 17.71875 71.875 27.9375 71.875 \nQ 38.234375 71.875 44.234375 66.15625 \nQ 50.25 60.453125 50.25 52 \nQ 50.25 47.703125 48.484375 43.546875 \nQ 46.734375 39.40625 42.65625 34.8125 \nQ 38.578125 30.21875 29.109375 22.21875 \nQ 21.1875 15.578125 18.9375 13.203125 \nQ 16.703125 10.84375 15.234375 8.453125 \nz\n\" id=\"ArialMT-50\"/>\n       </defs>\n       <use xlink:href=\"#ArialMT-50\"/>\n      </g>\n     </g>\n    </g>\n    <g id=\"xtick_3\">\n     <g id=\"text_3\">\n      <!-- 4 -->\n      <g style=\"fill:#262626;\" transform=\"translate(114.828469 242.376719)scale(0.1 -0.1)\">\n       <defs>\n        <path d=\"M 32.328125 0 \nL 32.328125 17.140625 \nL 1.265625 17.140625 \nL 1.265625 25.203125 \nL 33.9375 71.578125 \nL 41.109375 71.578125 \nL 41.109375 25.203125 \nL 50.78125 25.203125 \nL 50.78125 17.140625 \nL 41.109375 17.140625 \nL 41.109375 0 \nz\nM 32.328125 25.203125 \nL 32.328125 57.46875 \nL 9.90625 25.203125 \nz\n\" id=\"ArialMT-52\"/>\n       </defs>\n       <use xlink:href=\"#ArialMT-52\"/>\n      </g>\n     </g>\n    </g>\n    <g id=\"xtick_4\">\n     <g id=\"text_4\">\n      <!-- 6 -->\n      <g style=\"fill:#262626;\" transform=\"translate(158.316469 242.376719)scale(0.1 -0.1)\">\n       <defs>\n        <path d=\"M 49.75 54.046875 \nL 41.015625 53.375 \nQ 39.84375 58.546875 37.703125 60.890625 \nQ 34.125 64.65625 28.90625 64.65625 \nQ 24.703125 64.65625 21.53125 62.3125 \nQ 17.390625 59.28125 14.984375 53.46875 \nQ 12.59375 47.65625 12.5 36.921875 \nQ 15.671875 41.75 20.265625 44.09375 \nQ 24.859375 46.4375 29.890625 46.4375 \nQ 38.671875 46.4375 44.84375 39.96875 \nQ 51.03125 33.5 51.03125 23.25 \nQ 51.03125 16.5 48.125 10.71875 \nQ 45.21875 4.9375 40.140625 1.859375 \nQ 35.0625 -1.21875 28.609375 -1.21875 \nQ 17.625 -1.21875 10.6875 6.859375 \nQ 3.765625 14.9375 3.765625 33.5 \nQ 3.765625 54.25 11.421875 63.671875 \nQ 18.109375 71.875 29.4375 71.875 \nQ 37.890625 71.875 43.28125 67.140625 \nQ 48.6875 62.40625 49.75 54.046875 \nz\nM 13.875 23.1875 \nQ 13.875 18.65625 15.796875 14.5 \nQ 17.71875 10.359375 21.1875 8.171875 \nQ 24.65625 6 28.46875 6 \nQ 34.03125 6 38.03125 10.484375 \nQ 42.046875 14.984375 42.046875 22.703125 \nQ 42.046875 30.125 38.078125 34.390625 \nQ 34.125 38.671875 28.125 38.671875 \nQ 22.171875 38.671875 18.015625 34.390625 \nQ 13.875 30.125 13.875 23.1875 \nz\n\" id=\"ArialMT-54\"/>\n       </defs>\n       <use xlink:href=\"#ArialMT-54\"/>\n      </g>\n     </g>\n    </g>\n    <g id=\"xtick_5\">\n     <g id=\"text_5\">\n      <!-- 8 -->\n      <g style=\"fill:#262626;\" transform=\"translate(201.804469 242.376719)scale(0.1 -0.1)\">\n       <defs>\n        <path d=\"M 17.671875 38.8125 \nQ 12.203125 40.828125 9.5625 44.53125 \nQ 6.9375 48.25 6.9375 53.421875 \nQ 6.9375 61.234375 12.546875 66.546875 \nQ 18.171875 71.875 27.484375 71.875 \nQ 36.859375 71.875 42.578125 66.421875 \nQ 48.296875 60.984375 48.296875 53.171875 \nQ 48.296875 48.1875 45.671875 44.5 \nQ 43.0625 40.828125 37.75 38.8125 \nQ 44.34375 36.671875 47.78125 31.875 \nQ 51.21875 27.09375 51.21875 20.453125 \nQ 51.21875 11.28125 44.71875 5.03125 \nQ 38.234375 -1.21875 27.640625 -1.21875 \nQ 17.046875 -1.21875 10.546875 5.046875 \nQ 4.046875 11.328125 4.046875 20.703125 \nQ 4.046875 27.6875 7.59375 32.390625 \nQ 11.140625 37.109375 17.671875 38.8125 \nz\nM 15.921875 53.71875 \nQ 15.921875 48.640625 19.1875 45.40625 \nQ 22.46875 42.1875 27.6875 42.1875 \nQ 32.765625 42.1875 36.015625 45.375 \nQ 39.265625 48.578125 39.265625 53.21875 \nQ 39.265625 58.0625 35.90625 61.359375 \nQ 32.5625 64.65625 27.59375 64.65625 \nQ 22.5625 64.65625 19.234375 61.421875 \nQ 15.921875 58.203125 15.921875 53.71875 \nz\nM 13.09375 20.65625 \nQ 13.09375 16.890625 14.875 13.375 \nQ 16.65625 9.859375 20.171875 7.921875 \nQ 23.6875 6 27.734375 6 \nQ 34.03125 6 38.125 10.046875 \nQ 42.234375 14.109375 42.234375 20.359375 \nQ 42.234375 26.703125 38.015625 30.859375 \nQ 33.796875 35.015625 27.4375 35.015625 \nQ 21.234375 35.015625 17.15625 30.90625 \nQ 13.09375 26.8125 13.09375 20.65625 \nz\n\" id=\"ArialMT-56\"/>\n       </defs>\n       <use xlink:href=\"#ArialMT-56\"/>\n      </g>\n     </g>\n    </g>\n   </g>\n   <g id=\"matplotlib.axis_2\">\n    <g id=\"ytick_1\">\n     <g id=\"text_6\">\n      <!-- 0 -->\n      <g style=\"fill:#262626;\" transform=\"translate(7.2 25.229812)scale(0.1 -0.1)\">\n       <use xlink:href=\"#ArialMT-48\"/>\n      </g>\n     </g>\n    </g>\n    <g id=\"ytick_2\">\n     <g id=\"text_7\">\n      <!-- 2 -->\n      <g style=\"fill:#262626;\" transform=\"translate(7.2 68.717812)scale(0.1 -0.1)\">\n       <use xlink:href=\"#ArialMT-50\"/>\n      </g>\n     </g>\n    </g>\n    <g id=\"ytick_3\">\n     <g id=\"text_8\">\n      <!-- 4 -->\n      <g style=\"fill:#262626;\" transform=\"translate(7.2 112.205812)scale(0.1 -0.1)\">\n       <use xlink:href=\"#ArialMT-52\"/>\n      </g>\n     </g>\n    </g>\n    <g id=\"ytick_4\">\n     <g id=\"text_9\">\n      <!-- 6 -->\n      <g style=\"fill:#262626;\" transform=\"translate(7.2 155.693812)scale(0.1 -0.1)\">\n       <use xlink:href=\"#ArialMT-54\"/>\n      </g>\n     </g>\n    </g>\n    <g id=\"ytick_5\">\n     <g id=\"text_10\">\n      <!-- 8 -->\n      <g style=\"fill:#262626;\" transform=\"translate(7.2 199.181812)scale(0.1 -0.1)\">\n       <use xlink:href=\"#ArialMT-56\"/>\n      </g>\n     </g>\n    </g>\n   </g>\n   <g id=\"patch_3\">\n    <path d=\"M 19.760938 228.218906 \nL 19.760938 10.778906 \n\" style=\"fill:none;stroke:#cccccc;stroke-linecap:square;stroke-linejoin:miter;stroke-width:0.8;\"/>\n   </g>\n   <g id=\"patch_4\">\n    <path d=\"M 237.200937 228.218906 \nL 237.200937 10.778906 \n\" style=\"fill:none;stroke:#cccccc;stroke-linecap:square;stroke-linejoin:miter;stroke-width:0.8;\"/>\n   </g>\n   <g id=\"patch_5\">\n    <path d=\"M 19.760938 228.218906 \nL 237.200938 228.218906 \n\" style=\"fill:none;stroke:#cccccc;stroke-linecap:square;stroke-linejoin:miter;stroke-width:0.8;\"/>\n   </g>\n   <g id=\"patch_6\">\n    <path d=\"M 19.760938 10.778906 \nL 237.200938 10.778906 \n\" style=\"fill:none;stroke:#cccccc;stroke-linecap:square;stroke-linejoin:miter;stroke-width:0.8;\"/>\n   </g>\n  </g>\n  <g id=\"axes_2\">\n   <g id=\"patch_7\">\n    <path clip-path=\"url(#p576f1e4d0f)\" d=\"M 253.940938 228.218906 \nL 253.940938 227.369531 \nL 253.940938 11.628281 \nL 253.940938 10.778906 \nL 264.812937 10.778906 \nL 264.812937 11.628281 \nL 264.812937 227.369531 \nL 264.812937 228.218906 \nz\n\" style=\"fill:#ffffff;stroke:#ffffff;stroke-linejoin:miter;stroke-width:0.01;\"/>\n   </g>\n   <g id=\"matplotlib.axis_3\"/>\n   <g id=\"matplotlib.axis_4\">\n    <g id=\"ytick_6\">\n     <g id=\"line2d_1\">\n      <defs>\n       <path d=\"M 0 0 \nL 3.5 0 \n\" id=\"m2f75797b65\" style=\"stroke:#262626;stroke-width:0.8;\"/>\n      </defs>\n      <g>\n       <use style=\"fill:#262626;stroke:#262626;stroke-width:0.8;\" x=\"264.812937\" xlink:href=\"#m2f75797b65\" y=\"228.218906\"/>\n      </g>\n     </g>\n     <g id=\"text_11\">\n      <!-- 0.0 -->\n      <g style=\"fill:#262626;\" transform=\"translate(271.812937 231.797812)scale(0.1 -0.1)\">\n       <defs>\n        <path d=\"M 9.078125 0 \nL 9.078125 10.015625 \nL 19.09375 10.015625 \nL 19.09375 0 \nz\n\" id=\"ArialMT-46\"/>\n       </defs>\n       <use xlink:href=\"#ArialMT-48\"/>\n       <use x=\"55.615234\" xlink:href=\"#ArialMT-46\"/>\n       <use x=\"83.398438\" xlink:href=\"#ArialMT-48\"/>\n      </g>\n     </g>\n    </g>\n    <g id=\"ytick_7\">\n     <g id=\"line2d_2\">\n      <g>\n       <use style=\"fill:#262626;stroke:#262626;stroke-width:0.8;\" x=\"264.812937\" xlink:href=\"#m2f75797b65\" y=\"184.730906\"/>\n      </g>\n     </g>\n     <g id=\"text_12\">\n      <!-- 0.2 -->\n      <g style=\"fill:#262626;\" transform=\"translate(271.812937 188.309812)scale(0.1 -0.1)\">\n       <use xlink:href=\"#ArialMT-48\"/>\n       <use x=\"55.615234\" xlink:href=\"#ArialMT-46\"/>\n       <use x=\"83.398438\" xlink:href=\"#ArialMT-50\"/>\n      </g>\n     </g>\n    </g>\n    <g id=\"ytick_8\">\n     <g id=\"line2d_3\">\n      <g>\n       <use style=\"fill:#262626;stroke:#262626;stroke-width:0.8;\" x=\"264.812937\" xlink:href=\"#m2f75797b65\" y=\"141.242906\"/>\n      </g>\n     </g>\n     <g id=\"text_13\">\n      <!-- 0.4 -->\n      <g style=\"fill:#262626;\" transform=\"translate(271.812937 144.821812)scale(0.1 -0.1)\">\n       <use xlink:href=\"#ArialMT-48\"/>\n       <use x=\"55.615234\" xlink:href=\"#ArialMT-46\"/>\n       <use x=\"83.398438\" xlink:href=\"#ArialMT-52\"/>\n      </g>\n     </g>\n    </g>\n    <g id=\"ytick_9\">\n     <g id=\"line2d_4\">\n      <g>\n       <use style=\"fill:#262626;stroke:#262626;stroke-width:0.8;\" x=\"264.812937\" xlink:href=\"#m2f75797b65\" y=\"97.754906\"/>\n      </g>\n     </g>\n     <g id=\"text_14\">\n      <!-- 0.6 -->\n      <g style=\"fill:#262626;\" transform=\"translate(271.812937 101.333812)scale(0.1 -0.1)\">\n       <use xlink:href=\"#ArialMT-48\"/>\n       <use x=\"55.615234\" xlink:href=\"#ArialMT-46\"/>\n       <use x=\"83.398438\" xlink:href=\"#ArialMT-54\"/>\n      </g>\n     </g>\n    </g>\n    <g id=\"ytick_10\">\n     <g id=\"line2d_5\">\n      <g>\n       <use style=\"fill:#262626;stroke:#262626;stroke-width:0.8;\" x=\"264.812937\" xlink:href=\"#m2f75797b65\" y=\"54.266906\"/>\n      </g>\n     </g>\n     <g id=\"text_15\">\n      <!-- 0.8 -->\n      <g style=\"fill:#262626;\" transform=\"translate(271.812937 57.845812)scale(0.1 -0.1)\">\n       <use xlink:href=\"#ArialMT-48\"/>\n       <use x=\"55.615234\" xlink:href=\"#ArialMT-46\"/>\n       <use x=\"83.398438\" xlink:href=\"#ArialMT-56\"/>\n      </g>\n     </g>\n    </g>\n    <g id=\"ytick_11\">\n     <g id=\"line2d_6\">\n      <g>\n       <use style=\"fill:#262626;stroke:#262626;stroke-width:0.8;\" x=\"264.812937\" xlink:href=\"#m2f75797b65\" y=\"10.778906\"/>\n      </g>\n     </g>\n     <g id=\"text_16\">\n      <!-- 1.0 -->\n      <g style=\"fill:#262626;\" transform=\"translate(271.812937 14.357812)scale(0.1 -0.1)\">\n       <defs>\n        <path d=\"M 37.25 0 \nL 28.46875 0 \nL 28.46875 56 \nQ 25.296875 52.984375 20.140625 49.953125 \nQ 14.984375 46.921875 10.890625 45.40625 \nL 10.890625 53.90625 \nQ 18.265625 57.375 23.78125 62.296875 \nQ 29.296875 67.234375 31.59375 71.875 \nL 37.25 71.875 \nz\n\" id=\"ArialMT-49\"/>\n       </defs>\n       <use xlink:href=\"#ArialMT-49\"/>\n       <use x=\"55.615234\" xlink:href=\"#ArialMT-46\"/>\n       <use x=\"83.398438\" xlink:href=\"#ArialMT-48\"/>\n      </g>\n     </g>\n    </g>\n   </g>\n   <image height=\"218\" id=\"image62b6e41c3f\" transform=\"scale(1 -1)translate(0 -218)\" width=\"11\" x=\"254\" xlink:href=\"data:image/png;base64,\niVBORw0KGgoAAAANSUhEUgAAAAsAAADaCAYAAABwzrisAAABaElEQVR4nO2aMW7EMAwERVLKy/KE/P8llyhtSk4xAB2c6wWxnKVpn3zxGV93Na+9IrvataMKiDP6YmRjscpAjBpcSTwTG6jB8NChBj0anpjRQLMxo0EkLpDgZZzb2jE0bs2wMYPz1eb5ep77WnjDeqGwyqRBRAPGDSpDzqTyA2nABi10t/9ke2aDzDO7YTUbYoMjOI+hMcLGFBr/vvI77r+V2dsXqWx5Bo4fOhtm3O2ToWfOs0aDTZ1JQ0uQrQLLhkcDnJOpnJF4WTaCrILQaIBXfho3Eae2GJENUNhsMDXOUNzWQs8VPxNssARRgwkaTLJkPM+eeJO4h3hmYpLgzu8JNiANkOBhcVuzUYyGZeOEFXctDR2iQTiffAEbWoJeZRQ3StALBVYG4g82/ChBhA5tUSuUs8hsePPsNeglqD3aUGUkPmzq+tcG38bXLvB7idk45K8v0AYQF/luleCchdk4sdtidJz1CyI3gWiDlzgyAAAAAElFTkSuQmCC\" y=\"-10\"/>\n   <g id=\"patch_8\">\n    <path d=\"M 253.940938 228.218906 \nL 253.940938 227.369531 \nL 253.940938 11.628281 \nL 253.940938 10.778906 \nL 264.812937 10.778906 \nL 264.812937 11.628281 \nL 264.812937 227.369531 \nL 264.812937 228.218906 \nz\n\" style=\"fill:none;stroke:#cccccc;stroke-linejoin:miter;stroke-width:0.8;\"/>\n   </g>\n  </g>\n </g>\n <defs>\n  <clipPath id=\"p978b9c0ead\">\n   <rect height=\"217.44\" width=\"217.44\" x=\"19.760938\" y=\"10.778906\"/>\n  </clipPath>\n  <clipPath id=\"p576f1e4d0f\">\n   <rect height=\"217.44\" width=\"10.872\" x=\"253.940938\" y=\"10.778906\"/>\n  </clipPath>\n </defs>\n</svg>\n",
      "image/png": "[encoded data removed]"
     },
     "metadata": {}
    }
   ],
   "source": [
    "done = False\n",
    "total_reward = 0\n",
    "\n",
    "while not done:\n",
    "    next_action = eg_policy(state, ql.q_value_store)\n",
    "    next_state, reward, done = qm.step(next_action)\n",
    "    next_action_index = next_action.value.index\n",
    "    \n",
    "    ql.update_q_values(\n",
    "        current_state=state,\n",
    "        next_action=next_action_index,\n",
    "        next_reward=reward,\n",
    "        next_state=next_state\n",
    "    )\n",
    "\n",
    "    eg_policy.update_epsilon()\n",
    "    state = next_state\n",
    "    total_reward += reward\n",
    "\n",
    "print(qm.turns_elapsed)\n",
    "print(total_reward)\n",
    "vals = ql.display_q_values()\n",
    "plt.imshow((vals - vals.min())/(vals.max() - vals.min()), cmap=\"viridis\")\n",
    "plt.colorbar()\n",
    "plt.grid(False)\n",
    "plt.show();"
   ]
  },
  {
   "cell_type": "code",
   "execution_count": 15,
   "metadata": {},
   "outputs": [
    {
     "output_type": "stream",
     "name": "stdout",
     "text": [
      "X X X X X X X X X X \nX . . X I . X X . X \nX X . X X . . . . X \nX . . . X X X . X X \nX X X . X . X . . X \nX . . . X . . . X X \nX X X . X X X . . X \nX . . . . . X . X X \nX . X . X . . . . X \nX X X X X X X X A X \n\n"
     ]
    }
   ],
   "source": [
    "# The maze is solved\n",
    "qm.display()"
   ]
  },
  {
   "source": [
    "## Run for more episodes\n",
    "\n",
    "Parameterise:\n",
    "- epsilon for e-greedy\n",
    "- gamma - discount factor\n",
    "- alpha - learning rate or memory\n",
    "- size of maze\n",
    "- max reward\n",
    "- decay - constant decay of epsilon"
   ],
   "cell_type": "markdown",
   "metadata": {}
  },
  {
   "cell_type": "code",
   "execution_count": 4,
   "metadata": {},
   "outputs": [],
   "source": [
    "# Some plotting functions which must live here\n",
    "# because of notebook functionality.\n",
    "def plot_mean_rewards_episodes(episode_idx: int, experiment_mean_rewards: list):\n",
    "    clear_output(True)\n",
    "    plt.figure(figsize=(20,5))\n",
    "    plt.subplot(131)\n",
    "    plt.title(f\"Last mean reward of {experiment_mean_rewards[-1]} after {episode_idx} episodes\")\n",
    "    plt.xlabel(\"Per 100 episodes\")\n",
    "    plt.ylabel(\"Mean reward\")\n",
    "    plt.plot(experiment_mean_rewards)\n",
    "    plt.show()\n",
    "\n",
    "def plot_turns_elapsed_episodes(episode_idx: int, experiment_mean_turns_elapsed: list):\n",
    "    clear_output(True)\n",
    "    plt.figure(figsize=(20,5))\n",
    "    plt.subplot(131)\n",
    "    plt.title(f\"Last turns elapsed of {experiment_mean_turns_elapsed[-1]} after {episode_idx} episodes\")\n",
    "    plt.xlabel(\"Per 100 episodes\")\n",
    "    plt.ylabel(\"Mean turns elapsed\")\n",
    "    plt.plot(experiment_mean_turns_elapsed)\n",
    "    plt.show()"
   ]
  },
  {
   "cell_type": "code",
   "execution_count": 5,
   "metadata": {},
   "outputs": [
    {
     "output_type": "stream",
     "name": "stderr",
     "text": [
      "  0%|          | 0/100 [00:00<?, ?it/s]\n"
     ]
    },
    {
     "output_type": "error",
     "ename": "TypeError",
     "evalue": "run_ql_experiments() missing 1 required positional argument: 'hyperparameter_dict'",
     "traceback": [
      "\u001b[0;31m---------------------------------------------------------------------------\u001b[0m",
      "\u001b[0;31mTypeError\u001b[0m                                 Traceback (most recent call last)",
      "\u001b[0;32m<ipython-input-5-be056813bb82>\u001b[0m in \u001b[0;36m<module>\u001b[0;34m\u001b[0m\n\u001b[1;32m     18\u001b[0m \u001b[0;32mfor\u001b[0m \u001b[0mrun\u001b[0m \u001b[0;32min\u001b[0m \u001b[0mNUM_RUNS_TQDM\u001b[0m\u001b[0;34m:\u001b[0m\u001b[0;34m\u001b[0m\u001b[0;34m\u001b[0m\u001b[0m\n\u001b[1;32m     19\u001b[0m     \u001b[0;32mif\u001b[0m \u001b[0;34m(\u001b[0m\u001b[0;34m(\u001b[0m\u001b[0mrun\u001b[0m \u001b[0;34m%\u001b[0m \u001b[0mLOGGING_STEP_SIZE\u001b[0m\u001b[0;34m)\u001b[0m \u001b[0;34m==\u001b[0m \u001b[0;36m0\u001b[0m\u001b[0;34m)\u001b[0m \u001b[0;32mor\u001b[0m \u001b[0;34m(\u001b[0m\u001b[0mrun\u001b[0m \u001b[0;34m==\u001b[0m \u001b[0;36m1\u001b[0m\u001b[0;34m)\u001b[0m\u001b[0;34m:\u001b[0m\u001b[0;34m\u001b[0m\u001b[0;34m\u001b[0m\u001b[0m\n\u001b[0;32m---> 20\u001b[0;31m         \u001b[0mresults\u001b[0m \u001b[0;34m=\u001b[0m \u001b[0mrun_ql_experiments\u001b[0m\u001b[0;34m(\u001b[0m\u001b[0menvironment\u001b[0m\u001b[0;34m=\u001b[0m\u001b[0mqm\u001b[0m\u001b[0;34m,\u001b[0m \u001b[0mpolicy\u001b[0m\u001b[0;34m=\u001b[0m\u001b[0meg_policy\u001b[0m\u001b[0;34m,\u001b[0m \u001b[0mq_learning_method\u001b[0m\u001b[0;34m=\u001b[0m\u001b[0mql\u001b[0m\u001b[0;34m,\u001b[0m \u001b[0mnum_episodes\u001b[0m\u001b[0;34m=\u001b[0m\u001b[0mNUM_LOGGED_EPISODES\u001b[0m\u001b[0;34m)\u001b[0m\u001b[0;34m\u001b[0m\u001b[0;34m\u001b[0m\u001b[0m\n\u001b[0m\u001b[1;32m     21\u001b[0m         \u001b[0mprint\u001b[0m\u001b[0;34m(\u001b[0m\u001b[0;34mf\"Run: {run}, ending epsilon: {eg_policy.epsilon}, mean reward: {results.mean_reward}, mean turns elapsed: {results.mean_turns_elapsed}, std reward: {results.var_reward}\"\u001b[0m\u001b[0;34m)\u001b[0m\u001b[0;34m\u001b[0m\u001b[0;34m\u001b[0m\u001b[0m\n\u001b[1;32m     22\u001b[0m         \u001b[0mall_results\u001b[0m\u001b[0;34m.\u001b[0m\u001b[0mappend\u001b[0m\u001b[0;34m(\u001b[0m\u001b[0mresults\u001b[0m\u001b[0;34m)\u001b[0m\u001b[0;34m\u001b[0m\u001b[0;34m\u001b[0m\u001b[0m\n",
      "\u001b[0;31mTypeError\u001b[0m: run_ql_experiments() missing 1 required positional argument: 'hyperparameter_dict'"
     ]
    }
   ],
   "source": [
    "qm = QMaze(10)\n",
    "eg_policy = EGreedyPolicy(epsilon=0.6, decay=0.9)\n",
    "ql = QLearning(policy=eg_policy, environment=qm, gamma=0.9, alpha=0.01)\n",
    "\n",
    "LOGGING_STEP_SIZE: int = 10\n",
    "NUM_EPISODES: int = 1000\n",
    "NUM_RUNS: int = 100\n",
    "NUM_RUNS_TQDM = tqdm(range(NUM_RUNS))\n",
    "NUM_LOGGED_EPISODES: int = 1000//LOGGING_STEP_SIZE\n",
    "\n",
    "# Create structure to store data\n",
    "all_results: list = []\n",
    "\n",
    "# Plot rewards and turns elapsed\n",
    "experiment_mean_rewards: list = []\n",
    "experiment_mean_turns_elapsed: list = []\n",
    "\n",
    "for run in NUM_RUNS_TQDM:\n",
    "    if ((run % LOGGING_STEP_SIZE) == 0) or (run == 1):\n",
    "        results = run_ql_experiments(environment=qm, policy=eg_policy, q_learning_method=ql, num_episodes=NUM_LOGGED_EPISODES)\n",
    "        print(f\"Run: {run}, ending epsilon: {eg_policy.epsilon}, mean reward: {results.mean_reward}, mean turns elapsed: {results.mean_turns_elapsed}, std reward: {results.var_reward}\")\n",
    "        all_results.append(results)\n",
    "        experiment_mean_rewards.append(results.mean_reward)\n",
    "        experiment_mean_turns_elapsed.append(results.mean_turns_elapsed)\n",
    "\n",
    "        # Plot mean turns elapsed live\n",
    "        plt.plot(experiment_mean_turns_elapsed);\n",
    "        plt.title(f\"Mean turns elapsed for {NUM_EPISODES} episodes\");\n",
    "        plt.xlabel(f\"Per {NUM_LOGGED_EPISODES} episodes\");\n",
    "        plt.ylabel(\"Mean turns elapsed\");\n",
    "        plt.ylim([0, 1000]);\n",
    "        plt.xlim([0, LOGGING_STEP_SIZE]);\n",
    "\n"
   ]
  },
  {
   "cell_type": "code",
   "execution_count": 10,
   "metadata": {},
   "outputs": [
    {
     "output_type": "stream",
     "name": "stdout",
     "text": [
      "X X X X X X X X X X \nX X X . . . X A . X \nX X . . X . . . X X \nX . . X X X X . X X \nX X X X . . . . . X \nX . . . . X X . X X \nX X X X X X . . . X \nX X X X X X . X . X \nX . . . . . . X . X \nX X X X X X X X O X \n\n"
     ]
    },
    {
     "output_type": "display_data",
     "data": {
      "text/plain": "<Figure size 432x288 with 2 Axes>",
      "image/svg+xml": "<?xml version=\"1.0\" encoding=\"utf-8\" standalone=\"no\"?>\n<!DOCTYPE svg PUBLIC \"-//W3C//DTD SVG 1.1//EN\"\n  \"http://www.w3.org/Graphics/SVG/1.1/DTD/svg11.dtd\">\n<!-- Created with matplotlib (https://matplotlib.org/) -->\n<svg height=\"251.564219pt\" version=\"1.1\" viewBox=\"0 0 292.912937 251.564219\" width=\"292.912937pt\" xmlns=\"http://www.w3.org/2000/svg\" xmlns:xlink=\"http://www.w3.org/1999/xlink\">\n <metadata>\n  <rdf:RDF xmlns:cc=\"http://creativecommons.org/ns#\" xmlns:dc=\"http://purl.org/dc/elements/1.1/\" xmlns:rdf=\"http://www.w3.org/1999/02/22-rdf-syntax-ns#\">\n   <cc:Work>\n    <dc:type rdf:resource=\"http://purl.org/dc/dcmitype/StillImage\"/>\n    <dc:date>2021-04-10T21:52:28.584471</dc:date>\n    <dc:format>image/svg+xml</dc:format>\n    <dc:creator>\n     <cc:Agent>\n      <dc:title>Matplotlib v3.3.4, https://matplotlib.org/</dc:title>\n     </cc:Agent>\n    </dc:creator>\n   </cc:Work>\n  </rdf:RDF>\n </metadata>\n <defs>\n  <style type=\"text/css\">*{stroke-linecap:butt;stroke-linejoin:round;}</style>\n </defs>\n <g id=\"figure_1\">\n  <g id=\"patch_1\">\n   <path d=\"M 0 251.564219 \nL 292.912937 251.564219 \nL 292.912937 0 \nL 0 0 \nz\n\" style=\"fill:#ffffff;\"/>\n  </g>\n  <g id=\"axes_1\">\n   <g id=\"patch_2\">\n    <path d=\"M 19.760938 228.218906 \nL 237.200937 228.218906 \nL 237.200937 10.778906 \nL 19.760938 10.778906 \nz\n\" style=\"fill:#ffffff;\"/>\n   </g>\n   <g clip-path=\"url(#p5449530e5f)\">\n    <image height=\"218\" id=\"imageb6198b5b2c\" transform=\"scale(1 -1)translate(0 -218)\" width=\"218\" x=\"19.760938\" xlink:href=\"data:image/png;base64,\niVBORw0KGgoAAAANSUhEUgAAANoAAADaCAYAAADAHVzbAAAD30lEQVR4nO3czY7kYxiH4bc6ZUy6LXQaG2sSImx9LIkjsBenMVtHYikRB+AAsCWzQsJGiIT2kWkTSpdjkPyfe1JxXQfwS6Uqd727Z/fmG+8fFzDq7FF/APg/EBoEhAYBoUFAaBAQGgSEBgGhQUBoEBAaBIQGAaFBQGgQEBoEhAYBoUFAaBAQGgSEBgGhQUBoENhPDe8OtzO7J3Sz67ib2T2l72CttW4f2/7//JOPPth8c6213n7n3ZFdLxoEhAYBoUFAaBAQGgSEBgGhQUBoEBAaBIQGAaFBQGgQEBoEhAYBoUFAaBAQGgSEBgGhQUBoEBAaBMauYB33Mw2f2AGoEVPfwdnfM5fLJlz/c/OoP8J/4kWDgNAgIDQICA0CQoOA0CAgNAgIDQJCg4DQICA0CAgNAkKDgNAgIDQICA0CQoOA0CAgNAgIDQJjx3k4Pb+8+MTI7jPvfbf55od/PLf55iQvGgSEBgGhQUBoEBAaBIQGAaFBQGgQEBoEhAYBoUFAaBAQGgSEBgGhQUBoEBAaBIQGAaFBQGgQEBoExq5g7a9vZoZvjzO7J+RwdTGy++TXM7/ZNz89tfnmx/fe2nxzkhcNAkKDgNAgIDQICA0CQoOA0CAgNAgIDQJCg4DQICA0CAgNAkKDgNAgIDQICA0CQoOA0CAgNAgIDQJjV7AOl+dT0ydj//ODmd1f/xzZ/f2Fy5Hd41fb/58/ePZ288211rr4/uHIrhcNAkKDgNAgIDQICA0CQoOA0CAgNAgIDQJCg4DQICA0CAgNAkKDgNAgIDQICA0CQoOA0CAgNAgIDQJjV7B2n305M3w8bj/5+iubb6611uHqYmR3yvkPMxeg9s9v/z1MXaua4kWDgNAgIDQICA0CQoOA0CAgNAgIDQJCg4DQICA0CAgNAkKDgNAgIDQICA0CQoOA0CAgNAgIDQJCg8DYFazjay+P7O4+/eIkNteau661u93+Ethaaz18+u7I7vmPM5/3lHjRICA0CAgNAkKDgNAgIDQICA0CQoOA0CAgNAgIDQJCg4DQICA0CAgNAkKDgNAgIDQICA0CQoPA2HGeKRMHb3af3998c6219ve/HdndXV2O7D5+thvZ3R3ubL65v77ZfHOttQ6X5yO7XjQICA0CQoOA0CAgNAgIDQJCg4DQICA0CAgNAkKDgNAgIDQICA0CQoOA0CAgNAgIDQJCg4DQICA0CJzcFawJx1dfGtk9jKyenju//bX55tS1qileNAgIDQJCg4DQICA0CAgNAkKDgNAgIDQICA0CQoOA0CAgNAgIDQJCg4DQICA0CAgNAkKDgNAgIDQI/AuP9FJlXSiivAAAAABJRU5ErkJggg==\" y=\"-10.218906\"/>\n   </g>\n   <g id=\"matplotlib.axis_1\">\n    <g id=\"xtick_1\">\n     <g id=\"text_1\">\n      <!-- 0 -->\n      <g style=\"fill:#262626;\" transform=\"translate(27.852469 242.376719)scale(0.1 -0.1)\">\n       <defs>\n        <path d=\"M 4.15625 35.296875 \nQ 4.15625 48 6.765625 55.734375 \nQ 9.375 63.484375 14.515625 67.671875 \nQ 19.671875 71.875 27.484375 71.875 \nQ 33.25 71.875 37.59375 69.546875 \nQ 41.9375 67.234375 44.765625 62.859375 \nQ 47.609375 58.5 49.21875 52.21875 \nQ 50.828125 45.953125 50.828125 35.296875 \nQ 50.828125 22.703125 48.234375 14.96875 \nQ 45.65625 7.234375 40.5 3 \nQ 35.359375 -1.21875 27.484375 -1.21875 \nQ 17.140625 -1.21875 11.234375 6.203125 \nQ 4.15625 15.140625 4.15625 35.296875 \nz\nM 13.1875 35.296875 \nQ 13.1875 17.671875 17.3125 11.828125 \nQ 21.4375 6 27.484375 6 \nQ 33.546875 6 37.671875 11.859375 \nQ 41.796875 17.71875 41.796875 35.296875 \nQ 41.796875 52.984375 37.671875 58.78125 \nQ 33.546875 64.59375 27.390625 64.59375 \nQ 21.34375 64.59375 17.71875 59.46875 \nQ 13.1875 52.9375 13.1875 35.296875 \nz\n\" id=\"ArialMT-48\"/>\n       </defs>\n       <use xlink:href=\"#ArialMT-48\"/>\n      </g>\n     </g>\n    </g>\n    <g id=\"xtick_2\">\n     <g id=\"text_2\">\n      <!-- 2 -->\n      <g style=\"fill:#262626;\" transform=\"translate(71.340469 242.376719)scale(0.1 -0.1)\">\n       <defs>\n        <path d=\"M 50.34375 8.453125 \nL 50.34375 0 \nL 3.03125 0 \nQ 2.9375 3.171875 4.046875 6.109375 \nQ 5.859375 10.9375 9.828125 15.625 \nQ 13.8125 20.3125 21.34375 26.46875 \nQ 33.015625 36.03125 37.109375 41.625 \nQ 41.21875 47.21875 41.21875 52.203125 \nQ 41.21875 57.421875 37.46875 61 \nQ 33.734375 64.59375 27.734375 64.59375 \nQ 21.390625 64.59375 17.578125 60.78125 \nQ 13.765625 56.984375 13.71875 50.25 \nL 4.6875 51.171875 \nQ 5.609375 61.28125 11.65625 66.578125 \nQ 17.71875 71.875 27.9375 71.875 \nQ 38.234375 71.875 44.234375 66.15625 \nQ 50.25 60.453125 50.25 52 \nQ 50.25 47.703125 48.484375 43.546875 \nQ 46.734375 39.40625 42.65625 34.8125 \nQ 38.578125 30.21875 29.109375 22.21875 \nQ 21.1875 15.578125 18.9375 13.203125 \nQ 16.703125 10.84375 15.234375 8.453125 \nz\n\" id=\"ArialMT-50\"/>\n       </defs>\n       <use xlink:href=\"#ArialMT-50\"/>\n      </g>\n     </g>\n    </g>\n    <g id=\"xtick_3\">\n     <g id=\"text_3\">\n      <!-- 4 -->\n      <g style=\"fill:#262626;\" transform=\"translate(114.828469 242.376719)scale(0.1 -0.1)\">\n       <defs>\n        <path d=\"M 32.328125 0 \nL 32.328125 17.140625 \nL 1.265625 17.140625 \nL 1.265625 25.203125 \nL 33.9375 71.578125 \nL 41.109375 71.578125 \nL 41.109375 25.203125 \nL 50.78125 25.203125 \nL 50.78125 17.140625 \nL 41.109375 17.140625 \nL 41.109375 0 \nz\nM 32.328125 25.203125 \nL 32.328125 57.46875 \nL 9.90625 25.203125 \nz\n\" id=\"ArialMT-52\"/>\n       </defs>\n       <use xlink:href=\"#ArialMT-52\"/>\n      </g>\n     </g>\n    </g>\n    <g id=\"xtick_4\">\n     <g id=\"text_4\">\n      <!-- 6 -->\n      <g style=\"fill:#262626;\" transform=\"translate(158.316469 242.376719)scale(0.1 -0.1)\">\n       <defs>\n        <path d=\"M 49.75 54.046875 \nL 41.015625 53.375 \nQ 39.84375 58.546875 37.703125 60.890625 \nQ 34.125 64.65625 28.90625 64.65625 \nQ 24.703125 64.65625 21.53125 62.3125 \nQ 17.390625 59.28125 14.984375 53.46875 \nQ 12.59375 47.65625 12.5 36.921875 \nQ 15.671875 41.75 20.265625 44.09375 \nQ 24.859375 46.4375 29.890625 46.4375 \nQ 38.671875 46.4375 44.84375 39.96875 \nQ 51.03125 33.5 51.03125 23.25 \nQ 51.03125 16.5 48.125 10.71875 \nQ 45.21875 4.9375 40.140625 1.859375 \nQ 35.0625 -1.21875 28.609375 -1.21875 \nQ 17.625 -1.21875 10.6875 6.859375 \nQ 3.765625 14.9375 3.765625 33.5 \nQ 3.765625 54.25 11.421875 63.671875 \nQ 18.109375 71.875 29.4375 71.875 \nQ 37.890625 71.875 43.28125 67.140625 \nQ 48.6875 62.40625 49.75 54.046875 \nz\nM 13.875 23.1875 \nQ 13.875 18.65625 15.796875 14.5 \nQ 17.71875 10.359375 21.1875 8.171875 \nQ 24.65625 6 28.46875 6 \nQ 34.03125 6 38.03125 10.484375 \nQ 42.046875 14.984375 42.046875 22.703125 \nQ 42.046875 30.125 38.078125 34.390625 \nQ 34.125 38.671875 28.125 38.671875 \nQ 22.171875 38.671875 18.015625 34.390625 \nQ 13.875 30.125 13.875 23.1875 \nz\n\" id=\"ArialMT-54\"/>\n       </defs>\n       <use xlink:href=\"#ArialMT-54\"/>\n      </g>\n     </g>\n    </g>\n    <g id=\"xtick_5\">\n     <g id=\"text_5\">\n      <!-- 8 -->\n      <g style=\"fill:#262626;\" transform=\"translate(201.804469 242.376719)scale(0.1 -0.1)\">\n       <defs>\n        <path d=\"M 17.671875 38.8125 \nQ 12.203125 40.828125 9.5625 44.53125 \nQ 6.9375 48.25 6.9375 53.421875 \nQ 6.9375 61.234375 12.546875 66.546875 \nQ 18.171875 71.875 27.484375 71.875 \nQ 36.859375 71.875 42.578125 66.421875 \nQ 48.296875 60.984375 48.296875 53.171875 \nQ 48.296875 48.1875 45.671875 44.5 \nQ 43.0625 40.828125 37.75 38.8125 \nQ 44.34375 36.671875 47.78125 31.875 \nQ 51.21875 27.09375 51.21875 20.453125 \nQ 51.21875 11.28125 44.71875 5.03125 \nQ 38.234375 -1.21875 27.640625 -1.21875 \nQ 17.046875 -1.21875 10.546875 5.046875 \nQ 4.046875 11.328125 4.046875 20.703125 \nQ 4.046875 27.6875 7.59375 32.390625 \nQ 11.140625 37.109375 17.671875 38.8125 \nz\nM 15.921875 53.71875 \nQ 15.921875 48.640625 19.1875 45.40625 \nQ 22.46875 42.1875 27.6875 42.1875 \nQ 32.765625 42.1875 36.015625 45.375 \nQ 39.265625 48.578125 39.265625 53.21875 \nQ 39.265625 58.0625 35.90625 61.359375 \nQ 32.5625 64.65625 27.59375 64.65625 \nQ 22.5625 64.65625 19.234375 61.421875 \nQ 15.921875 58.203125 15.921875 53.71875 \nz\nM 13.09375 20.65625 \nQ 13.09375 16.890625 14.875 13.375 \nQ 16.65625 9.859375 20.171875 7.921875 \nQ 23.6875 6 27.734375 6 \nQ 34.03125 6 38.125 10.046875 \nQ 42.234375 14.109375 42.234375 20.359375 \nQ 42.234375 26.703125 38.015625 30.859375 \nQ 33.796875 35.015625 27.4375 35.015625 \nQ 21.234375 35.015625 17.15625 30.90625 \nQ 13.09375 26.8125 13.09375 20.65625 \nz\n\" id=\"ArialMT-56\"/>\n       </defs>\n       <use xlink:href=\"#ArialMT-56\"/>\n      </g>\n     </g>\n    </g>\n   </g>\n   <g id=\"matplotlib.axis_2\">\n    <g id=\"ytick_1\">\n     <g id=\"text_6\">\n      <!-- 0 -->\n      <g style=\"fill:#262626;\" transform=\"translate(7.2 25.229812)scale(0.1 -0.1)\">\n       <use xlink:href=\"#ArialMT-48\"/>\n      </g>\n     </g>\n    </g>\n    <g id=\"ytick_2\">\n     <g id=\"text_7\">\n      <!-- 2 -->\n      <g style=\"fill:#262626;\" transform=\"translate(7.2 68.717812)scale(0.1 -0.1)\">\n       <use xlink:href=\"#ArialMT-50\"/>\n      </g>\n     </g>\n    </g>\n    <g id=\"ytick_3\">\n     <g id=\"text_8\">\n      <!-- 4 -->\n      <g style=\"fill:#262626;\" transform=\"translate(7.2 112.205812)scale(0.1 -0.1)\">\n       <use xlink:href=\"#ArialMT-52\"/>\n      </g>\n     </g>\n    </g>\n    <g id=\"ytick_4\">\n     <g id=\"text_9\">\n      <!-- 6 -->\n      <g style=\"fill:#262626;\" transform=\"translate(7.2 155.693812)scale(0.1 -0.1)\">\n       <use xlink:href=\"#ArialMT-54\"/>\n      </g>\n     </g>\n    </g>\n    <g id=\"ytick_5\">\n     <g id=\"text_10\">\n      <!-- 8 -->\n      <g style=\"fill:#262626;\" transform=\"translate(7.2 199.181812)scale(0.1 -0.1)\">\n       <use xlink:href=\"#ArialMT-56\"/>\n      </g>\n     </g>\n    </g>\n   </g>\n   <g id=\"patch_3\">\n    <path d=\"M 19.760938 228.218906 \nL 19.760938 10.778906 \n\" style=\"fill:none;stroke:#cccccc;stroke-linecap:square;stroke-linejoin:miter;stroke-width:0.8;\"/>\n   </g>\n   <g id=\"patch_4\">\n    <path d=\"M 237.200937 228.218906 \nL 237.200937 10.778906 \n\" style=\"fill:none;stroke:#cccccc;stroke-linecap:square;stroke-linejoin:miter;stroke-width:0.8;\"/>\n   </g>\n   <g id=\"patch_5\">\n    <path d=\"M 19.760938 228.218906 \nL 237.200938 228.218906 \n\" style=\"fill:none;stroke:#cccccc;stroke-linecap:square;stroke-linejoin:miter;stroke-width:0.8;\"/>\n   </g>\n   <g id=\"patch_6\">\n    <path d=\"M 19.760938 10.778906 \nL 237.200938 10.778906 \n\" style=\"fill:none;stroke:#cccccc;stroke-linecap:square;stroke-linejoin:miter;stroke-width:0.8;\"/>\n   </g>\n  </g>\n  <g id=\"axes_2\">\n   <g id=\"patch_7\">\n    <path clip-path=\"url(#pad89297cf6)\" d=\"M 253.940938 228.218906 \nL 253.940938 227.369531 \nL 253.940938 11.628281 \nL 253.940938 10.778906 \nL 264.812937 10.778906 \nL 264.812937 11.628281 \nL 264.812937 227.369531 \nL 264.812937 228.218906 \nz\n\" style=\"fill:#ffffff;stroke:#ffffff;stroke-linejoin:miter;stroke-width:0.01;\"/>\n   </g>\n   <g id=\"matplotlib.axis_3\"/>\n   <g id=\"matplotlib.axis_4\">\n    <g id=\"ytick_6\">\n     <g id=\"line2d_1\">\n      <defs>\n       <path d=\"M 0 0 \nL 3.5 0 \n\" id=\"m4267e5c05b\" style=\"stroke:#262626;stroke-width:0.8;\"/>\n      </defs>\n      <g>\n       <use style=\"fill:#262626;stroke:#262626;stroke-width:0.8;\" x=\"264.812937\" xlink:href=\"#m4267e5c05b\" y=\"228.218906\"/>\n      </g>\n     </g>\n     <g id=\"text_11\">\n      <!-- 0.0 -->\n      <g style=\"fill:#262626;\" transform=\"translate(271.812937 231.797812)scale(0.1 -0.1)\">\n       <defs>\n        <path d=\"M 9.078125 0 \nL 9.078125 10.015625 \nL 19.09375 10.015625 \nL 19.09375 0 \nz\n\" id=\"ArialMT-46\"/>\n       </defs>\n       <use xlink:href=\"#ArialMT-48\"/>\n       <use x=\"55.615234\" xlink:href=\"#ArialMT-46\"/>\n       <use x=\"83.398438\" xlink:href=\"#ArialMT-48\"/>\n      </g>\n     </g>\n    </g>\n    <g id=\"ytick_7\">\n     <g id=\"line2d_2\">\n      <g>\n       <use style=\"fill:#262626;stroke:#262626;stroke-width:0.8;\" x=\"264.812937\" xlink:href=\"#m4267e5c05b\" y=\"184.730906\"/>\n      </g>\n     </g>\n     <g id=\"text_12\">\n      <!-- 0.2 -->\n      <g style=\"fill:#262626;\" transform=\"translate(271.812937 188.309812)scale(0.1 -0.1)\">\n       <use xlink:href=\"#ArialMT-48\"/>\n       <use x=\"55.615234\" xlink:href=\"#ArialMT-46\"/>\n       <use x=\"83.398438\" xlink:href=\"#ArialMT-50\"/>\n      </g>\n     </g>\n    </g>\n    <g id=\"ytick_8\">\n     <g id=\"line2d_3\">\n      <g>\n       <use style=\"fill:#262626;stroke:#262626;stroke-width:0.8;\" x=\"264.812937\" xlink:href=\"#m4267e5c05b\" y=\"141.242906\"/>\n      </g>\n     </g>\n     <g id=\"text_13\">\n      <!-- 0.4 -->\n      <g style=\"fill:#262626;\" transform=\"translate(271.812937 144.821812)scale(0.1 -0.1)\">\n       <use xlink:href=\"#ArialMT-48\"/>\n       <use x=\"55.615234\" xlink:href=\"#ArialMT-46\"/>\n       <use x=\"83.398438\" xlink:href=\"#ArialMT-52\"/>\n      </g>\n     </g>\n    </g>\n    <g id=\"ytick_9\">\n     <g id=\"line2d_4\">\n      <g>\n       <use style=\"fill:#262626;stroke:#262626;stroke-width:0.8;\" x=\"264.812937\" xlink:href=\"#m4267e5c05b\" y=\"97.754906\"/>\n      </g>\n     </g>\n     <g id=\"text_14\">\n      <!-- 0.6 -->\n      <g style=\"fill:#262626;\" transform=\"translate(271.812937 101.333812)scale(0.1 -0.1)\">\n       <use xlink:href=\"#ArialMT-48\"/>\n       <use x=\"55.615234\" xlink:href=\"#ArialMT-46\"/>\n       <use x=\"83.398438\" xlink:href=\"#ArialMT-54\"/>\n      </g>\n     </g>\n    </g>\n    <g id=\"ytick_10\">\n     <g id=\"line2d_5\">\n      <g>\n       <use style=\"fill:#262626;stroke:#262626;stroke-width:0.8;\" x=\"264.812937\" xlink:href=\"#m4267e5c05b\" y=\"54.266906\"/>\n      </g>\n     </g>\n     <g id=\"text_15\">\n      <!-- 0.8 -->\n      <g style=\"fill:#262626;\" transform=\"translate(271.812937 57.845812)scale(0.1 -0.1)\">\n       <use xlink:href=\"#ArialMT-48\"/>\n       <use x=\"55.615234\" xlink:href=\"#ArialMT-46\"/>\n       <use x=\"83.398438\" xlink:href=\"#ArialMT-56\"/>\n      </g>\n     </g>\n    </g>\n    <g id=\"ytick_11\">\n     <g id=\"line2d_6\">\n      <g>\n       <use style=\"fill:#262626;stroke:#262626;stroke-width:0.8;\" x=\"264.812937\" xlink:href=\"#m4267e5c05b\" y=\"10.778906\"/>\n      </g>\n     </g>\n     <g id=\"text_16\">\n      <!-- 1.0 -->\n      <g style=\"fill:#262626;\" transform=\"translate(271.812937 14.357812)scale(0.1 -0.1)\">\n       <defs>\n        <path d=\"M 37.25 0 \nL 28.46875 0 \nL 28.46875 56 \nQ 25.296875 52.984375 20.140625 49.953125 \nQ 14.984375 46.921875 10.890625 45.40625 \nL 10.890625 53.90625 \nQ 18.265625 57.375 23.78125 62.296875 \nQ 29.296875 67.234375 31.59375 71.875 \nL 37.25 71.875 \nz\n\" id=\"ArialMT-49\"/>\n       </defs>\n       <use xlink:href=\"#ArialMT-49\"/>\n       <use x=\"55.615234\" xlink:href=\"#ArialMT-46\"/>\n       <use x=\"83.398438\" xlink:href=\"#ArialMT-48\"/>\n      </g>\n     </g>\n    </g>\n   </g>\n   <image height=\"218\" id=\"image6d503ecbda\" transform=\"scale(1 -1)translate(0 -218)\" width=\"11\" x=\"254\" xlink:href=\"data:image/png;base64,\niVBORw0KGgoAAAANSUhEUgAAAAsAAADaCAYAAABwzrisAAABaElEQVR4nO2aMW7EMAwERVLKy/KE/P8llyhtSk4xAB2c6wWxnKVpn3zxGV93Na+9IrvataMKiDP6YmRjscpAjBpcSTwTG6jB8NChBj0anpjRQLMxo0EkLpDgZZzb2jE0bs2wMYPz1eb5ep77WnjDeqGwyqRBRAPGDSpDzqTyA2nABi10t/9ke2aDzDO7YTUbYoMjOI+hMcLGFBr/vvI77r+V2dsXqWx5Bo4fOhtm3O2ToWfOs0aDTZ1JQ0uQrQLLhkcDnJOpnJF4WTaCrILQaIBXfho3Eae2GJENUNhsMDXOUNzWQs8VPxNssARRgwkaTLJkPM+eeJO4h3hmYpLgzu8JNiANkOBhcVuzUYyGZeOEFXctDR2iQTiffAEbWoJeZRQ3StALBVYG4g82/ChBhA5tUSuUs8hsePPsNeglqD3aUGUkPmzq+tcG38bXLvB7idk45K8v0AYQF/luleCchdk4sdtidJz1CyI3gWiDlzgyAAAAAElFTkSuQmCC\" y=\"-10\"/>\n   <g id=\"patch_8\">\n    <path d=\"M 253.940938 228.218906 \nL 253.940938 227.369531 \nL 253.940938 11.628281 \nL 253.940938 10.778906 \nL 264.812937 10.778906 \nL 264.812937 11.628281 \nL 264.812937 227.369531 \nL 264.812937 228.218906 \nz\n\" style=\"fill:none;stroke:#cccccc;stroke-linejoin:miter;stroke-width:0.8;\"/>\n   </g>\n  </g>\n </g>\n <defs>\n  <clipPath id=\"p5449530e5f\">\n   <rect height=\"217.44\" width=\"217.44\" x=\"19.760938\" y=\"10.778906\"/>\n  </clipPath>\n  <clipPath id=\"pad89297cf6\">\n   <rect height=\"217.44\" width=\"10.872\" x=\"253.940938\" y=\"10.778906\"/>\n  </clipPath>\n </defs>\n</svg>\n",
      "image/png": "[encoded data removed]"
     },
     "metadata": {}
    }
   ],
   "source": [
    "qm.reset()\n",
    "qm.display()\n",
    "results_vals = ql.display_q_values()\n",
    "plt.imshow((results_vals - results_vals.min())/(results_vals.max() - results_vals.min()), cmap=\"viridis\")\n",
    "plt.colorbar()\n",
    "plt.grid(False)\n",
    "plt.show();\n"
   ]
  },
  {
   "cell_type": "code",
   "execution_count": null,
   "metadata": {},
   "outputs": [],
   "source": [
    "# Plot rewards\n",
    "plt.plot(experiment_mean_rewards);\n",
    "plt.title(f\"Mean rewards for {NUM_EPISODES} episodes\");\n",
    "plt.xlabel(f\"Per {NUM_LOGGED_EPISODES} episodes\");\n",
    "plt.ylabel(\"Reward\");\n",
    "plt.ylim([-1000, 200]);\n",
    "plt.xlim([0, LOGGING_STEP_SIZE]);"
   ]
  },
  {
   "cell_type": "code",
   "execution_count": 23,
   "metadata": {},
   "outputs": [],
   "source": [
    "def train_on_qlearning(\n",
    "    env_size: int,\n",
    "    epsilon: float,\n",
    "    decay: float,\n",
    "    gamma: float,\n",
    "    alpha: float,\n",
    "    num_runs_tqdm: Any,\n",
    "    logging_step_size: int,\n",
    "    num_logged_episodes: int,\n",
    "    num_episodes: int,\n",
    "    output_path: str\n",
    ") -> None:\n",
    "\n",
    "    qm = QMaze(env_size)\n",
    "    eg_policy = EGreedyPolicy(epsilon=epsilon, decay=decay)\n",
    "    ql = QLearning(policy=eg_policy, environment=qm, gamma=gamma, alpha=alpha)\n",
    "\n",
    "    # Create structure to store data\n",
    "    all_results: list = []\n",
    "\n",
    "    # Plot rewards and turns elapsed\n",
    "    experiment_mean_rewards: list = []\n",
    "    experiment_mean_turns_elapsed: list = []\n",
    "\n",
    "    # Collect hyperparameter information\n",
    "    HYPERPARAMETER_DICT = {\n",
    "        \"env_size\": env_size,\n",
    "        \"epsilon\": epsilon,\n",
    "        \"decay\": decay,\n",
    "        \"gamma\": gamma,\n",
    "        \"alpha\": alpha  \n",
    "    }\n",
    "    HYPERPARAMETER_OUT = stringify_dict(HYPERPARAMETER_DICT)\n",
    "    HYPERPARAMETER_FILE_NAME = preprocess_hyperparameters_filename(HYPERPARAMETER_DICT)\n",
    "    FILE_NAME = HYPERPARAMETER_FILE_NAME\n",
    "    PLOT_FILE_NAME = FILE_NAME\n",
    "\n",
    "    # Save rendered maze\n",
    "    with open(os.path.join(OUTPUT_PATH, \"maze_layout.txt\"), \"w\") as f:\n",
    "        with redirect_stdout(f):\n",
    "            qm.display(debug=True)\n",
    "\n",
    "    for run in NUM_RUNS_TQDM:\n",
    "        if ((run % LOGGING_STEP_SIZE) == 0) or (run == 1):\n",
    "            results = run_ql_experiments(\n",
    "                environment=qm,\n",
    "                policy=eg_policy,\n",
    "                q_learning_method=ql,\n",
    "                num_episodes=NUM_LOGGED_EPISODES,\n",
    "                hyperparameter_dict=HYPERPARAMETER_DICT\n",
    "            )\n",
    "            print(f\"Run: {run}, ending epsilon: {eg_policy.epsilon}, mean reward: {results.mean_reward}, mean turns elapsed: {results.mean_turns_elapsed}, std reward: {results.var_reward}\")\n",
    "            all_results.append(results)\n",
    "            experiment_mean_rewards.append(results.mean_reward)\n",
    "            experiment_mean_turns_elapsed.append(results.mean_turns_elapsed)\n",
    "\n",
    "            # Plot mean turns elapsed live\n",
    "            plt.plot(experiment_mean_turns_elapsed);\n",
    "            plt.title(f\"Mean turns elapsed for {NUM_EPISODES} episodes\");\n",
    "            plt.xlabel(f\"Per {NUM_LOGGED_EPISODES} episodes\");\n",
    "            plt.ylabel(\"Mean turns elapsed\");\n",
    "            plt.ylim([0, 1000]);\n",
    "            plt.xlim([0, LOGGING_STEP_SIZE]);\n",
    "\n",
    "    # Save detailed results\n",
    "    individual_results_df = pd.DataFrame(all_results)\n",
    "    individual_results_df.to_csv(os.path.join(OUTPUT_PATH, HYPERPARAMETER_FILE_NAME + \".csv\"), index=False)\n",
    "\n",
    "    # Save mean reward plot\n",
    "    sns.lineplot(data=experiment_mean_rewards);\n",
    "    plt.title(f\"Mean rewards over {NUM_EPISODES} episodes\")\n",
    "    plt.xlabel(f\"Per {NUM_LOGGED_EPISODES} episodes\");\n",
    "    plt.ylabel(\"Mean reward\");\n",
    "    plt.xlim([0, LOGGING_STEP_SIZE]);\n",
    "    \n",
    "    last_mean_reward = (NUM_LOGGED_EPISODES, experiment_mean_rewards[-1])\n",
    "    print(\"fei\", last_mean_reward)\n",
    "    enumerated_mean_rewards = list(enumerate(experiment_mean_rewards))\n",
    "    min_mean_reward = min(enumerated_mean_rewards, key=itemgetter(1))[0]\n",
    "    max_mean_reward = max(enumerated_mean_rewards, key=itemgetter(1))[0]\n",
    "\n",
    "    plt.annotate(f\"Last {last_mean_reward[1]}\", last_mean_reward)\n",
    "    plt.annotate(f\"Min {min_mean_reward[1]}\", min_mean_reward)\n",
    "    plt.annotate(f\"Max {max_mean_reward[1]}\", max_mean_reward)\n",
    "\n",
    "    plt.savefig(os.path.join(OUTPUT_PATH, PLOT_FILE_NAME + \"_mean_rewards.png\"), dpi=300, bbox_inches=\"tight\");\n",
    "    plt.show();\n",
    "\n",
    "    # Save mean turns elapsed plot\n",
    "    sns.lineplot(data=experiment_mean_turns_elapsed);\n",
    "    plt.title(f\"Mean turns elapsed over {NUM_EPISODES} episodes\");\n",
    "    plt.xlabel(f\"Per {NUM_LOGGED_EPISODES} episodes\");\n",
    "    plt.ylabel(\"Mean turns elapsed\");\n",
    "    plt.xlim([0, LOGGING_STEP_SIZE]);\n",
    "\n",
    "    last_mean_turns_elapsed = (NUM_LOGGED_EPISODES, experiment_mean_turns_elapsed[-1])\n",
    "    enumerated_mean_turns_elapsed = list(enumerate(experiment_mean_turns_elapsed))\n",
    "    min_mean_turns_elapsed = min(enumerated_mean_turns_elapsed, key=itemgetter(1))[0]\n",
    "    max_mean_turns_elapsed = max(enumerated_mean_turns_elapsed, key=itemgetter(1))[0]\n",
    "\n",
    "    plt.annotate(f\"Last {last_mean_turns_elapsed[1]}\", last_mean_turns_elapsed)\n",
    "    plt.annotate(f\"Min {min_mean_turns_elapsed[1]}\", min_mean_turns_elapsed)\n",
    "    plt.annotate(f\"Max {max_mean_turns_elapsed[1]}\", max_mean_turns_elapsed)\n",
    "\n",
    "    plt.savefig(os.path.join(OUTPUT_PATH, PLOT_FILE_NAME + \"_mean_turns_elapsed.png\"), dpi=300, bbox_inches=\"tight\");\n",
    "    plt.show();\n",
    "\n",
    "    # Save heatmap\n",
    "    results_vals = ql.display_q_values()\n",
    "    plt.imshow((results_vals - results_vals.min())/(results_vals.max() - results_vals.min()), cmap=\"viridis\")\n",
    "    plt.colorbar()\n",
    "    plt.grid(False)\n",
    "    plt.savefig(os.path.join(OUTPUT_PATH, PLOT_FILE_NAME + \"_q_values.png\"), dpi=300, bbox_inches=\"tight\");\n",
    "    plt.show();\n",
    "    \n",
    "    # Write to datetime run's results summary\n",
    "    results_summary = HYPERPARAMETER_DICT.append({\n",
    "        \"experiment_mean_rewards\": experiment_mean_rewards,\n",
    "        \"experiment_mean_turns_elapsed\": experiment_mean_turns_elapsed\n",
    "    })\n",
    "    results_summary_df = pd.DataFrame(results_summary)\n",
    "    # Append result summary to overall file.\n",
    "    # Creates this csv if doesn't exist, \n",
    "    # adds header if being created, otherwise skip.\n",
    "    with open(os.path.join(OUTPUT_PATH, \"results_summary.csv\"), \"a\") as f:\n",
    "        results_summary_df.to_csv(f, header=f.tell()==0, index=False)\n",
    "    "
   ]
  },
  {
   "cell_type": "code",
   "execution_count": 22,
   "metadata": {},
   "outputs": [
    {
     "output_type": "stream",
     "name": "stderr",
     "text": [
      "  1%|          | 1/100 [00:02<03:57,  2.39s/it]Run: 0, ending epsilon: 0.0900567811781995, mean reward: -891.95, mean turns elapsed: 211.48, std reward: 972.9248313718795\n",
      "  2%|▏         | 2/100 [00:03<02:14,  1.37s/it]Run: 1, ending epsilon: 0.0900567811781995, mean reward: -318.52, mean turns elapsed: 92.17, std reward: 316.10594679632334\n",
      " 11%|█         | 11/100 [00:03<00:17,  4.97it/s]Run: 10, ending epsilon: 0.0900567811781995, mean reward: -155.42, mean turns elapsed: 57.33, std reward: 221.0454785785043\n",
      " 21%|██        | 21/100 [00:03<00:08,  9.65it/s]Run: 20, ending epsilon: 0.0900567811781995, mean reward: -72.82, mean turns elapsed: 40.1, std reward: 154.80932659242467\n",
      " 41%|████      | 41/100 [00:04<00:02, 20.89it/s]Run: 30, ending epsilon: 0.0900567811781995, mean reward: -27.89, mean turns elapsed: 31.0, std reward: 104.39759527881856\n",
      "Run: 40, ending epsilon: 0.0900567811781995, mean reward: 7.35, mean turns elapsed: 23.92, std reward: 71.64794135214214\n",
      " 61%|██████    | 61/100 [00:04<00:01, 33.85it/s]Run: 50, ending epsilon: 0.0900567811781995, mean reward: 13.81, mean turns elapsed: 22.48, std reward: 46.960769797779086\n",
      "Run: 60, ending epsilon: 0.0900567811781995, mean reward: 32.37, mean turns elapsed: 19.19, std reward: 24.437534654706887\n",
      " 81%|████████  | 81/100 [00:04<00:00, 45.86it/s]Run: 70, ending epsilon: 0.0900567811781995, mean reward: 35.59, mean turns elapsed: 18.45, std reward: 24.12347197233433\n",
      "Run: 80, ending epsilon: 0.0900567811781995, mean reward: 33.85, mean turns elapsed: 18.79, std reward: 34.70745597130392\n",
      "100%|██████████| 100/100 [00:04<00:00, 20.02it/s]Run: 90, ending epsilon: 0.0900567811781995, mean reward: 38.29, mean turns elapsed: 18.05, std reward: 24.92119379163045\n",
      "\n"
     ]
    },
    {
     "output_type": "error",
     "ename": "TypeError",
     "evalue": "'int' object is not subscriptable",
     "traceback": [
      "\u001b[0;31m---------------------------------------------------------------------------\u001b[0m",
      "\u001b[0;31mTypeError\u001b[0m                                 Traceback (most recent call last)",
      "\u001b[0;32m<ipython-input-22-558246b1d5c1>\u001b[0m in \u001b[0;36m<module>\u001b[0;34m\u001b[0m\n\u001b[1;32m     31\u001b[0m                         \u001b[0mexperiment_mean_rewards\u001b[0m\u001b[0;34m,\u001b[0m\u001b[0;34m\u001b[0m\u001b[0;34m\u001b[0m\u001b[0m\n\u001b[1;32m     32\u001b[0m                         \u001b[0mexperiment_mean_turns_elapsed\u001b[0m\u001b[0;34m,\u001b[0m\u001b[0;34m\u001b[0m\u001b[0;34m\u001b[0m\u001b[0m\n\u001b[0;32m---> 33\u001b[0;31m                     \u001b[0;34m)\u001b[0m \u001b[0;34m=\u001b[0m \u001b[0mtrain_on_qlearning\u001b[0m\u001b[0;34m(\u001b[0m\u001b[0;34m\u001b[0m\u001b[0;34m\u001b[0m\u001b[0m\n\u001b[0m\u001b[1;32m     34\u001b[0m                         \u001b[0menv_size\u001b[0m\u001b[0;34m=\u001b[0m\u001b[0menv_size\u001b[0m\u001b[0;34m,\u001b[0m\u001b[0;34m\u001b[0m\u001b[0;34m\u001b[0m\u001b[0m\n\u001b[1;32m     35\u001b[0m                         \u001b[0mepsilon\u001b[0m\u001b[0;34m=\u001b[0m\u001b[0mepsilon\u001b[0m\u001b[0;34m,\u001b[0m\u001b[0;34m\u001b[0m\u001b[0;34m\u001b[0m\u001b[0m\n",
      "\u001b[0;32m<ipython-input-21-3f768db7b930>\u001b[0m in \u001b[0;36mtrain_on_qlearning\u001b[0;34m(env_size, epsilon, decay, gamma, alpha, num_runs_tqdm, logging_step_size, num_logged_episodes, num_episodes, output_path)\u001b[0m\n\u001b[1;32m     80\u001b[0m \u001b[0;34m\u001b[0m\u001b[0m\n\u001b[1;32m     81\u001b[0m     \u001b[0mplt\u001b[0m\u001b[0;34m.\u001b[0m\u001b[0mannotate\u001b[0m\u001b[0;34m(\u001b[0m\u001b[0;34mf\"Last {last_mean_reward[1]}\"\u001b[0m\u001b[0;34m,\u001b[0m \u001b[0mlast_mean_reward\u001b[0m\u001b[0;34m)\u001b[0m\u001b[0;34m\u001b[0m\u001b[0;34m\u001b[0m\u001b[0m\n\u001b[0;32m---> 82\u001b[0;31m     \u001b[0mplt\u001b[0m\u001b[0;34m.\u001b[0m\u001b[0mannotate\u001b[0m\u001b[0;34m(\u001b[0m\u001b[0;34mf\"Min {min_mean_reward[1]}\"\u001b[0m\u001b[0;34m,\u001b[0m \u001b[0mmin_mean_reward\u001b[0m\u001b[0;34m)\u001b[0m\u001b[0;34m\u001b[0m\u001b[0;34m\u001b[0m\u001b[0m\n\u001b[0m\u001b[1;32m     83\u001b[0m     \u001b[0mplt\u001b[0m\u001b[0;34m.\u001b[0m\u001b[0mannotate\u001b[0m\u001b[0;34m(\u001b[0m\u001b[0;34mf\"Max {max_mean_reward[1]}\"\u001b[0m\u001b[0;34m,\u001b[0m \u001b[0mmax_mean_reward\u001b[0m\u001b[0;34m)\u001b[0m\u001b[0;34m\u001b[0m\u001b[0;34m\u001b[0m\u001b[0m\n\u001b[1;32m     84\u001b[0m \u001b[0;34m\u001b[0m\u001b[0m\n",
      "\u001b[0;31mTypeError\u001b[0m: 'int' object is not subscriptable"
     ]
    }
   ],
   "source": [
    "# Logging stuff\n",
    "RESULTS_PATH = \"results\"\n",
    "dt_now = datetime.now()\n",
    "dt_str = dt_now.strftime(\"%Y%m%d-%H%M%S\")\n",
    "\n",
    "OUTPUT_PATH = os.path.join(RESULTS_PATH, dt_str)\n",
    "\n",
    "if not os.path.isdir(OUTPUT_PATH):\n",
    "    os.makedirs(OUTPUT_PATH)\n",
    "    \n",
    "LOGGING_STEP_SIZE: int = 10\n",
    "NUM_EPISODES: int = 1000\n",
    "NUM_RUNS: int = 100\n",
    "NUM_RUNS_TQDM = tqdm(range(NUM_RUNS))\n",
    "NUM_LOGGED_EPISODES: int = 1000//LOGGING_STEP_SIZE\n",
    "\n",
    "ENV_SIZE_LIST = [10]\n",
    "EPSILON_LIST = [0.6]\n",
    "DECAY_LIST = [0.9]\n",
    "GAMMA_LIST = [0.9]\n",
    "ALPHA_LIST = [0.01]\n",
    "\n",
    "for env_size in ENV_SIZE_LIST:\n",
    "    for epsilon in EPSILON_LIST:\n",
    "        for decay in DECAY_LIST:\n",
    "            for gamma in GAMMA_LIST:\n",
    "                for alpha in ALPHA_LIST:\n",
    "                    (\n",
    "                        hyperparameter_dict,\n",
    "                        all_results,\n",
    "                        experiment_mean_rewards,\n",
    "                        experiment_mean_turns_elapsed,\n",
    "                    ) = train_on_qlearning(\n",
    "                        env_size=env_size,\n",
    "                        epsilon=epsilon,\n",
    "                        decay=decay,\n",
    "                        gamma=gamma,\n",
    "                        alpha=alpha,\n",
    "                        num_runs_tqdm=NUM_RUNS_TQDM,\n",
    "                        logging_step_size=LOGGING_STEP_SIZE,\n",
    "                        num_logged_episodes=NUM_LOGGED_EPISODES,\n",
    "                        num_episodes=NUM_EPISODES,\n",
    "                        output_path=OUTPUT_PATH\n",
    "                    )\n",
    "\n"
   ]
  },
  {
   "source": [
    "## Save results"
   ],
   "cell_type": "markdown",
   "metadata": {}
  },
  {
   "cell_type": "code",
   "execution_count": 15,
   "metadata": {},
   "outputs": [
    {
     "output_type": "execute_result",
     "data": {
      "text/plain": [
       "    env_size  epsilon  decay  gamma  alpha  \\\n",
       "0         10      0.6    0.9    0.9   0.01   \n",
       "1         10      0.6    0.9    0.9   0.01   \n",
       "2         10      0.6    0.9    0.9   0.01   \n",
       "3         10      0.6    0.9    0.9   0.01   \n",
       "4         10      0.6    0.9    0.9   0.01   \n",
       "5         10      0.6    0.9    0.9   0.01   \n",
       "6         10      0.6    0.9    0.9   0.01   \n",
       "7         10      0.6    0.9    0.9   0.01   \n",
       "8         10      0.6    0.9    0.9   0.01   \n",
       "9         10      0.6    0.9    0.9   0.01   \n",
       "10        10      0.6    0.9    0.9   0.01   \n",
       "\n",
       "                                          all_rewards  max_reward  \\\n",
       "0   [-718, -2452, -3399, -1615, -482, -1322, -655,...          49   \n",
       "1   [-1127, -14, -47, -91, -33, 51, -24, -299, 44,...          79   \n",
       "2   [-38, -363, -87, 39, 28, 12, -77, -10, -90, 60...          74   \n",
       "3   [-224, 66, -144, -10, 0, 43, -261, 62, 30, -35...          78   \n",
       "4   [66, -46, 26, 26, 57, 55, 46, 34, -15, 0, -146...          78   \n",
       "5   [47, 6, 8, 10, 21, -27, 63, 56, 33, 72, 33, 35...          75   \n",
       "6   [67, 8, -45, 43, 29, 67, 58, 26, 53, -49, 37, ...          77   \n",
       "7   [33, 28, -27, 33, 38, -10, 18, -6, 43, 27, 46,...          80   \n",
       "8   [72, 69, 35, 63, 56, 49, 32, -436, 14, 48, 55,...          81   \n",
       "9   [20, 47, 82, 58, 52, 38, 42, -62, 7, 79, 62, -...          82   \n",
       "10  [39, 64, 63, 64, 82, 64, 47, 59, 62, 40, 62, 4...          82   \n",
       "\n",
       "    mean_reward  var_reward  \\\n",
       "0       -764.78  856.946551   \n",
       "1       -189.75  254.411021   \n",
       "2        -92.90  160.817070   \n",
       "3        -26.97  136.617016   \n",
       "4          1.01   70.439264   \n",
       "5         10.69   63.698775   \n",
       "6         36.54   33.436334   \n",
       "7         42.66   22.118418   \n",
       "8         36.95   52.984031   \n",
       "9         41.87   26.924582   \n",
       "10        42.61   28.353093   \n",
       "\n",
       "                                    all_turns_elapsed  max_turns_elapsed  \\\n",
       "0   [179, 568, 767, 365, 131, 329, 176, 210, 80, 5...               1252   \n",
       "1   [278, 33, 38, 48, 35, 13, 33, 86, 14, 35, 42, ...                291   \n",
       "2   [28, 100, 45, 15, 16, 21, 44, 25, 48, 14, 112,...                173   \n",
       "3   [72, 10, 55, 22, 26, 13, 78, 12, 17, 90, 13, 2...                204   \n",
       "4   [12, 31, 21, 17, 15, 11, 13, 18, 31, 25, 60, 1...                130   \n",
       "5   [16, 24, 21, 25, 20, 31, 11, 13, 17, 9, 17, 20...                 81   \n",
       "6   [12, 18, 39, 16, 21, 13, 15, 22, 14, 33, 15, 1...                 41   \n",
       "7   [20, 22, 28, 16, 18, 25, 19, 24, 18, 21, 14, 1...                 32   \n",
       "8   [13, 10, 18, 11, 14, 13, 17, 117, 23, 14, 17, ...                117   \n",
       "9   [20, 15, 9, 14, 14, 16, 17, 35, 23, 10, 12, 32...                 35   \n",
       "10  [16, 13, 11, 10, 9, 13, 18, 12, 9, 16, 12, 14,...                 37   \n",
       "\n",
       "    mean_turns_elapsed  var_turns_elapsed  mean_ending_epsilon  \n",
       "0               187.43         185.416140             0.090057  \n",
       "1                64.11          54.621588             0.090057  \n",
       "2                43.43          34.957476             0.090057  \n",
       "3                29.28          27.894831             0.090057  \n",
       "4                23.90          15.423683             0.090057  \n",
       "5                21.83          12.073156             0.090057  \n",
       "6                17.06           6.802676             0.090057  \n",
       "7                15.99           4.614098             0.090057  \n",
       "8                17.58          11.060904             0.090057  \n",
       "9                16.23           5.220833             0.090057  \n",
       "10               15.98           5.832632             0.090057  "
      ],
      "text/html": "<div>\n<style scoped>\n    .dataframe tbody tr th:only-of-type {\n        vertical-align: middle;\n    }\n\n    .dataframe tbody tr th {\n        vertical-align: top;\n    }\n\n    .dataframe thead th {\n        text-align: right;\n    }\n</style>\n<table border=\"1\" class=\"dataframe\">\n  <thead>\n    <tr style=\"text-align: right;\">\n      <th></th>\n      <th>env_size</th>\n      <th>epsilon</th>\n      <th>decay</th>\n      <th>gamma</th>\n      <th>alpha</th>\n      <th>all_rewards</th>\n      <th>max_reward</th>\n      <th>mean_reward</th>\n      <th>var_reward</th>\n      <th>all_turns_elapsed</th>\n      <th>max_turns_elapsed</th>\n      <th>mean_turns_elapsed</th>\n      <th>var_turns_elapsed</th>\n      <th>mean_ending_epsilon</th>\n    </tr>\n  </thead>\n  <tbody>\n    <tr>\n      <th>0</th>\n      <td>10</td>\n      <td>0.6</td>\n      <td>0.9</td>\n      <td>0.9</td>\n      <td>0.01</td>\n      <td>[-718, -2452, -3399, -1615, -482, -1322, -655,...</td>\n      <td>49</td>\n      <td>-764.78</td>\n      <td>856.946551</td>\n      <td>[179, 568, 767, 365, 131, 329, 176, 210, 80, 5...</td>\n      <td>1252</td>\n      <td>187.43</td>\n      <td>185.416140</td>\n      <td>0.090057</td>\n    </tr>\n    <tr>\n      <th>1</th>\n      <td>10</td>\n      <td>0.6</td>\n      <td>0.9</td>\n      <td>0.9</td>\n      <td>0.01</td>\n      <td>[-1127, -14, -47, -91, -33, 51, -24, -299, 44,...</td>\n      <td>79</td>\n      <td>-189.75</td>\n      <td>254.411021</td>\n      <td>[278, 33, 38, 48, 35, 13, 33, 86, 14, 35, 42, ...</td>\n      <td>291</td>\n      <td>64.11</td>\n      <td>54.621588</td>\n      <td>0.090057</td>\n    </tr>\n    <tr>\n      <th>2</th>\n      <td>10</td>\n      <td>0.6</td>\n      <td>0.9</td>\n      <td>0.9</td>\n      <td>0.01</td>\n      <td>[-38, -363, -87, 39, 28, 12, -77, -10, -90, 60...</td>\n      <td>74</td>\n      <td>-92.90</td>\n      <td>160.817070</td>\n      <td>[28, 100, 45, 15, 16, 21, 44, 25, 48, 14, 112,...</td>\n      <td>173</td>\n      <td>43.43</td>\n      <td>34.957476</td>\n      <td>0.090057</td>\n    </tr>\n    <tr>\n      <th>3</th>\n      <td>10</td>\n      <td>0.6</td>\n      <td>0.9</td>\n      <td>0.9</td>\n      <td>0.01</td>\n      <td>[-224, 66, -144, -10, 0, 43, -261, 62, 30, -35...</td>\n      <td>78</td>\n      <td>-26.97</td>\n      <td>136.617016</td>\n      <td>[72, 10, 55, 22, 26, 13, 78, 12, 17, 90, 13, 2...</td>\n      <td>204</td>\n      <td>29.28</td>\n      <td>27.894831</td>\n      <td>0.090057</td>\n    </tr>\n    <tr>\n      <th>4</th>\n      <td>10</td>\n      <td>0.6</td>\n      <td>0.9</td>\n      <td>0.9</td>\n      <td>0.01</td>\n      <td>[66, -46, 26, 26, 57, 55, 46, 34, -15, 0, -146...</td>\n      <td>78</td>\n      <td>1.01</td>\n      <td>70.439264</td>\n      <td>[12, 31, 21, 17, 15, 11, 13, 18, 31, 25, 60, 1...</td>\n      <td>130</td>\n      <td>23.90</td>\n      <td>15.423683</td>\n      <td>0.090057</td>\n    </tr>\n    <tr>\n      <th>5</th>\n      <td>10</td>\n      <td>0.6</td>\n      <td>0.9</td>\n      <td>0.9</td>\n      <td>0.01</td>\n      <td>[47, 6, 8, 10, 21, -27, 63, 56, 33, 72, 33, 35...</td>\n      <td>75</td>\n      <td>10.69</td>\n      <td>63.698775</td>\n      <td>[16, 24, 21, 25, 20, 31, 11, 13, 17, 9, 17, 20...</td>\n      <td>81</td>\n      <td>21.83</td>\n      <td>12.073156</td>\n      <td>0.090057</td>\n    </tr>\n    <tr>\n      <th>6</th>\n      <td>10</td>\n      <td>0.6</td>\n      <td>0.9</td>\n      <td>0.9</td>\n      <td>0.01</td>\n      <td>[67, 8, -45, 43, 29, 67, 58, 26, 53, -49, 37, ...</td>\n      <td>77</td>\n      <td>36.54</td>\n      <td>33.436334</td>\n      <td>[12, 18, 39, 16, 21, 13, 15, 22, 14, 33, 15, 1...</td>\n      <td>41</td>\n      <td>17.06</td>\n      <td>6.802676</td>\n      <td>0.090057</td>\n    </tr>\n    <tr>\n      <th>7</th>\n      <td>10</td>\n      <td>0.6</td>\n      <td>0.9</td>\n      <td>0.9</td>\n      <td>0.01</td>\n      <td>[33, 28, -27, 33, 38, -10, 18, -6, 43, 27, 46,...</td>\n      <td>80</td>\n      <td>42.66</td>\n      <td>22.118418</td>\n      <td>[20, 22, 28, 16, 18, 25, 19, 24, 18, 21, 14, 1...</td>\n      <td>32</td>\n      <td>15.99</td>\n      <td>4.614098</td>\n      <td>0.090057</td>\n    </tr>\n    <tr>\n      <th>8</th>\n      <td>10</td>\n      <td>0.6</td>\n      <td>0.9</td>\n      <td>0.9</td>\n      <td>0.01</td>\n      <td>[72, 69, 35, 63, 56, 49, 32, -436, 14, 48, 55,...</td>\n      <td>81</td>\n      <td>36.95</td>\n      <td>52.984031</td>\n      <td>[13, 10, 18, 11, 14, 13, 17, 117, 23, 14, 17, ...</td>\n      <td>117</td>\n      <td>17.58</td>\n      <td>11.060904</td>\n      <td>0.090057</td>\n    </tr>\n    <tr>\n      <th>9</th>\n      <td>10</td>\n      <td>0.6</td>\n      <td>0.9</td>\n      <td>0.9</td>\n      <td>0.01</td>\n      <td>[20, 47, 82, 58, 52, 38, 42, -62, 7, 79, 62, -...</td>\n      <td>82</td>\n      <td>41.87</td>\n      <td>26.924582</td>\n      <td>[20, 15, 9, 14, 14, 16, 17, 35, 23, 10, 12, 32...</td>\n      <td>35</td>\n      <td>16.23</td>\n      <td>5.220833</td>\n      <td>0.090057</td>\n    </tr>\n    <tr>\n      <th>10</th>\n      <td>10</td>\n      <td>0.6</td>\n      <td>0.9</td>\n      <td>0.9</td>\n      <td>0.01</td>\n      <td>[39, 64, 63, 64, 82, 64, 47, 59, 62, 40, 62, 4...</td>\n      <td>82</td>\n      <td>42.61</td>\n      <td>28.353093</td>\n      <td>[16, 13, 11, 10, 9, 13, 18, 12, 9, 16, 12, 14,...</td>\n      <td>37</td>\n      <td>15.98</td>\n      <td>5.832632</td>\n      <td>0.090057</td>\n    </tr>\n  </tbody>\n</table>\n</div>"
     },
     "metadata": {},
     "execution_count": 15
    }
   ],
   "source": [
    "# results_df = pd.DataFrame(all_results)\n",
    "# results_df \n",
    "\n",
    "a = pd.read_csv(\"results/20210411-031402/env_size_10__epsilon_0.6__decay_0.9__gamma_0.9__alpha_0.01.csv\")\n",
    "a"
   ]
  },
  {
   "source": [
    "## Test QMaze number of steps for different environment sizes"
   ],
   "cell_type": "markdown",
   "metadata": {}
  },
  {
   "cell_type": "code",
   "execution_count": 15,
   "metadata": {},
   "outputs": [],
   "source": [
    "epsilon_list = [0.5, 0.7, 0.9]\n",
    "gamma_list = [0.5, 0.7, 0.9]\n",
    "env_size_list = [10, 20, 30, 40, 50]\n",
    "\n",
    "# mean_reward = []\n",
    "# std_reward = []\n",
    "    \n",
    "# for size_envir in range(5,50,5):\n",
    "\n",
    "#     # heuristics\n",
    "#     n_improvement_steps = size_envir\n",
    "#     n_steps_policy_eval = 10\n",
    "    \n",
    "#     total_rewards = []\n",
    "\n",
    "#     for n_envir in range(n_environments_per_size):\n",
    "\n",
    "#         dungeon = DungeonDP(size_envir)\n",
    "#         policy = Policy(dungeon, gamma)\n",
    "        \n",
    "#         for n_improvements in range(n_improvement_steps):\n",
    "    \n",
    "#             policy.policy_iteration(n_steps_policy_eval)\n",
    "\n",
    "#         all_total_rewards, _, _, _ = run_experiments(dungeon, policy, n_runs_per_environments)\n",
    "\n",
    "#         total_rewards += all_total_rewards\n",
    "\n",
    "#     mean_reward.append( np.mean(total_rewards) )\n",
    "#     std_reward.append( np.std(total_rewards) )\n",
    "\n",
    "# mean_reward = np.asarray(mean_reward)\n",
    "# std_reward = np.asarray(std_reward)\n",
    "\n",
    "# plt.plot(range(5, 50, 5), mean_reward, 'or')\n",
    "# plt.plot(range(5, 50, 5), mean_reward, color = 'r')\n",
    "# plt.fill_between(range(5, 50, 5), mean_reward - std_reward/2, mean_reward + std_reward/2,\n",
    "#              color='r', alpha=0.2)\n",
    "\n",
    "# plt.xlabel('Environment size')\n",
    "# plt.ylabel('Average reward')\n",
    "\n",
    "# plt.show()"
   ]
  },
  {
   "cell_type": "code",
   "execution_count": null,
   "metadata": {},
   "outputs": [],
   "source": []
  }
 ]
}