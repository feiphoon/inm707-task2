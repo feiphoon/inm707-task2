{
 "metadata": {
  "language_info": {
   "codemirror_mode": {
    "name": "ipython",
    "version": 3
   },
   "file_extension": ".py",
   "mimetype": "text/x-python",
   "name": "python",
   "nbconvert_exporter": "python",
   "pygments_lexer": "ipython3",
   "version": "3.8.5"
  },
  "orig_nbformat": 2,
  "kernelspec": {
   "name": "python385jvsc74a57bd04cd5165088d7123c72a5486f42173f69b6a9502e50339e0cc6c0a980fed3743c",
   "display_name": "Python 3.8.5 64-bit"
  }
 },
 "nbformat": 4,
 "nbformat_minor": 2,
 "cells": [
  {
   "source": [
    "# Q-Learning experiment runner"
   ],
   "cell_type": "markdown",
   "metadata": {}
  },
  {
   "source": [
    "## Imports"
   ],
   "cell_type": "markdown",
   "metadata": {}
  },
  {
   "cell_type": "code",
   "execution_count": 1,
   "metadata": {},
   "outputs": [],
   "source": [
    "%%capture\n",
    "!pip install tqdm"
   ]
  },
  {
   "cell_type": "code",
   "execution_count": 2,
   "metadata": {},
   "outputs": [],
   "source": [
    "from IPython.display import clear_output\n",
    "import matplotlib.pyplot as plt\n",
    "%matplotlib inline\n",
    "import seaborn as sns\n",
    "sns.set_style(\"whitegrid\")\n",
    "\n",
    "from tqdm import tqdm\n",
    "import numpy as np\n",
    "import pandas as pd\n",
    "\n",
    "from typing import Tuple"
   ]
  },
  {
   "cell_type": "code",
   "execution_count": 3,
   "metadata": {},
   "outputs": [],
   "source": [
    "from q_maze import QMaze, Action\n",
    "from e_greedy_policy import EGreedyPolicy\n",
    "from qlearning import QLearning\n",
    "\n",
    "from qlearning_exp_functions import Results, train_ql_for_one_episode, run_ql_experiments"
   ]
  },
  {
   "source": [
    "## Smoke test for QMaze, EGreedyPolicy and running on one episode"
   ],
   "cell_type": "markdown",
   "metadata": {}
  },
  {
   "cell_type": "code",
   "execution_count": 10,
   "metadata": {},
   "outputs": [],
   "source": [
    "qm = QMaze(10)\n",
    "# Reminder that QMaze.reset only returns agent state now.\n",
    "# Be careful to capture the state when resetting, because the \n",
    "# Agent/entrance will move!\n",
    "state = qm.reset()\n",
    "eg_policy = EGreedyPolicy(epsilon=0.5, decay=0.9)\n",
    "ql = QLearning(policy=eg_policy, environment=qm, gamma=0.9, alpha=0.01)\n"
   ]
  },
  {
   "cell_type": "code",
   "execution_count": 11,
   "metadata": {
    "tags": []
   },
   "outputs": [
    {
     "output_type": "stream",
     "name": "stdout",
     "text": [
      "X X X X X X X X X X \nX . . X A . X X . X \nX X . X X . . . . X \nX . . . X X X . X X \nX X X . X . X . . X \nX . . . X . . . X X \nX X X . X X X . . X \nX . . . . . X . X X \nX . X . X . . . . X \nX X X X X X X X O X \n\n{'maze_width': 10, 'maze_height': 10, 'size': 10, 'has_treasure': False, 'treasure_found': 0, 'treasure_left': 0, 'treasure_map': [], 'position_agent': (1, 4), 'position_entrance': (1, 4), 'position_exit': (9, 8), 'maze': array([[1, 1, 1, 1, 1, 1, 1, 1, 1, 1],\n       [1, 0, 0, 1, 2, 0, 1, 1, 0, 1],\n       [1, 1, 0, 1, 1, 0, 0, 0, 0, 1],\n       [1, 0, 0, 0, 1, 1, 1, 0, 1, 1],\n       [1, 1, 1, 0, 1, 0, 1, 0, 0, 1],\n       [1, 0, 0, 0, 1, 0, 0, 0, 1, 1],\n       [1, 1, 1, 0, 1, 1, 1, 0, 0, 1],\n       [1, 0, 0, 0, 0, 0, 1, 0, 1, 1],\n       [1, 0, 1, 0, 1, 0, 0, 0, 0, 1],\n       [1, 1, 1, 1, 1, 1, 1, 1, 3, 1]]), 'generation_start_coords': (8, 7), 'generation_start_neighbours': [], 'turns_elapsed': 0, 'done': False, 'coord_to_index_state': array([[27, 46, 95, 50, 74, 84, 90,  0, 37, 97],\n       [21, 24, 94, 39, 44, 88,  2, 30, 99, 11],\n       [13, 72, 76, 54, 51, 58, 93, 79, 20, 73],\n       [89, 71, 87, 48, 69, 60, 64, 65, 61, 78],\n       [26, 35, 62, 14, 56, 42, 80, 53, 36, 83],\n       [49, 98, 31, 77, 18, 16, 59, 10, 43, 67],\n       [66, 34,  9,  8, 63,  7, 33, 47, 32,  3],\n       [52,  1, 96, 82, 19, 85, 68, 29, 12, 92],\n       [22, 91, 70,  6,  5, 15, 55, 17, 57, 25],\n       [41, 75, 45, 40, 38, 28, 86,  4, 81, 23]]), 'prob_of_slipping': [0.1, 0.1, 0.1, 0.1, 0.6]}\n"
     ]
    }
   ],
   "source": [
    "qm.display(debug=True)"
   ]
  },
  {
   "source": [
    "### One iteration to check policy is working with QLearning"
   ],
   "cell_type": "markdown",
   "metadata": {}
  },
  {
   "cell_type": "code",
   "execution_count": 12,
   "metadata": {},
   "outputs": [
    {
     "output_type": "stream",
     "name": "stdout",
     "text": [
      "113\n-480\n"
     ]
    },
    {
     "output_type": "display_data",
     "data": {
      "text/plain": "<Figure size 432x288 with 2 Axes>",
      "image/svg+xml": "<?xml version=\"1.0\" encoding=\"utf-8\" standalone=\"no\"?>\n<!DOCTYPE svg PUBLIC \"-//W3C//DTD SVG 1.1//EN\"\n  \"http://www.w3.org/Graphics/SVG/1.1/DTD/svg11.dtd\">\n<!-- Created with matplotlib (https://matplotlib.org/) -->\n<svg height=\"251.564219pt\" version=\"1.1\" viewBox=\"0 0 292.912937 251.564219\" width=\"292.912937pt\" xmlns=\"http://www.w3.org/2000/svg\" xmlns:xlink=\"http://www.w3.org/1999/xlink\">\n <metadata>\n  <rdf:RDF xmlns:cc=\"http://creativecommons.org/ns#\" xmlns:dc=\"http://purl.org/dc/elements/1.1/\" xmlns:rdf=\"http://www.w3.org/1999/02/22-rdf-syntax-ns#\">\n   <cc:Work>\n    <dc:type rdf:resource=\"http://purl.org/dc/dcmitype/StillImage\"/>\n    <dc:date>2021-04-10T21:47:15.412611</dc:date>\n    <dc:format>image/svg+xml</dc:format>\n    <dc:creator>\n     <cc:Agent>\n      <dc:title>Matplotlib v3.3.4, https://matplotlib.org/</dc:title>\n     </cc:Agent>\n    </dc:creator>\n   </cc:Work>\n  </rdf:RDF>\n </metadata>\n <defs>\n  <style type=\"text/css\">*{stroke-linecap:butt;stroke-linejoin:round;}</style>\n </defs>\n <g id=\"figure_1\">\n  <g id=\"patch_1\">\n   <path d=\"M 0 251.564219 \nL 292.912937 251.564219 \nL 292.912937 0 \nL 0 0 \nz\n\" style=\"fill:#ffffff;\"/>\n  </g>\n  <g id=\"axes_1\">\n   <g id=\"patch_2\">\n    <path d=\"M 19.760938 228.218906 \nL 237.200937 228.218906 \nL 237.200937 10.778906 \nL 19.760938 10.778906 \nz\n\" style=\"fill:#ffffff;\"/>\n   </g>\n   <g clip-path=\"url(#p978b9c0ead)\">\n    <image height=\"218\" id=\"image02dac698ff\" transform=\"scale(1 -1)translate(0 -218)\" width=\"218\" x=\"19.760938\" xlink:href=\"data:image/png;base64,\niVBORw0KGgoAAAANSUhEUgAAANoAAADaCAYAAADAHVzbAAADL0lEQVR4nO3cMYoTYRyH4cxmA8paWAiyYGNt5d5hQfAIHmbPZOERPIOVtY3FForBkIxnCMz3jtHnOcCPr5iXfzfT/d3DvAGGulr7AfA/EBoEhAYBoUFAaBAQGgSEBgGhQUBoEBAaBIQGAaFBQGgQEBoEhAYBoUFAaBAQGgSEBgGhQUBoELhe+wGcbzoc137CWa5+/lp889Pnj4tvbjabzbv3H4bsumgQEBoEhAYBoUFAaBAQGgSEBgGhQUBoEBAaBIQGAaFBQGgQEBoEhAYBoUFAaBAQGgSEBgGhQUBoEJju7x7mtR8B/zoXDQJCg4DQICA0CAgNAkKDgNAgIDQICA0CQoOA0CAgNAgIDQJCg4DQICA0CAgNAkKDgNAgIDQICA0CQoOA0CAgNAgIDQJCg4DQICA0CAgNAkKDgNAgIDQICA0CQoOA0CAgNAgIDQJCg4DQICA0CAgNAkKDwPXaD+B805evQ3avbl8O2T3dPF18c95tF98cyUWDgNAgIDQICA0CQoOA0CAgNAgIDQJCg4DQICA0CAgNAkKDgNAgIDQICA0CQoOA0CAgNAgIDQJCg4C/YF2g034/ZHd+/mzILi4aJIQGAaFBQGgQEBoEhAYBoUFAaBAQGgSEBgGhQUBoEBAaBIQGAaFBQGgQEBoEhAYBoUFAaBAQGgT8BesCTW/frP2Es0yH4+Kb8267+OZILhoEhAYBoUFAaBAQGgSEBgGhQUBoEBAaBIQGAaFBQGgQEBoEhAYBoUFAaBAQGgSEBgGhQUBoEBAaBPwF6wJtH38M2Z13l/M5TL8PQ3ZPN0+G7LpoEBAaBIQGAaFBQGgQEBoEhAYBoUFAaBAQGgSEBgGhQUBoEBAaBIQGAaFBQGgQEBoEhAYBoUHgcv7GcoG2374P2Z33+yG7p9evhuziokFCaBAQGgSEBgGhQUBoEBAaBIQGAaFBQGgQEBoEhAYBoUFAaBAQGgSEBgGhQUBoEBAaBIQGAaFBwF+wBjrevlj7CfwlXDQICA0CQoOA0CAgNAgIDQJCg4DQICA0CAgNAkKDgNAgIDQICA0CQoOA0CAgNAgIDQJCg4DQICA0CPwBOOAlMeNW6+wAAAAASUVORK5CYII=\" y=\"-10.218906\"/>\n   </g>\n   <g id=\"matplotlib.axis_1\">\n    <g id=\"xtick_1\">\n     <g id=\"text_1\">\n      <!-- 0 -->\n      <g style=\"fill:#262626;\" transform=\"translate(27.852469 242.376719)scale(0.1 -0.1)\">\n       <defs>\n        <path d=\"M 4.15625 35.296875 \nQ 4.15625 48 6.765625 55.734375 \nQ 9.375 63.484375 14.515625 67.671875 \nQ 19.671875 71.875 27.484375 71.875 \nQ 33.25 71.875 37.59375 69.546875 \nQ 41.9375 67.234375 44.765625 62.859375 \nQ 47.609375 58.5 49.21875 52.21875 \nQ 50.828125 45.953125 50.828125 35.296875 \nQ 50.828125 22.703125 48.234375 14.96875 \nQ 45.65625 7.234375 40.5 3 \nQ 35.359375 -1.21875 27.484375 -1.21875 \nQ 17.140625 -1.21875 11.234375 6.203125 \nQ 4.15625 15.140625 4.15625 35.296875 \nz\nM 13.1875 35.296875 \nQ 13.1875 17.671875 17.3125 11.828125 \nQ 21.4375 6 27.484375 6 \nQ 33.546875 6 37.671875 11.859375 \nQ 41.796875 17.71875 41.796875 35.296875 \nQ 41.796875 52.984375 37.671875 58.78125 \nQ 33.546875 64.59375 27.390625 64.59375 \nQ 21.34375 64.59375 17.71875 59.46875 \nQ 13.1875 52.9375 13.1875 35.296875 \nz\n\" id=\"ArialMT-48\"/>\n       </defs>\n       <use xlink:href=\"#ArialMT-48\"/>\n      </g>\n     </g>\n    </g>\n    <g id=\"xtick_2\">\n     <g id=\"text_2\">\n      <!-- 2 -->\n      <g style=\"fill:#262626;\" transform=\"translate(71.340469 242.376719)scale(0.1 -0.1)\">\n       <defs>\n        <path d=\"M 50.34375 8.453125 \nL 50.34375 0 \nL 3.03125 0 \nQ 2.9375 3.171875 4.046875 6.109375 \nQ 5.859375 10.9375 9.828125 15.625 \nQ 13.8125 20.3125 21.34375 26.46875 \nQ 33.015625 36.03125 37.109375 41.625 \nQ 41.21875 47.21875 41.21875 52.203125 \nQ 41.21875 57.421875 37.46875 61 \nQ 33.734375 64.59375 27.734375 64.59375 \nQ 21.390625 64.59375 17.578125 60.78125 \nQ 13.765625 56.984375 13.71875 50.25 \nL 4.6875 51.171875 \nQ 5.609375 61.28125 11.65625 66.578125 \nQ 17.71875 71.875 27.9375 71.875 \nQ 38.234375 71.875 44.234375 66.15625 \nQ 50.25 60.453125 50.25 52 \nQ 50.25 47.703125 48.484375 43.546875 \nQ 46.734375 39.40625 42.65625 34.8125 \nQ 38.578125 30.21875 29.109375 22.21875 \nQ 21.1875 15.578125 18.9375 13.203125 \nQ 16.703125 10.84375 15.234375 8.453125 \nz\n\" id=\"ArialMT-50\"/>\n       </defs>\n       <use xlink:href=\"#ArialMT-50\"/>\n      </g>\n     </g>\n    </g>\n    <g id=\"xtick_3\">\n     <g id=\"text_3\">\n      <!-- 4 -->\n      <g style=\"fill:#262626;\" transform=\"translate(114.828469 242.376719)scale(0.1 -0.1)\">\n       <defs>\n        <path d=\"M 32.328125 0 \nL 32.328125 17.140625 \nL 1.265625 17.140625 \nL 1.265625 25.203125 \nL 33.9375 71.578125 \nL 41.109375 71.578125 \nL 41.109375 25.203125 \nL 50.78125 25.203125 \nL 50.78125 17.140625 \nL 41.109375 17.140625 \nL 41.109375 0 \nz\nM 32.328125 25.203125 \nL 32.328125 57.46875 \nL 9.90625 25.203125 \nz\n\" id=\"ArialMT-52\"/>\n       </defs>\n       <use xlink:href=\"#ArialMT-52\"/>\n      </g>\n     </g>\n    </g>\n    <g id=\"xtick_4\">\n     <g id=\"text_4\">\n      <!-- 6 -->\n      <g style=\"fill:#262626;\" transform=\"translate(158.316469 242.376719)scale(0.1 -0.1)\">\n       <defs>\n        <path d=\"M 49.75 54.046875 \nL 41.015625 53.375 \nQ 39.84375 58.546875 37.703125 60.890625 \nQ 34.125 64.65625 28.90625 64.65625 \nQ 24.703125 64.65625 21.53125 62.3125 \nQ 17.390625 59.28125 14.984375 53.46875 \nQ 12.59375 47.65625 12.5 36.921875 \nQ 15.671875 41.75 20.265625 44.09375 \nQ 24.859375 46.4375 29.890625 46.4375 \nQ 38.671875 46.4375 44.84375 39.96875 \nQ 51.03125 33.5 51.03125 23.25 \nQ 51.03125 16.5 48.125 10.71875 \nQ 45.21875 4.9375 40.140625 1.859375 \nQ 35.0625 -1.21875 28.609375 -1.21875 \nQ 17.625 -1.21875 10.6875 6.859375 \nQ 3.765625 14.9375 3.765625 33.5 \nQ 3.765625 54.25 11.421875 63.671875 \nQ 18.109375 71.875 29.4375 71.875 \nQ 37.890625 71.875 43.28125 67.140625 \nQ 48.6875 62.40625 49.75 54.046875 \nz\nM 13.875 23.1875 \nQ 13.875 18.65625 15.796875 14.5 \nQ 17.71875 10.359375 21.1875 8.171875 \nQ 24.65625 6 28.46875 6 \nQ 34.03125 6 38.03125 10.484375 \nQ 42.046875 14.984375 42.046875 22.703125 \nQ 42.046875 30.125 38.078125 34.390625 \nQ 34.125 38.671875 28.125 38.671875 \nQ 22.171875 38.671875 18.015625 34.390625 \nQ 13.875 30.125 13.875 23.1875 \nz\n\" id=\"ArialMT-54\"/>\n       </defs>\n       <use xlink:href=\"#ArialMT-54\"/>\n      </g>\n     </g>\n    </g>\n    <g id=\"xtick_5\">\n     <g id=\"text_5\">\n      <!-- 8 -->\n      <g style=\"fill:#262626;\" transform=\"translate(201.804469 242.376719)scale(0.1 -0.1)\">\n       <defs>\n        <path d=\"M 17.671875 38.8125 \nQ 12.203125 40.828125 9.5625 44.53125 \nQ 6.9375 48.25 6.9375 53.421875 \nQ 6.9375 61.234375 12.546875 66.546875 \nQ 18.171875 71.875 27.484375 71.875 \nQ 36.859375 71.875 42.578125 66.421875 \nQ 48.296875 60.984375 48.296875 53.171875 \nQ 48.296875 48.1875 45.671875 44.5 \nQ 43.0625 40.828125 37.75 38.8125 \nQ 44.34375 36.671875 47.78125 31.875 \nQ 51.21875 27.09375 51.21875 20.453125 \nQ 51.21875 11.28125 44.71875 5.03125 \nQ 38.234375 -1.21875 27.640625 -1.21875 \nQ 17.046875 -1.21875 10.546875 5.046875 \nQ 4.046875 11.328125 4.046875 20.703125 \nQ 4.046875 27.6875 7.59375 32.390625 \nQ 11.140625 37.109375 17.671875 38.8125 \nz\nM 15.921875 53.71875 \nQ 15.921875 48.640625 19.1875 45.40625 \nQ 22.46875 42.1875 27.6875 42.1875 \nQ 32.765625 42.1875 36.015625 45.375 \nQ 39.265625 48.578125 39.265625 53.21875 \nQ 39.265625 58.0625 35.90625 61.359375 \nQ 32.5625 64.65625 27.59375 64.65625 \nQ 22.5625 64.65625 19.234375 61.421875 \nQ 15.921875 58.203125 15.921875 53.71875 \nz\nM 13.09375 20.65625 \nQ 13.09375 16.890625 14.875 13.375 \nQ 16.65625 9.859375 20.171875 7.921875 \nQ 23.6875 6 27.734375 6 \nQ 34.03125 6 38.125 10.046875 \nQ 42.234375 14.109375 42.234375 20.359375 \nQ 42.234375 26.703125 38.015625 30.859375 \nQ 33.796875 35.015625 27.4375 35.015625 \nQ 21.234375 35.015625 17.15625 30.90625 \nQ 13.09375 26.8125 13.09375 20.65625 \nz\n\" id=\"ArialMT-56\"/>\n       </defs>\n       <use xlink:href=\"#ArialMT-56\"/>\n      </g>\n     </g>\n    </g>\n   </g>\n   <g id=\"matplotlib.axis_2\">\n    <g id=\"ytick_1\">\n     <g id=\"text_6\">\n      <!-- 0 -->\n      <g style=\"fill:#262626;\" transform=\"translate(7.2 25.229812)scale(0.1 -0.1)\">\n       <use xlink:href=\"#ArialMT-48\"/>\n      </g>\n     </g>\n    </g>\n    <g id=\"ytick_2\">\n     <g id=\"text_7\">\n      <!-- 2 -->\n      <g style=\"fill:#262626;\" transform=\"translate(7.2 68.717812)scale(0.1 -0.1)\">\n       <use xlink:href=\"#ArialMT-50\"/>\n      </g>\n     </g>\n    </g>\n    <g id=\"ytick_3\">\n     <g id=\"text_8\">\n      <!-- 4 -->\n      <g style=\"fill:#262626;\" transform=\"translate(7.2 112.205812)scale(0.1 -0.1)\">\n       <use xlink:href=\"#ArialMT-52\"/>\n      </g>\n     </g>\n    </g>\n    <g id=\"ytick_4\">\n     <g id=\"text_9\">\n      <!-- 6 -->\n      <g style=\"fill:#262626;\" transform=\"translate(7.2 155.693812)scale(0.1 -0.1)\">\n       <use xlink:href=\"#ArialMT-54\"/>\n      </g>\n     </g>\n    </g>\n    <g id=\"ytick_5\">\n     <g id=\"text_10\">\n      <!-- 8 -->\n      <g style=\"fill:#262626;\" transform=\"translate(7.2 199.181812)scale(0.1 -0.1)\">\n       <use xlink:href=\"#ArialMT-56\"/>\n      </g>\n     </g>\n    </g>\n   </g>\n   <g id=\"patch_3\">\n    <path d=\"M 19.760938 228.218906 \nL 19.760938 10.778906 \n\" style=\"fill:none;stroke:#cccccc;stroke-linecap:square;stroke-linejoin:miter;stroke-width:0.8;\"/>\n   </g>\n   <g id=\"patch_4\">\n    <path d=\"M 237.200937 228.218906 \nL 237.200937 10.778906 \n\" style=\"fill:none;stroke:#cccccc;stroke-linecap:square;stroke-linejoin:miter;stroke-width:0.8;\"/>\n   </g>\n   <g id=\"patch_5\">\n    <path d=\"M 19.760938 228.218906 \nL 237.200938 228.218906 \n\" style=\"fill:none;stroke:#cccccc;stroke-linecap:square;stroke-linejoin:miter;stroke-width:0.8;\"/>\n   </g>\n   <g id=\"patch_6\">\n    <path d=\"M 19.760938 10.778906 \nL 237.200938 10.778906 \n\" style=\"fill:none;stroke:#cccccc;stroke-linecap:square;stroke-linejoin:miter;stroke-width:0.8;\"/>\n   </g>\n  </g>\n  <g id=\"axes_2\">\n   <g id=\"patch_7\">\n    <path clip-path=\"url(#p576f1e4d0f)\" d=\"M 253.940938 228.218906 \nL 253.940938 227.369531 \nL 253.940938 11.628281 \nL 253.940938 10.778906 \nL 264.812937 10.778906 \nL 264.812937 11.628281 \nL 264.812937 227.369531 \nL 264.812937 228.218906 \nz\n\" style=\"fill:#ffffff;stroke:#ffffff;stroke-linejoin:miter;stroke-width:0.01;\"/>\n   </g>\n   <g id=\"matplotlib.axis_3\"/>\n   <g id=\"matplotlib.axis_4\">\n    <g id=\"ytick_6\">\n     <g id=\"line2d_1\">\n      <defs>\n       <path d=\"M 0 0 \nL 3.5 0 \n\" id=\"m2f75797b65\" style=\"stroke:#262626;stroke-width:0.8;\"/>\n      </defs>\n      <g>\n       <use style=\"fill:#262626;stroke:#262626;stroke-width:0.8;\" x=\"264.812937\" xlink:href=\"#m2f75797b65\" y=\"228.218906\"/>\n      </g>\n     </g>\n     <g id=\"text_11\">\n      <!-- 0.0 -->\n      <g style=\"fill:#262626;\" transform=\"translate(271.812937 231.797812)scale(0.1 -0.1)\">\n       <defs>\n        <path d=\"M 9.078125 0 \nL 9.078125 10.015625 \nL 19.09375 10.015625 \nL 19.09375 0 \nz\n\" id=\"ArialMT-46\"/>\n       </defs>\n       <use xlink:href=\"#ArialMT-48\"/>\n       <use x=\"55.615234\" xlink:href=\"#ArialMT-46\"/>\n       <use x=\"83.398438\" xlink:href=\"#ArialMT-48\"/>\n      </g>\n     </g>\n    </g>\n    <g id=\"ytick_7\">\n     <g id=\"line2d_2\">\n      <g>\n       <use style=\"fill:#262626;stroke:#262626;stroke-width:0.8;\" x=\"264.812937\" xlink:href=\"#m2f75797b65\" y=\"184.730906\"/>\n      </g>\n     </g>\n     <g id=\"text_12\">\n      <!-- 0.2 -->\n      <g style=\"fill:#262626;\" transform=\"translate(271.812937 188.309812)scale(0.1 -0.1)\">\n       <use xlink:href=\"#ArialMT-48\"/>\n       <use x=\"55.615234\" xlink:href=\"#ArialMT-46\"/>\n       <use x=\"83.398438\" xlink:href=\"#ArialMT-50\"/>\n      </g>\n     </g>\n    </g>\n    <g id=\"ytick_8\">\n     <g id=\"line2d_3\">\n      <g>\n       <use style=\"fill:#262626;stroke:#262626;stroke-width:0.8;\" x=\"264.812937\" xlink:href=\"#m2f75797b65\" y=\"141.242906\"/>\n      </g>\n     </g>\n     <g id=\"text_13\">\n      <!-- 0.4 -->\n      <g style=\"fill:#262626;\" transform=\"translate(271.812937 144.821812)scale(0.1 -0.1)\">\n       <use xlink:href=\"#ArialMT-48\"/>\n       <use x=\"55.615234\" xlink:href=\"#ArialMT-46\"/>\n       <use x=\"83.398438\" xlink:href=\"#ArialMT-52\"/>\n      </g>\n     </g>\n    </g>\n    <g id=\"ytick_9\">\n     <g id=\"line2d_4\">\n      <g>\n       <use style=\"fill:#262626;stroke:#262626;stroke-width:0.8;\" x=\"264.812937\" xlink:href=\"#m2f75797b65\" y=\"97.754906\"/>\n      </g>\n     </g>\n     <g id=\"text_14\">\n      <!-- 0.6 -->\n      <g style=\"fill:#262626;\" transform=\"translate(271.812937 101.333812)scale(0.1 -0.1)\">\n       <use xlink:href=\"#ArialMT-48\"/>\n       <use x=\"55.615234\" xlink:href=\"#ArialMT-46\"/>\n       <use x=\"83.398438\" xlink:href=\"#ArialMT-54\"/>\n      </g>\n     </g>\n    </g>\n    <g id=\"ytick_10\">\n     <g id=\"line2d_5\">\n      <g>\n       <use style=\"fill:#262626;stroke:#262626;stroke-width:0.8;\" x=\"264.812937\" xlink:href=\"#m2f75797b65\" y=\"54.266906\"/>\n      </g>\n     </g>\n     <g id=\"text_15\">\n      <!-- 0.8 -->\n      <g style=\"fill:#262626;\" transform=\"translate(271.812937 57.845812)scale(0.1 -0.1)\">\n       <use xlink:href=\"#ArialMT-48\"/>\n       <use x=\"55.615234\" xlink:href=\"#ArialMT-46\"/>\n       <use x=\"83.398438\" xlink:href=\"#ArialMT-56\"/>\n      </g>\n     </g>\n    </g>\n    <g id=\"ytick_11\">\n     <g id=\"line2d_6\">\n      <g>\n       <use style=\"fill:#262626;stroke:#262626;stroke-width:0.8;\" x=\"264.812937\" xlink:href=\"#m2f75797b65\" y=\"10.778906\"/>\n      </g>\n     </g>\n     <g id=\"text_16\">\n      <!-- 1.0 -->\n      <g style=\"fill:#262626;\" transform=\"translate(271.812937 14.357812)scale(0.1 -0.1)\">\n       <defs>\n        <path d=\"M 37.25 0 \nL 28.46875 0 \nL 28.46875 56 \nQ 25.296875 52.984375 20.140625 49.953125 \nQ 14.984375 46.921875 10.890625 45.40625 \nL 10.890625 53.90625 \nQ 18.265625 57.375 23.78125 62.296875 \nQ 29.296875 67.234375 31.59375 71.875 \nL 37.25 71.875 \nz\n\" id=\"ArialMT-49\"/>\n       </defs>\n       <use xlink:href=\"#ArialMT-49\"/>\n       <use x=\"55.615234\" xlink:href=\"#ArialMT-46\"/>\n       <use x=\"83.398438\" xlink:href=\"#ArialMT-48\"/>\n      </g>\n     </g>\n    </g>\n   </g>\n   <image height=\"218\" id=\"image62b6e41c3f\" transform=\"scale(1 -1)translate(0 -218)\" width=\"11\" x=\"254\" xlink:href=\"data:image/png;base64,\niVBORw0KGgoAAAANSUhEUgAAAAsAAADaCAYAAABwzrisAAABaElEQVR4nO2aMW7EMAwERVLKy/KE/P8llyhtSk4xAB2c6wWxnKVpn3zxGV93Na+9IrvataMKiDP6YmRjscpAjBpcSTwTG6jB8NChBj0anpjRQLMxo0EkLpDgZZzb2jE0bs2wMYPz1eb5ep77WnjDeqGwyqRBRAPGDSpDzqTyA2nABi10t/9ke2aDzDO7YTUbYoMjOI+hMcLGFBr/vvI77r+V2dsXqWx5Bo4fOhtm3O2ToWfOs0aDTZ1JQ0uQrQLLhkcDnJOpnJF4WTaCrILQaIBXfho3Eae2GJENUNhsMDXOUNzWQs8VPxNssARRgwkaTLJkPM+eeJO4h3hmYpLgzu8JNiANkOBhcVuzUYyGZeOEFXctDR2iQTiffAEbWoJeZRQ3StALBVYG4g82/ChBhA5tUSuUs8hsePPsNeglqD3aUGUkPmzq+tcG38bXLvB7idk45K8v0AYQF/luleCchdk4sdtidJz1CyI3gWiDlzgyAAAAAElFTkSuQmCC\" y=\"-10\"/>\n   <g id=\"patch_8\">\n    <path d=\"M 253.940938 228.218906 \nL 253.940938 227.369531 \nL 253.940938 11.628281 \nL 253.940938 10.778906 \nL 264.812937 10.778906 \nL 264.812937 11.628281 \nL 264.812937 227.369531 \nL 264.812937 228.218906 \nz\n\" style=\"fill:none;stroke:#cccccc;stroke-linejoin:miter;stroke-width:0.8;\"/>\n   </g>\n  </g>\n </g>\n <defs>\n  <clipPath id=\"p978b9c0ead\">\n   <rect height=\"217.44\" width=\"217.44\" x=\"19.760938\" y=\"10.778906\"/>\n  </clipPath>\n  <clipPath id=\"p576f1e4d0f\">\n   <rect height=\"217.44\" width=\"10.872\" x=\"253.940938\" y=\"10.778906\"/>\n  </clipPath>\n </defs>\n</svg>\n",
      "image/png": "[encoded data removed]"
     },
     "metadata": {}
    }
   ],
   "source": [
    "done = False\n",
    "total_reward = 0\n",
    "\n",
    "while not done:\n",
    "    next_action = eg_policy(state, ql.q_value_store)\n",
    "    next_state, reward, done = qm.step(next_action)\n",
    "    next_action_index = next_action.value.index\n",
    "    \n",
    "    ql.update_q_values(\n",
    "        current_state=state,\n",
    "        next_action=next_action_index,\n",
    "        next_reward=reward,\n",
    "        next_state=next_state\n",
    "    )\n",
    "\n",
    "    eg_policy.update_epsilon()\n",
    "    state = next_state\n",
    "    total_reward += reward\n",
    "\n",
    "print(qm.turns_elapsed)\n",
    "print(total_reward)\n",
    "vals = ql.display_q_values()\n",
    "plt.imshow((vals - vals.min())/(vals.max() - vals.min()), cmap=\"viridis\")\n",
    "plt.colorbar()\n",
    "plt.grid(False)\n",
    "plt.show();"
   ]
  },
  {
   "cell_type": "code",
   "execution_count": 15,
   "metadata": {},
   "outputs": [
    {
     "output_type": "stream",
     "name": "stdout",
     "text": [
      "X X X X X X X X X X \nX . . X I . X X . X \nX X . X X . . . . X \nX . . . X X X . X X \nX X X . X . X . . X \nX . . . X . . . X X \nX X X . X X X . . X \nX . . . . . X . X X \nX . X . X . . . . X \nX X X X X X X X A X \n\n"
     ]
    }
   ],
   "source": [
    "# The maze is solved\n",
    "qm.display()"
   ]
  },
  {
   "source": [
    "## Run for more episodes\n",
    "\n",
    "Parameterise:\n",
    "- epsilon for e-greedy\n",
    "- gamma - discount factor\n",
    "- alpha - learning rate or memory\n",
    "- size of maze\n",
    "- max reward\n",
    "- decay - constant decay of epsilon"
   ],
   "cell_type": "markdown",
   "metadata": {}
  },
  {
   "cell_type": "code",
   "execution_count": 4,
   "metadata": {},
   "outputs": [],
   "source": [
    "# Results = namedtuple(\"Results\", \"all_rewards, max_reward, mean_reward, var_reward, all_turns_elapsed, max_turns_elapsed, mean_turns_elapsed, var_turns_elapsed, mean_ending_epsilon\")"
   ]
  },
  {
   "cell_type": "code",
   "execution_count": 5,
   "metadata": {},
   "outputs": [],
   "source": [
    "# def train_ql_for_one_episode(environment: QMaze, q_learning_method: QLearning, policy: EGreedyPolicy) -> Tuple[int, int, float]:\n",
    "#     state: int = environment.reset()\n",
    "#     done: bool = False\n",
    "#     total_reward: float = 0\n",
    "\n",
    "#     while not done:\n",
    "#         next_action = policy(state, q_learning_method.q_value_store)\n",
    "#         next_state, reward, done = environment.step(next_action)\n",
    "#         next_action_index = next_action.value.index\n",
    "        \n",
    "#         q_learning_method.update_q_values(\n",
    "#             current_state=state,\n",
    "#             next_action=next_action_index,\n",
    "#             next_reward=reward,\n",
    "#             next_state=next_state\n",
    "#         )\n",
    "\n",
    "#         policy.update_epsilon()\n",
    "#         state = next_state\n",
    "#         total_reward += reward\n",
    "\n",
    "#     return total_reward, environment.turns_elapsed, policy.epsilon"
   ]
  },
  {
   "cell_type": "code",
   "execution_count": 6,
   "metadata": {},
   "outputs": [],
   "source": [
    "# def run_ql_experiments(environment: QMaze, policy: EGreedyPolicy, q_learning_method: QLearning, num_episodes: int) -> Results:\n",
    "#     all_rewards:list = []\n",
    "#     all_turns_elapsed: list = []\n",
    "#     all_ending_epsilon: list = []\n",
    "\n",
    "#     for _ in range(num_episodes):\n",
    "\n",
    "#         final_reward, final_turns_elapsed, final_epsilon = train_ql_for_one_episode(environment=environment, policy=policy, q_learning_method=q_learning_method)\n",
    "\n",
    "#         # Record some information\n",
    "#         all_rewards.append(final_reward)\n",
    "#         all_turns_elapsed.append(final_turns_elapsed)\n",
    "#         all_ending_epsilon.append(final_epsilon)\n",
    "\n",
    "#     max_reward = max(all_rewards)\n",
    "#     mean_reward = np.mean(all_rewards)\n",
    "#     var_reward = np.std(all_rewards)\n",
    "\n",
    "#     max_turns_elapsed = max(all_turns_elapsed)\n",
    "#     mean_turns_elapsed = np.mean(all_turns_elapsed)\n",
    "#     var_turns_elapsed = np.std(all_turns_elapsed)\n",
    "\n",
    "#     mean_ending_epsilon = np.mean(all_ending_epsilon)\n",
    "#     # policy.reset()\n",
    "\n",
    "#     return Results(all_rewards, max_reward, mean_reward, var_reward, all_turns_elapsed, max_turns_elapsed, mean_turns_elapsed, var_turns_elapsed, mean_ending_epsilon)\n"
   ]
  },
  {
   "cell_type": "code",
   "execution_count": 7,
   "metadata": {},
   "outputs": [],
   "source": [
    "def plot_mean_rewards_episodes(episode_idx: int, experiment_mean_rewards: list):\n",
    "    clear_output(True)\n",
    "    plt.figure(figsize=(20,5))\n",
    "    plt.subplot(131)\n",
    "    plt.title(f\"Last mean reward of {experiment_mean_rewards[-1]} after {episode_idx} episodes\")\n",
    "    plt.xlabel(\"Per 100 episodes\")\n",
    "    plt.ylabel(\"Mean reward\")\n",
    "    plt.plot(experiment_mean_rewards)\n",
    "    plt.show()\n",
    "\n",
    "def plot_turns_elapsed_episodes(episode_idx: int, experiment_mean_turns_elapsed: list):\n",
    "    clear_output(True)\n",
    "    plt.figure(figsize=(20,5))\n",
    "    plt.subplot(131)\n",
    "    plt.title(f\"Last turns elapsed of {experiment_mean_turns_elapsed[-1]} after {episode_idx} episodes\")\n",
    "    plt.xlabel(\"Per 100 episodes\")\n",
    "    plt.ylabel(\"Mean turns elapsed\")\n",
    "    plt.plot(experiment_mean_turns_elapsed)\n",
    "    plt.show()"
   ]
  },
  {
   "cell_type": "code",
   "execution_count": 9,
   "metadata": {},
   "outputs": [
    {
     "output_type": "stream",
     "name": "stderr",
     "text": [
      "  1%|          | 1/100 [00:01<02:39,  1.61s/it]Run: 0, ending epsilon: 0.0900567811781995, mean reward: -640.98, mean turns elapsed: 154.91, std reward: 758.5402953040795\n",
      "  2%|▏         | 2/100 [00:02<01:35,  1.02it/s]Run: 1, ending epsilon: 0.0900567811781995, mean reward: -235.29, mean turns elapsed: 70.43, std reward: 389.55416298635544\n",
      " 21%|██        | 21/100 [00:02<00:05, 14.28it/s]Run: 10, ending epsilon: 0.0900567811781995, mean reward: -83.67, mean turns elapsed: 39.47, std reward: 231.64740684928896\n",
      "Run: 20, ending epsilon: 0.0900567811781995, mean reward: -15.99, mean turns elapsed: 25.86, std reward: 169.16964828242683\n",
      " 41%|████      | 41/100 [00:02<00:01, 30.38it/s]Run: 30, ending epsilon: 0.0900567811781995, mean reward: -4.85, mean turns elapsed: 24.28, std reward: 123.3792020561002\n",
      "Run: 40, ending epsilon: 0.0900567811781995, mean reward: 45.62, mean turns elapsed: 14.9, std reward: 37.02857815255671\n",
      " 61%|██████    | 61/100 [00:03<00:00, 46.57it/s]Run: 50, ending epsilon: 0.0900567811781995, mean reward: 42.4, mean turns elapsed: 15.67, std reward: 56.17312524686516\n",
      "Run: 60, ending epsilon: 0.0900567811781995, mean reward: 44.55, mean turns elapsed: 15.39, std reward: 51.37399634056125\n",
      " 81%|████████  | 81/100 [00:03<00:00, 60.84it/s]Run: 70, ending epsilon: 0.0900567811781995, mean reward: 48.63, mean turns elapsed: 14.39, std reward: 21.8671694556017\n",
      "Run: 80, ending epsilon: 0.0900567811781995, mean reward: 50.12, mean turns elapsed: 14.25, std reward: 33.683610257809356\n",
      "100%|██████████| 100/100 [00:03<00:00, 28.16it/s]\n",
      "Run: 90, ending epsilon: 0.0900567811781995, mean reward: 51.68, mean turns elapsed: 14.28, std reward: 16.986983251890255\n"
     ]
    },
    {
     "output_type": "display_data",
     "data": {
      "text/plain": "<Figure size 432x288 with 1 Axes>",
      "image/svg+xml": "<?xml version=\"1.0\" encoding=\"utf-8\" standalone=\"no\"?>\n<!DOCTYPE svg PUBLIC \"-//W3C//DTD SVG 1.1//EN\"\n  \"http://www.w3.org/Graphics/SVG/1.1/DTD/svg11.dtd\">\n<!-- Created with matplotlib (https://matplotlib.org/) -->\n<svg height=\"275.895938pt\" version=\"1.1\" viewBox=\"0 0 397.15 275.895938\" width=\"397.15pt\" xmlns=\"http://www.w3.org/2000/svg\" xmlns:xlink=\"http://www.w3.org/1999/xlink\">\n <metadata>\n  <rdf:RDF xmlns:cc=\"http://creativecommons.org/ns#\" xmlns:dc=\"http://purl.org/dc/elements/1.1/\" xmlns:rdf=\"http://www.w3.org/1999/02/22-rdf-syntax-ns#\">\n   <cc:Work>\n    <dc:type rdf:resource=\"http://purl.org/dc/dcmitype/StillImage\"/>\n    <dc:date>2021-04-10T21:52:22.331550</dc:date>\n    <dc:format>image/svg+xml</dc:format>\n    <dc:creator>\n     <cc:Agent>\n      <dc:title>Matplotlib v3.3.4, https://matplotlib.org/</dc:title>\n     </cc:Agent>\n    </dc:creator>\n   </cc:Work>\n  </rdf:RDF>\n </metadata>\n <defs>\n  <style type=\"text/css\">*{stroke-linecap:butt;stroke-linejoin:round;}</style>\n </defs>\n <g id=\"figure_1\">\n  <g id=\"patch_1\">\n   <path d=\"M 0 275.895938 \nL 397.15 275.895938 \nL 397.15 0 \nL 0 0 \nz\n\" style=\"fill:#ffffff;\"/>\n  </g>\n  <g id=\"axes_1\">\n   <g id=\"patch_2\">\n    <path d=\"M 49.589063 239.375625 \nL 384.389063 239.375625 \nL 384.389063 21.935625 \nL 49.589063 21.935625 \nz\n\" style=\"fill:#ffffff;\"/>\n   </g>\n   <g id=\"matplotlib.axis_1\">\n    <g id=\"xtick_1\">\n     <g id=\"line2d_1\">\n      <path clip-path=\"url(#pf5923c92b7)\" d=\"M 49.589063 239.375625 \nL 49.589063 21.935625 \n\" style=\"fill:none;stroke:#cccccc;stroke-linecap:round;stroke-width:0.8;\"/>\n     </g>\n     <g id=\"text_1\">\n      <!-- 0 -->\n      <g style=\"fill:#262626;\" transform=\"translate(46.808594 253.533437)scale(0.1 -0.1)\">\n       <defs>\n        <path d=\"M 4.15625 35.296875 \nQ 4.15625 48 6.765625 55.734375 \nQ 9.375 63.484375 14.515625 67.671875 \nQ 19.671875 71.875 27.484375 71.875 \nQ 33.25 71.875 37.59375 69.546875 \nQ 41.9375 67.234375 44.765625 62.859375 \nQ 47.609375 58.5 49.21875 52.21875 \nQ 50.828125 45.953125 50.828125 35.296875 \nQ 50.828125 22.703125 48.234375 14.96875 \nQ 45.65625 7.234375 40.5 3 \nQ 35.359375 -1.21875 27.484375 -1.21875 \nQ 17.140625 -1.21875 11.234375 6.203125 \nQ 4.15625 15.140625 4.15625 35.296875 \nz\nM 13.1875 35.296875 \nQ 13.1875 17.671875 17.3125 11.828125 \nQ 21.4375 6 27.484375 6 \nQ 33.546875 6 37.671875 11.859375 \nQ 41.796875 17.71875 41.796875 35.296875 \nQ 41.796875 52.984375 37.671875 58.78125 \nQ 33.546875 64.59375 27.390625 64.59375 \nQ 21.34375 64.59375 17.71875 59.46875 \nQ 13.1875 52.9375 13.1875 35.296875 \nz\n\" id=\"ArialMT-48\"/>\n       </defs>\n       <use xlink:href=\"#ArialMT-48\"/>\n      </g>\n     </g>\n    </g>\n    <g id=\"xtick_2\">\n     <g id=\"line2d_2\">\n      <path clip-path=\"url(#pf5923c92b7)\" d=\"M 116.549063 239.375625 \nL 116.549063 21.935625 \n\" style=\"fill:none;stroke:#cccccc;stroke-linecap:round;stroke-width:0.8;\"/>\n     </g>\n     <g id=\"text_2\">\n      <!-- 2 -->\n      <g style=\"fill:#262626;\" transform=\"translate(113.768594 253.533437)scale(0.1 -0.1)\">\n       <defs>\n        <path d=\"M 50.34375 8.453125 \nL 50.34375 0 \nL 3.03125 0 \nQ 2.9375 3.171875 4.046875 6.109375 \nQ 5.859375 10.9375 9.828125 15.625 \nQ 13.8125 20.3125 21.34375 26.46875 \nQ 33.015625 36.03125 37.109375 41.625 \nQ 41.21875 47.21875 41.21875 52.203125 \nQ 41.21875 57.421875 37.46875 61 \nQ 33.734375 64.59375 27.734375 64.59375 \nQ 21.390625 64.59375 17.578125 60.78125 \nQ 13.765625 56.984375 13.71875 50.25 \nL 4.6875 51.171875 \nQ 5.609375 61.28125 11.65625 66.578125 \nQ 17.71875 71.875 27.9375 71.875 \nQ 38.234375 71.875 44.234375 66.15625 \nQ 50.25 60.453125 50.25 52 \nQ 50.25 47.703125 48.484375 43.546875 \nQ 46.734375 39.40625 42.65625 34.8125 \nQ 38.578125 30.21875 29.109375 22.21875 \nQ 21.1875 15.578125 18.9375 13.203125 \nQ 16.703125 10.84375 15.234375 8.453125 \nz\n\" id=\"ArialMT-50\"/>\n       </defs>\n       <use xlink:href=\"#ArialMT-50\"/>\n      </g>\n     </g>\n    </g>\n    <g id=\"xtick_3\">\n     <g id=\"line2d_3\">\n      <path clip-path=\"url(#pf5923c92b7)\" d=\"M 183.509063 239.375625 \nL 183.509063 21.935625 \n\" style=\"fill:none;stroke:#cccccc;stroke-linecap:round;stroke-width:0.8;\"/>\n     </g>\n     <g id=\"text_3\">\n      <!-- 4 -->\n      <g style=\"fill:#262626;\" transform=\"translate(180.728594 253.533437)scale(0.1 -0.1)\">\n       <defs>\n        <path d=\"M 32.328125 0 \nL 32.328125 17.140625 \nL 1.265625 17.140625 \nL 1.265625 25.203125 \nL 33.9375 71.578125 \nL 41.109375 71.578125 \nL 41.109375 25.203125 \nL 50.78125 25.203125 \nL 50.78125 17.140625 \nL 41.109375 17.140625 \nL 41.109375 0 \nz\nM 32.328125 25.203125 \nL 32.328125 57.46875 \nL 9.90625 25.203125 \nz\n\" id=\"ArialMT-52\"/>\n       </defs>\n       <use xlink:href=\"#ArialMT-52\"/>\n      </g>\n     </g>\n    </g>\n    <g id=\"xtick_4\">\n     <g id=\"line2d_4\">\n      <path clip-path=\"url(#pf5923c92b7)\" d=\"M 250.469063 239.375625 \nL 250.469063 21.935625 \n\" style=\"fill:none;stroke:#cccccc;stroke-linecap:round;stroke-width:0.8;\"/>\n     </g>\n     <g id=\"text_4\">\n      <!-- 6 -->\n      <g style=\"fill:#262626;\" transform=\"translate(247.688594 253.533437)scale(0.1 -0.1)\">\n       <defs>\n        <path d=\"M 49.75 54.046875 \nL 41.015625 53.375 \nQ 39.84375 58.546875 37.703125 60.890625 \nQ 34.125 64.65625 28.90625 64.65625 \nQ 24.703125 64.65625 21.53125 62.3125 \nQ 17.390625 59.28125 14.984375 53.46875 \nQ 12.59375 47.65625 12.5 36.921875 \nQ 15.671875 41.75 20.265625 44.09375 \nQ 24.859375 46.4375 29.890625 46.4375 \nQ 38.671875 46.4375 44.84375 39.96875 \nQ 51.03125 33.5 51.03125 23.25 \nQ 51.03125 16.5 48.125 10.71875 \nQ 45.21875 4.9375 40.140625 1.859375 \nQ 35.0625 -1.21875 28.609375 -1.21875 \nQ 17.625 -1.21875 10.6875 6.859375 \nQ 3.765625 14.9375 3.765625 33.5 \nQ 3.765625 54.25 11.421875 63.671875 \nQ 18.109375 71.875 29.4375 71.875 \nQ 37.890625 71.875 43.28125 67.140625 \nQ 48.6875 62.40625 49.75 54.046875 \nz\nM 13.875 23.1875 \nQ 13.875 18.65625 15.796875 14.5 \nQ 17.71875 10.359375 21.1875 8.171875 \nQ 24.65625 6 28.46875 6 \nQ 34.03125 6 38.03125 10.484375 \nQ 42.046875 14.984375 42.046875 22.703125 \nQ 42.046875 30.125 38.078125 34.390625 \nQ 34.125 38.671875 28.125 38.671875 \nQ 22.171875 38.671875 18.015625 34.390625 \nQ 13.875 30.125 13.875 23.1875 \nz\n\" id=\"ArialMT-54\"/>\n       </defs>\n       <use xlink:href=\"#ArialMT-54\"/>\n      </g>\n     </g>\n    </g>\n    <g id=\"xtick_5\">\n     <g id=\"line2d_5\">\n      <path clip-path=\"url(#pf5923c92b7)\" d=\"M 317.429063 239.375625 \nL 317.429063 21.935625 \n\" style=\"fill:none;stroke:#cccccc;stroke-linecap:round;stroke-width:0.8;\"/>\n     </g>\n     <g id=\"text_5\">\n      <!-- 8 -->\n      <g style=\"fill:#262626;\" transform=\"translate(314.648594 253.533437)scale(0.1 -0.1)\">\n       <defs>\n        <path d=\"M 17.671875 38.8125 \nQ 12.203125 40.828125 9.5625 44.53125 \nQ 6.9375 48.25 6.9375 53.421875 \nQ 6.9375 61.234375 12.546875 66.546875 \nQ 18.171875 71.875 27.484375 71.875 \nQ 36.859375 71.875 42.578125 66.421875 \nQ 48.296875 60.984375 48.296875 53.171875 \nQ 48.296875 48.1875 45.671875 44.5 \nQ 43.0625 40.828125 37.75 38.8125 \nQ 44.34375 36.671875 47.78125 31.875 \nQ 51.21875 27.09375 51.21875 20.453125 \nQ 51.21875 11.28125 44.71875 5.03125 \nQ 38.234375 -1.21875 27.640625 -1.21875 \nQ 17.046875 -1.21875 10.546875 5.046875 \nQ 4.046875 11.328125 4.046875 20.703125 \nQ 4.046875 27.6875 7.59375 32.390625 \nQ 11.140625 37.109375 17.671875 38.8125 \nz\nM 15.921875 53.71875 \nQ 15.921875 48.640625 19.1875 45.40625 \nQ 22.46875 42.1875 27.6875 42.1875 \nQ 32.765625 42.1875 36.015625 45.375 \nQ 39.265625 48.578125 39.265625 53.21875 \nQ 39.265625 58.0625 35.90625 61.359375 \nQ 32.5625 64.65625 27.59375 64.65625 \nQ 22.5625 64.65625 19.234375 61.421875 \nQ 15.921875 58.203125 15.921875 53.71875 \nz\nM 13.09375 20.65625 \nQ 13.09375 16.890625 14.875 13.375 \nQ 16.65625 9.859375 20.171875 7.921875 \nQ 23.6875 6 27.734375 6 \nQ 34.03125 6 38.125 10.046875 \nQ 42.234375 14.109375 42.234375 20.359375 \nQ 42.234375 26.703125 38.015625 30.859375 \nQ 33.796875 35.015625 27.4375 35.015625 \nQ 21.234375 35.015625 17.15625 30.90625 \nQ 13.09375 26.8125 13.09375 20.65625 \nz\n\" id=\"ArialMT-56\"/>\n       </defs>\n       <use xlink:href=\"#ArialMT-56\"/>\n      </g>\n     </g>\n    </g>\n    <g id=\"xtick_6\">\n     <g id=\"line2d_6\">\n      <path clip-path=\"url(#pf5923c92b7)\" d=\"M 384.389063 239.375625 \nL 384.389063 21.935625 \n\" style=\"fill:none;stroke:#cccccc;stroke-linecap:round;stroke-width:0.8;\"/>\n     </g>\n     <g id=\"text_6\">\n      <!-- 10 -->\n      <g style=\"fill:#262626;\" transform=\"translate(378.828125 253.533437)scale(0.1 -0.1)\">\n       <defs>\n        <path d=\"M 37.25 0 \nL 28.46875 0 \nL 28.46875 56 \nQ 25.296875 52.984375 20.140625 49.953125 \nQ 14.984375 46.921875 10.890625 45.40625 \nL 10.890625 53.90625 \nQ 18.265625 57.375 23.78125 62.296875 \nQ 29.296875 67.234375 31.59375 71.875 \nL 37.25 71.875 \nz\n\" id=\"ArialMT-49\"/>\n       </defs>\n       <use xlink:href=\"#ArialMT-49\"/>\n       <use x=\"55.615234\" xlink:href=\"#ArialMT-48\"/>\n      </g>\n     </g>\n    </g>\n    <g id=\"text_7\">\n     <!-- Per 100 episodes -->\n     <g style=\"fill:#262626;\" transform=\"translate(178.075781 266.708438)scale(0.1 -0.1)\">\n      <defs>\n       <path d=\"M 7.71875 0 \nL 7.71875 71.578125 \nL 34.71875 71.578125 \nQ 41.84375 71.578125 45.609375 70.90625 \nQ 50.875 70.015625 54.4375 67.546875 \nQ 58.015625 65.09375 60.1875 60.640625 \nQ 62.359375 56.203125 62.359375 50.875 \nQ 62.359375 41.75 56.546875 35.421875 \nQ 50.734375 29.109375 35.546875 29.109375 \nL 17.1875 29.109375 \nL 17.1875 0 \nz\nM 17.1875 37.546875 \nL 35.6875 37.546875 \nQ 44.875 37.546875 48.734375 40.96875 \nQ 52.59375 44.390625 52.59375 50.59375 \nQ 52.59375 55.078125 50.3125 58.265625 \nQ 48.046875 61.46875 44.34375 62.5 \nQ 41.9375 63.140625 35.5 63.140625 \nL 17.1875 63.140625 \nz\n\" id=\"ArialMT-80\"/>\n       <path d=\"M 42.09375 16.703125 \nL 51.171875 15.578125 \nQ 49.03125 7.625 43.21875 3.21875 \nQ 37.40625 -1.171875 28.375 -1.171875 \nQ 17 -1.171875 10.328125 5.828125 \nQ 3.65625 12.84375 3.65625 25.484375 \nQ 3.65625 38.578125 10.390625 45.796875 \nQ 17.140625 53.03125 27.875 53.03125 \nQ 38.28125 53.03125 44.875 45.953125 \nQ 51.46875 38.875 51.46875 26.03125 \nQ 51.46875 25.25 51.421875 23.6875 \nL 12.75 23.6875 \nQ 13.234375 15.140625 17.578125 10.59375 \nQ 21.921875 6.0625 28.421875 6.0625 \nQ 33.25 6.0625 36.671875 8.59375 \nQ 40.09375 11.140625 42.09375 16.703125 \nz\nM 13.234375 30.90625 \nL 42.1875 30.90625 \nQ 41.609375 37.453125 38.875 40.71875 \nQ 34.671875 45.796875 27.984375 45.796875 \nQ 21.921875 45.796875 17.796875 41.75 \nQ 13.671875 37.703125 13.234375 30.90625 \nz\n\" id=\"ArialMT-101\"/>\n       <path d=\"M 6.5 0 \nL 6.5 51.859375 \nL 14.40625 51.859375 \nL 14.40625 44 \nQ 17.4375 49.515625 20 51.265625 \nQ 22.5625 53.03125 25.640625 53.03125 \nQ 30.078125 53.03125 34.671875 50.203125 \nL 31.640625 42.046875 \nQ 28.421875 43.953125 25.203125 43.953125 \nQ 22.3125 43.953125 20.015625 42.21875 \nQ 17.71875 40.484375 16.75 37.40625 \nQ 15.28125 32.71875 15.28125 27.15625 \nL 15.28125 0 \nz\n\" id=\"ArialMT-114\"/>\n       <path id=\"ArialMT-32\"/>\n       <path d=\"M 6.59375 -19.875 \nL 6.59375 51.859375 \nL 14.59375 51.859375 \nL 14.59375 45.125 \nQ 17.4375 49.078125 21 51.046875 \nQ 24.5625 53.03125 29.640625 53.03125 \nQ 36.28125 53.03125 41.359375 49.609375 \nQ 46.4375 46.1875 49.015625 39.953125 \nQ 51.609375 33.734375 51.609375 26.3125 \nQ 51.609375 18.359375 48.75 11.984375 \nQ 45.90625 5.609375 40.453125 2.21875 \nQ 35.015625 -1.171875 29 -1.171875 \nQ 24.609375 -1.171875 21.109375 0.6875 \nQ 17.625 2.546875 15.375 5.375 \nL 15.375 -19.875 \nz\nM 14.546875 25.640625 \nQ 14.546875 15.625 18.59375 10.84375 \nQ 22.65625 6.0625 28.421875 6.0625 \nQ 34.28125 6.0625 38.453125 11.015625 \nQ 42.625 15.96875 42.625 26.375 \nQ 42.625 36.28125 38.546875 41.203125 \nQ 34.46875 46.140625 28.8125 46.140625 \nQ 23.1875 46.140625 18.859375 40.890625 \nQ 14.546875 35.640625 14.546875 25.640625 \nz\n\" id=\"ArialMT-112\"/>\n       <path d=\"M 6.640625 61.46875 \nL 6.640625 71.578125 \nL 15.4375 71.578125 \nL 15.4375 61.46875 \nz\nM 6.640625 0 \nL 6.640625 51.859375 \nL 15.4375 51.859375 \nL 15.4375 0 \nz\n\" id=\"ArialMT-105\"/>\n       <path d=\"M 3.078125 15.484375 \nL 11.765625 16.84375 \nQ 12.5 11.625 15.84375 8.84375 \nQ 19.1875 6.0625 25.203125 6.0625 \nQ 31.25 6.0625 34.171875 8.515625 \nQ 37.109375 10.984375 37.109375 14.3125 \nQ 37.109375 17.28125 34.515625 19 \nQ 32.71875 20.171875 25.53125 21.96875 \nQ 15.875 24.421875 12.140625 26.203125 \nQ 8.40625 27.984375 6.46875 31.125 \nQ 4.546875 34.28125 4.546875 38.09375 \nQ 4.546875 41.546875 6.125 44.5 \nQ 7.71875 47.46875 10.453125 49.421875 \nQ 12.5 50.921875 16.03125 51.96875 \nQ 19.578125 53.03125 23.640625 53.03125 \nQ 29.734375 53.03125 34.34375 51.265625 \nQ 38.96875 49.515625 41.15625 46.5 \nQ 43.359375 43.5 44.1875 38.484375 \nL 35.59375 37.3125 \nQ 35.015625 41.3125 32.203125 43.546875 \nQ 29.390625 45.796875 24.265625 45.796875 \nQ 18.21875 45.796875 15.625 43.796875 \nQ 13.03125 41.796875 13.03125 39.109375 \nQ 13.03125 37.40625 14.109375 36.03125 \nQ 15.1875 34.625 17.484375 33.6875 \nQ 18.796875 33.203125 25.25 31.453125 \nQ 34.578125 28.953125 38.25 27.359375 \nQ 41.9375 25.78125 44.03125 22.75 \nQ 46.140625 19.734375 46.140625 15.234375 \nQ 46.140625 10.84375 43.578125 6.953125 \nQ 41.015625 3.078125 36.171875 0.953125 \nQ 31.34375 -1.171875 25.25 -1.171875 \nQ 15.140625 -1.171875 9.84375 3.03125 \nQ 4.546875 7.234375 3.078125 15.484375 \nz\n\" id=\"ArialMT-115\"/>\n       <path d=\"M 3.328125 25.921875 \nQ 3.328125 40.328125 11.328125 47.265625 \nQ 18.015625 53.03125 27.640625 53.03125 \nQ 38.328125 53.03125 45.109375 46.015625 \nQ 51.90625 39.015625 51.90625 26.65625 \nQ 51.90625 16.65625 48.90625 10.90625 \nQ 45.90625 5.171875 40.15625 2 \nQ 34.421875 -1.171875 27.640625 -1.171875 \nQ 16.75 -1.171875 10.03125 5.8125 \nQ 3.328125 12.796875 3.328125 25.921875 \nz\nM 12.359375 25.921875 \nQ 12.359375 15.96875 16.703125 11.015625 \nQ 21.046875 6.0625 27.640625 6.0625 \nQ 34.1875 6.0625 38.53125 11.03125 \nQ 42.875 16.015625 42.875 26.21875 \nQ 42.875 35.84375 38.5 40.796875 \nQ 34.125 45.75 27.640625 45.75 \nQ 21.046875 45.75 16.703125 40.8125 \nQ 12.359375 35.890625 12.359375 25.921875 \nz\n\" id=\"ArialMT-111\"/>\n       <path d=\"M 40.234375 0 \nL 40.234375 6.546875 \nQ 35.296875 -1.171875 25.734375 -1.171875 \nQ 19.53125 -1.171875 14.328125 2.25 \nQ 9.125 5.671875 6.265625 11.796875 \nQ 3.421875 17.921875 3.421875 25.875 \nQ 3.421875 33.640625 6 39.96875 \nQ 8.59375 46.296875 13.765625 49.65625 \nQ 18.953125 53.03125 25.34375 53.03125 \nQ 30.03125 53.03125 33.6875 51.046875 \nQ 37.359375 49.078125 39.65625 45.90625 \nL 39.65625 71.578125 \nL 48.390625 71.578125 \nL 48.390625 0 \nz\nM 12.453125 25.875 \nQ 12.453125 15.921875 16.640625 10.984375 \nQ 20.84375 6.0625 26.5625 6.0625 \nQ 32.328125 6.0625 36.34375 10.765625 \nQ 40.375 15.484375 40.375 25.140625 \nQ 40.375 35.796875 36.265625 40.765625 \nQ 32.171875 45.75 26.171875 45.75 \nQ 20.3125 45.75 16.375 40.96875 \nQ 12.453125 36.1875 12.453125 25.875 \nz\n\" id=\"ArialMT-100\"/>\n      </defs>\n      <use xlink:href=\"#ArialMT-80\"/>\n      <use x=\"66.699219\" xlink:href=\"#ArialMT-101\"/>\n      <use x=\"122.314453\" xlink:href=\"#ArialMT-114\"/>\n      <use x=\"155.615234\" xlink:href=\"#ArialMT-32\"/>\n      <use x=\"183.398438\" xlink:href=\"#ArialMT-49\"/>\n      <use x=\"239.013672\" xlink:href=\"#ArialMT-48\"/>\n      <use x=\"294.628906\" xlink:href=\"#ArialMT-48\"/>\n      <use x=\"350.244141\" xlink:href=\"#ArialMT-32\"/>\n      <use x=\"378.027344\" xlink:href=\"#ArialMT-101\"/>\n      <use x=\"433.642578\" xlink:href=\"#ArialMT-112\"/>\n      <use x=\"489.257812\" xlink:href=\"#ArialMT-105\"/>\n      <use x=\"511.474609\" xlink:href=\"#ArialMT-115\"/>\n      <use x=\"561.474609\" xlink:href=\"#ArialMT-111\"/>\n      <use x=\"617.089844\" xlink:href=\"#ArialMT-100\"/>\n      <use x=\"672.705078\" xlink:href=\"#ArialMT-101\"/>\n      <use x=\"728.320312\" xlink:href=\"#ArialMT-115\"/>\n     </g>\n    </g>\n   </g>\n   <g id=\"matplotlib.axis_2\">\n    <g id=\"ytick_1\">\n     <g id=\"line2d_7\">\n      <path clip-path=\"url(#pf5923c92b7)\" d=\"M 49.589063 239.375625 \nL 384.389063 239.375625 \n\" style=\"fill:none;stroke:#cccccc;stroke-linecap:round;stroke-width:0.8;\"/>\n     </g>\n     <g id=\"text_8\">\n      <!-- 0 -->\n      <g style=\"fill:#262626;\" transform=\"translate(37.028125 242.954531)scale(0.1 -0.1)\">\n       <use xlink:href=\"#ArialMT-48\"/>\n      </g>\n     </g>\n    </g>\n    <g id=\"ytick_2\">\n     <g id=\"line2d_8\">\n      <path clip-path=\"url(#pf5923c92b7)\" d=\"M 49.589063 195.887625 \nL 384.389063 195.887625 \n\" style=\"fill:none;stroke:#cccccc;stroke-linecap:round;stroke-width:0.8;\"/>\n     </g>\n     <g id=\"text_9\">\n      <!-- 200 -->\n      <g style=\"fill:#262626;\" transform=\"translate(25.90625 199.466531)scale(0.1 -0.1)\">\n       <use xlink:href=\"#ArialMT-50\"/>\n       <use x=\"55.615234\" xlink:href=\"#ArialMT-48\"/>\n       <use x=\"111.230469\" xlink:href=\"#ArialMT-48\"/>\n      </g>\n     </g>\n    </g>\n    <g id=\"ytick_3\">\n     <g id=\"line2d_9\">\n      <path clip-path=\"url(#pf5923c92b7)\" d=\"M 49.589063 152.399625 \nL 384.389063 152.399625 \n\" style=\"fill:none;stroke:#cccccc;stroke-linecap:round;stroke-width:0.8;\"/>\n     </g>\n     <g id=\"text_10\">\n      <!-- 400 -->\n      <g style=\"fill:#262626;\" transform=\"translate(25.90625 155.978531)scale(0.1 -0.1)\">\n       <use xlink:href=\"#ArialMT-52\"/>\n       <use x=\"55.615234\" xlink:href=\"#ArialMT-48\"/>\n       <use x=\"111.230469\" xlink:href=\"#ArialMT-48\"/>\n      </g>\n     </g>\n    </g>\n    <g id=\"ytick_4\">\n     <g id=\"line2d_10\">\n      <path clip-path=\"url(#pf5923c92b7)\" d=\"M 49.589063 108.911625 \nL 384.389063 108.911625 \n\" style=\"fill:none;stroke:#cccccc;stroke-linecap:round;stroke-width:0.8;\"/>\n     </g>\n     <g id=\"text_11\">\n      <!-- 600 -->\n      <g style=\"fill:#262626;\" transform=\"translate(25.90625 112.490531)scale(0.1 -0.1)\">\n       <use xlink:href=\"#ArialMT-54\"/>\n       <use x=\"55.615234\" xlink:href=\"#ArialMT-48\"/>\n       <use x=\"111.230469\" xlink:href=\"#ArialMT-48\"/>\n      </g>\n     </g>\n    </g>\n    <g id=\"ytick_5\">\n     <g id=\"line2d_11\">\n      <path clip-path=\"url(#pf5923c92b7)\" d=\"M 49.589063 65.423625 \nL 384.389063 65.423625 \n\" style=\"fill:none;stroke:#cccccc;stroke-linecap:round;stroke-width:0.8;\"/>\n     </g>\n     <g id=\"text_12\">\n      <!-- 800 -->\n      <g style=\"fill:#262626;\" transform=\"translate(25.90625 69.002531)scale(0.1 -0.1)\">\n       <use xlink:href=\"#ArialMT-56\"/>\n       <use x=\"55.615234\" xlink:href=\"#ArialMT-48\"/>\n       <use x=\"111.230469\" xlink:href=\"#ArialMT-48\"/>\n      </g>\n     </g>\n    </g>\n    <g id=\"ytick_6\">\n     <g id=\"line2d_12\">\n      <path clip-path=\"url(#pf5923c92b7)\" d=\"M 49.589063 21.935625 \nL 384.389063 21.935625 \n\" style=\"fill:none;stroke:#cccccc;stroke-linecap:round;stroke-width:0.8;\"/>\n     </g>\n     <g id=\"text_13\">\n      <!-- 1000 -->\n      <g style=\"fill:#262626;\" transform=\"translate(20.345313 25.514531)scale(0.1 -0.1)\">\n       <use xlink:href=\"#ArialMT-49\"/>\n       <use x=\"55.615234\" xlink:href=\"#ArialMT-48\"/>\n       <use x=\"111.230469\" xlink:href=\"#ArialMT-48\"/>\n       <use x=\"166.845703\" xlink:href=\"#ArialMT-48\"/>\n      </g>\n     </g>\n    </g>\n    <g id=\"text_14\">\n     <!-- Mean turns elapsed -->\n     <g style=\"fill:#262626;\" transform=\"translate(14.357812 174.568125)rotate(-90)scale(0.1 -0.1)\">\n      <defs>\n       <path d=\"M 7.421875 0 \nL 7.421875 71.578125 \nL 21.6875 71.578125 \nL 38.625 20.90625 \nQ 40.96875 13.8125 42.046875 10.296875 \nQ 43.265625 14.203125 45.84375 21.78125 \nL 62.984375 71.578125 \nL 75.734375 71.578125 \nL 75.734375 0 \nL 66.609375 0 \nL 66.609375 59.90625 \nL 45.796875 0 \nL 37.25 0 \nL 16.546875 60.9375 \nL 16.546875 0 \nz\n\" id=\"ArialMT-77\"/>\n       <path d=\"M 40.4375 6.390625 \nQ 35.546875 2.25 31.03125 0.53125 \nQ 26.515625 -1.171875 21.34375 -1.171875 \nQ 12.796875 -1.171875 8.203125 3 \nQ 3.609375 7.171875 3.609375 13.671875 \nQ 3.609375 17.484375 5.34375 20.625 \nQ 7.078125 23.78125 9.890625 25.6875 \nQ 12.703125 27.59375 16.21875 28.5625 \nQ 18.796875 29.25 24.03125 29.890625 \nQ 34.671875 31.15625 39.703125 32.90625 \nQ 39.75 34.71875 39.75 35.203125 \nQ 39.75 40.578125 37.25 42.78125 \nQ 33.890625 45.75 27.25 45.75 \nQ 21.046875 45.75 18.09375 43.578125 \nQ 15.140625 41.40625 13.71875 35.890625 \nL 5.125 37.0625 \nQ 6.296875 42.578125 8.984375 45.96875 \nQ 11.671875 49.359375 16.75 51.1875 \nQ 21.828125 53.03125 28.515625 53.03125 \nQ 35.15625 53.03125 39.296875 51.46875 \nQ 43.453125 49.90625 45.40625 47.53125 \nQ 47.359375 45.171875 48.140625 41.546875 \nQ 48.578125 39.3125 48.578125 33.453125 \nL 48.578125 21.734375 \nQ 48.578125 9.46875 49.140625 6.21875 \nQ 49.703125 2.984375 51.375 0 \nL 42.1875 0 \nQ 40.828125 2.734375 40.4375 6.390625 \nz\nM 39.703125 26.03125 \nQ 34.90625 24.078125 25.34375 22.703125 \nQ 19.921875 21.921875 17.671875 20.9375 \nQ 15.4375 19.96875 14.203125 18.09375 \nQ 12.984375 16.21875 12.984375 13.921875 \nQ 12.984375 10.40625 15.640625 8.0625 \nQ 18.3125 5.71875 23.4375 5.71875 \nQ 28.515625 5.71875 32.46875 7.9375 \nQ 36.421875 10.15625 38.28125 14.015625 \nQ 39.703125 17 39.703125 22.796875 \nz\n\" id=\"ArialMT-97\"/>\n       <path d=\"M 6.59375 0 \nL 6.59375 51.859375 \nL 14.5 51.859375 \nL 14.5 44.484375 \nQ 20.21875 53.03125 31 53.03125 \nQ 35.6875 53.03125 39.625 51.34375 \nQ 43.5625 49.65625 45.515625 46.921875 \nQ 47.46875 44.1875 48.25 40.4375 \nQ 48.734375 37.984375 48.734375 31.890625 \nL 48.734375 0 \nL 39.9375 0 \nL 39.9375 31.546875 \nQ 39.9375 36.921875 38.90625 39.578125 \nQ 37.890625 42.234375 35.28125 43.8125 \nQ 32.671875 45.40625 29.15625 45.40625 \nQ 23.53125 45.40625 19.453125 41.84375 \nQ 15.375 38.28125 15.375 28.328125 \nL 15.375 0 \nz\n\" id=\"ArialMT-110\"/>\n       <path d=\"M 25.78125 7.859375 \nL 27.046875 0.09375 \nQ 23.34375 -0.6875 20.40625 -0.6875 \nQ 15.625 -0.6875 12.984375 0.828125 \nQ 10.359375 2.34375 9.28125 4.8125 \nQ 8.203125 7.28125 8.203125 15.1875 \nL 8.203125 45.015625 \nL 1.765625 45.015625 \nL 1.765625 51.859375 \nL 8.203125 51.859375 \nL 8.203125 64.703125 \nL 16.9375 69.96875 \nL 16.9375 51.859375 \nL 25.78125 51.859375 \nL 25.78125 45.015625 \nL 16.9375 45.015625 \nL 16.9375 14.703125 \nQ 16.9375 10.9375 17.40625 9.859375 \nQ 17.875 8.796875 18.921875 8.15625 \nQ 19.96875 7.515625 21.921875 7.515625 \nQ 23.390625 7.515625 25.78125 7.859375 \nz\n\" id=\"ArialMT-116\"/>\n       <path d=\"M 40.578125 0 \nL 40.578125 7.625 \nQ 34.515625 -1.171875 24.125 -1.171875 \nQ 19.53125 -1.171875 15.546875 0.578125 \nQ 11.578125 2.34375 9.640625 5 \nQ 7.71875 7.671875 6.9375 11.53125 \nQ 6.390625 14.109375 6.390625 19.734375 \nL 6.390625 51.859375 \nL 15.1875 51.859375 \nL 15.1875 23.09375 \nQ 15.1875 16.21875 15.71875 13.8125 \nQ 16.546875 10.359375 19.234375 8.375 \nQ 21.921875 6.390625 25.875 6.390625 \nQ 29.828125 6.390625 33.296875 8.421875 \nQ 36.765625 10.453125 38.203125 13.9375 \nQ 39.65625 17.4375 39.65625 24.078125 \nL 39.65625 51.859375 \nL 48.4375 51.859375 \nL 48.4375 0 \nz\n\" id=\"ArialMT-117\"/>\n       <path d=\"M 6.390625 0 \nL 6.390625 71.578125 \nL 15.1875 71.578125 \nL 15.1875 0 \nz\n\" id=\"ArialMT-108\"/>\n      </defs>\n      <use xlink:href=\"#ArialMT-77\"/>\n      <use x=\"83.300781\" xlink:href=\"#ArialMT-101\"/>\n      <use x=\"138.916016\" xlink:href=\"#ArialMT-97\"/>\n      <use x=\"194.53125\" xlink:href=\"#ArialMT-110\"/>\n      <use x=\"250.146484\" xlink:href=\"#ArialMT-32\"/>\n      <use x=\"277.929688\" xlink:href=\"#ArialMT-116\"/>\n      <use x=\"305.712891\" xlink:href=\"#ArialMT-117\"/>\n      <use x=\"361.328125\" xlink:href=\"#ArialMT-114\"/>\n      <use x=\"394.628906\" xlink:href=\"#ArialMT-110\"/>\n      <use x=\"450.244141\" xlink:href=\"#ArialMT-115\"/>\n      <use x=\"500.244141\" xlink:href=\"#ArialMT-32\"/>\n      <use x=\"528.027344\" xlink:href=\"#ArialMT-101\"/>\n      <use x=\"583.642578\" xlink:href=\"#ArialMT-108\"/>\n      <use x=\"605.859375\" xlink:href=\"#ArialMT-97\"/>\n      <use x=\"661.474609\" xlink:href=\"#ArialMT-112\"/>\n      <use x=\"717.089844\" xlink:href=\"#ArialMT-115\"/>\n      <use x=\"767.089844\" xlink:href=\"#ArialMT-101\"/>\n      <use x=\"822.705078\" xlink:href=\"#ArialMT-100\"/>\n     </g>\n    </g>\n   </g>\n   <g id=\"line2d_13\">\n    <path clip-path=\"url(#pf5923c92b7)\" d=\"M 49.589063 205.691995 \n\" style=\"fill:none;stroke:#1f77b4;stroke-linecap:round;stroke-width:1.5;\"/>\n   </g>\n   <g id=\"line2d_14\">\n    <path clip-path=\"url(#pf5923c92b7)\" d=\"M 49.589063 205.691995 \nL 83.069063 224.061326 \n\" style=\"fill:none;stroke:#ff7f0e;stroke-linecap:round;stroke-width:1.5;\"/>\n   </g>\n   <g id=\"line2d_15\">\n    <path clip-path=\"url(#pf5923c92b7)\" d=\"M 49.589063 205.691995 \nL 83.069063 224.061326 \nL 116.549063 230.793268 \n\" style=\"fill:none;stroke:#2ca02c;stroke-linecap:round;stroke-width:1.5;\"/>\n   </g>\n   <g id=\"line2d_16\">\n    <path clip-path=\"url(#pf5923c92b7)\" d=\"M 49.589063 205.691995 \nL 83.069063 224.061326 \nL 116.549063 230.793268 \nL 150.029063 233.752627 \n\" style=\"fill:none;stroke:#d62728;stroke-linecap:round;stroke-width:1.5;\"/>\n   </g>\n   <g id=\"line2d_17\">\n    <path clip-path=\"url(#pf5923c92b7)\" d=\"M 49.589063 205.691995 \nL 83.069063 224.061326 \nL 116.549063 230.793268 \nL 150.029063 233.752627 \nL 183.509063 234.096182 \n\" style=\"fill:none;stroke:#9467bd;stroke-linecap:round;stroke-width:1.5;\"/>\n   </g>\n   <g id=\"line2d_18\">\n    <path clip-path=\"url(#pf5923c92b7)\" d=\"M 49.589063 205.691995 \nL 83.069063 224.061326 \nL 116.549063 230.793268 \nL 150.029063 233.752627 \nL 183.509063 234.096182 \nL 216.989063 236.135769 \n\" style=\"fill:none;stroke:#8c564b;stroke-linecap:round;stroke-width:1.5;\"/>\n   </g>\n   <g id=\"line2d_19\">\n    <path clip-path=\"url(#pf5923c92b7)\" d=\"M 49.589063 205.691995 \nL 83.069063 224.061326 \nL 116.549063 230.793268 \nL 150.029063 233.752627 \nL 183.509063 234.096182 \nL 216.989063 236.135769 \nL 250.469063 235.96834 \n\" style=\"fill:none;stroke:#e377c2;stroke-linecap:round;stroke-width:1.5;\"/>\n   </g>\n   <g id=\"line2d_20\">\n    <path clip-path=\"url(#pf5923c92b7)\" d=\"M 49.589063 205.691995 \nL 83.069063 224.061326 \nL 116.549063 230.793268 \nL 150.029063 233.752627 \nL 183.509063 234.096182 \nL 216.989063 236.135769 \nL 250.469063 235.96834 \nL 283.949063 236.029223 \n\" style=\"fill:none;stroke:#7f7f7f;stroke-linecap:round;stroke-width:1.5;\"/>\n   </g>\n   <g id=\"line2d_21\">\n    <path clip-path=\"url(#pf5923c92b7)\" d=\"M 49.589063 205.691995 \nL 83.069063 224.061326 \nL 116.549063 230.793268 \nL 150.029063 233.752627 \nL 183.509063 234.096182 \nL 216.989063 236.135769 \nL 250.469063 235.96834 \nL 283.949063 236.029223 \nL 317.429063 236.246663 \n\" style=\"fill:none;stroke:#bcbd22;stroke-linecap:round;stroke-width:1.5;\"/>\n   </g>\n   <g id=\"line2d_22\">\n    <path clip-path=\"url(#pf5923c92b7)\" d=\"M 49.589063 205.691995 \nL 83.069063 224.061326 \nL 116.549063 230.793268 \nL 150.029063 233.752627 \nL 183.509063 234.096182 \nL 216.989063 236.135769 \nL 250.469063 235.96834 \nL 283.949063 236.029223 \nL 317.429063 236.246663 \nL 350.909063 236.277105 \n\" style=\"fill:none;stroke:#17becf;stroke-linecap:round;stroke-width:1.5;\"/>\n   </g>\n   <g id=\"line2d_23\">\n    <path clip-path=\"url(#pf5923c92b7)\" d=\"M 49.589063 205.691995 \nL 83.069063 224.061326 \nL 116.549063 230.793268 \nL 150.029063 233.752627 \nL 183.509063 234.096182 \nL 216.989063 236.135769 \nL 250.469063 235.96834 \nL 283.949063 236.029223 \nL 317.429063 236.246663 \nL 350.909063 236.277105 \nL 384.389063 236.270582 \n\" style=\"fill:none;stroke:#1f77b4;stroke-linecap:round;stroke-width:1.5;\"/>\n   </g>\n   <g id=\"patch_3\">\n    <path d=\"M 49.589063 239.375625 \nL 49.589063 21.935625 \n\" style=\"fill:none;stroke:#cccccc;stroke-linecap:square;stroke-linejoin:miter;stroke-width:0.8;\"/>\n   </g>\n   <g id=\"patch_4\">\n    <path d=\"M 384.389063 239.375625 \nL 384.389063 21.935625 \n\" style=\"fill:none;stroke:#cccccc;stroke-linecap:square;stroke-linejoin:miter;stroke-width:0.8;\"/>\n   </g>\n   <g id=\"patch_5\">\n    <path d=\"M 49.589063 239.375625 \nL 384.389063 239.375625 \n\" style=\"fill:none;stroke:#cccccc;stroke-linecap:square;stroke-linejoin:miter;stroke-width:0.8;\"/>\n   </g>\n   <g id=\"patch_6\">\n    <path d=\"M 49.589063 21.935625 \nL 384.389063 21.935625 \n\" style=\"fill:none;stroke:#cccccc;stroke-linecap:square;stroke-linejoin:miter;stroke-width:0.8;\"/>\n   </g>\n   <g id=\"text_15\">\n    <!-- Mean turns elapsed for 1000 episodes -->\n    <g style=\"fill:#262626;\" transform=\"translate(114.93 15.935625)scale(0.12 -0.12)\">\n     <defs>\n      <path d=\"M 8.6875 0 \nL 8.6875 45.015625 \nL 0.921875 45.015625 \nL 0.921875 51.859375 \nL 8.6875 51.859375 \nL 8.6875 57.375 \nQ 8.6875 62.59375 9.625 65.140625 \nQ 10.890625 68.5625 14.078125 70.671875 \nQ 17.28125 72.796875 23.046875 72.796875 \nQ 26.765625 72.796875 31.25 71.921875 \nL 29.9375 64.265625 \nQ 27.203125 64.75 24.75 64.75 \nQ 20.75 64.75 19.09375 63.03125 \nQ 17.4375 61.328125 17.4375 56.640625 \nL 17.4375 51.859375 \nL 27.546875 51.859375 \nL 27.546875 45.015625 \nL 17.4375 45.015625 \nL 17.4375 0 \nz\n\" id=\"ArialMT-102\"/>\n     </defs>\n     <use xlink:href=\"#ArialMT-77\"/>\n     <use x=\"83.300781\" xlink:href=\"#ArialMT-101\"/>\n     <use x=\"138.916016\" xlink:href=\"#ArialMT-97\"/>\n     <use x=\"194.53125\" xlink:href=\"#ArialMT-110\"/>\n     <use x=\"250.146484\" xlink:href=\"#ArialMT-32\"/>\n     <use x=\"277.929688\" xlink:href=\"#ArialMT-116\"/>\n     <use x=\"305.712891\" xlink:href=\"#ArialMT-117\"/>\n     <use x=\"361.328125\" xlink:href=\"#ArialMT-114\"/>\n     <use x=\"394.628906\" xlink:href=\"#ArialMT-110\"/>\n     <use x=\"450.244141\" xlink:href=\"#ArialMT-115\"/>\n     <use x=\"500.244141\" xlink:href=\"#ArialMT-32\"/>\n     <use x=\"528.027344\" xlink:href=\"#ArialMT-101\"/>\n     <use x=\"583.642578\" xlink:href=\"#ArialMT-108\"/>\n     <use x=\"605.859375\" xlink:href=\"#ArialMT-97\"/>\n     <use x=\"661.474609\" xlink:href=\"#ArialMT-112\"/>\n     <use x=\"717.089844\" xlink:href=\"#ArialMT-115\"/>\n     <use x=\"767.089844\" xlink:href=\"#ArialMT-101\"/>\n     <use x=\"822.705078\" xlink:href=\"#ArialMT-100\"/>\n     <use x=\"878.320312\" xlink:href=\"#ArialMT-32\"/>\n     <use x=\"906.103516\" xlink:href=\"#ArialMT-102\"/>\n     <use x=\"933.886719\" xlink:href=\"#ArialMT-111\"/>\n     <use x=\"989.501953\" xlink:href=\"#ArialMT-114\"/>\n     <use x=\"1022.802734\" xlink:href=\"#ArialMT-32\"/>\n     <use x=\"1050.585938\" xlink:href=\"#ArialMT-49\"/>\n     <use x=\"1106.201172\" xlink:href=\"#ArialMT-48\"/>\n     <use x=\"1161.816406\" xlink:href=\"#ArialMT-48\"/>\n     <use x=\"1217.431641\" xlink:href=\"#ArialMT-48\"/>\n     <use x=\"1273.046875\" xlink:href=\"#ArialMT-32\"/>\n     <use x=\"1300.830078\" xlink:href=\"#ArialMT-101\"/>\n     <use x=\"1356.445312\" xlink:href=\"#ArialMT-112\"/>\n     <use x=\"1412.060547\" xlink:href=\"#ArialMT-105\"/>\n     <use x=\"1434.277344\" xlink:href=\"#ArialMT-115\"/>\n     <use x=\"1484.277344\" xlink:href=\"#ArialMT-111\"/>\n     <use x=\"1539.892578\" xlink:href=\"#ArialMT-100\"/>\n     <use x=\"1595.507812\" xlink:href=\"#ArialMT-101\"/>\n     <use x=\"1651.123047\" xlink:href=\"#ArialMT-115\"/>\n    </g>\n   </g>\n  </g>\n </g>\n <defs>\n  <clipPath id=\"pf5923c92b7\">\n   <rect height=\"217.44\" width=\"334.8\" x=\"49.589063\" y=\"21.935625\"/>\n  </clipPath>\n </defs>\n</svg>\n",
      "image/png": "[encoded data removed]"
     },
     "metadata": {}
    }
   ],
   "source": [
    "qm = QMaze(10)\n",
    "eg_policy = EGreedyPolicy(epsilon=0.6, decay=0.9)\n",
    "ql = QLearning(policy=eg_policy, environment=qm, gamma=0.9, alpha=0.01)\n",
    "\n",
    "LOGGING_STEP_SIZE: int = 10\n",
    "NUM_EPISODES: int = 1000\n",
    "NUM_RUNS: int = 100\n",
    "NUM_RUNS_TQDM = tqdm(range(NUM_RUNS))\n",
    "NUM_LOGGED_EPISODES: int = 1000//LOGGING_STEP_SIZE\n",
    "\n",
    "# Create structure to store data\n",
    "all_results: list = []\n",
    "\n",
    "# Plot rewards and timesteps\n",
    "experiment_mean_rewards: list = []\n",
    "experiment_mean_turns_elapsed: list = []\n",
    "\n",
    "for run in NUM_RUNS_TQDM:\n",
    "    if ((run % LOGGING_STEP_SIZE) == 0) or (run == 1):\n",
    "        results = run_ql_experiments(environment=qm, policy=eg_policy, q_learning_method=ql, num_episodes=NUM_LOGGED_EPISODES)\n",
    "        print(f\"Run: {run}, ending epsilon: {eg_policy.epsilon}, mean reward: {results.mean_reward}, mean turns elapsed: {results.mean_turns_elapsed}, std reward: {results.var_reward}\")\n",
    "        all_results.append(results)\n",
    "        experiment_mean_rewards.append(results.mean_reward)\n",
    "        experiment_mean_turns_elapsed.append(results.mean_turns_elapsed)\n",
    "\n",
    "        # Plot mean turns elapsed live\n",
    "        plt.plot(experiment_mean_turns_elapsed);\n",
    "        plt.title(f\"Mean turns elapsed for {NUM_EPISODES} episodes\");\n",
    "        plt.xlabel(f\"Per {NUM_LOGGED_EPISODES} episodes\");\n",
    "        plt.ylabel(\"Mean turns elapsed\");\n",
    "        plt.ylim([0, 1000]);\n",
    "        plt.xlim([0, LOGGING_STEP_SIZE]);\n",
    "\n"
   ]
  },
  {
   "cell_type": "code",
   "execution_count": 10,
   "metadata": {},
   "outputs": [
    {
     "output_type": "stream",
     "name": "stdout",
     "text": [
      "X X X X X X X X X X \nX X X . . . X A . X \nX X . . X . . . X X \nX . . X X X X . X X \nX X X X . . . . . X \nX . . . . X X . X X \nX X X X X X . . . X \nX X X X X X . X . X \nX . . . . . . X . X \nX X X X X X X X O X \n\n"
     ]
    },
    {
     "output_type": "display_data",
     "data": {
      "text/plain": "<Figure size 432x288 with 2 Axes>",
      "image/svg+xml": "<?xml version=\"1.0\" encoding=\"utf-8\" standalone=\"no\"?>\n<!DOCTYPE svg PUBLIC \"-//W3C//DTD SVG 1.1//EN\"\n  \"http://www.w3.org/Graphics/SVG/1.1/DTD/svg11.dtd\">\n<!-- Created with matplotlib (https://matplotlib.org/) -->\n<svg height=\"251.564219pt\" version=\"1.1\" viewBox=\"0 0 292.912937 251.564219\" width=\"292.912937pt\" xmlns=\"http://www.w3.org/2000/svg\" xmlns:xlink=\"http://www.w3.org/1999/xlink\">\n <metadata>\n  <rdf:RDF xmlns:cc=\"http://creativecommons.org/ns#\" xmlns:dc=\"http://purl.org/dc/elements/1.1/\" xmlns:rdf=\"http://www.w3.org/1999/02/22-rdf-syntax-ns#\">\n   <cc:Work>\n    <dc:type rdf:resource=\"http://purl.org/dc/dcmitype/StillImage\"/>\n    <dc:date>2021-04-10T21:52:28.584471</dc:date>\n    <dc:format>image/svg+xml</dc:format>\n    <dc:creator>\n     <cc:Agent>\n      <dc:title>Matplotlib v3.3.4, https://matplotlib.org/</dc:title>\n     </cc:Agent>\n    </dc:creator>\n   </cc:Work>\n  </rdf:RDF>\n </metadata>\n <defs>\n  <style type=\"text/css\">*{stroke-linecap:butt;stroke-linejoin:round;}</style>\n </defs>\n <g id=\"figure_1\">\n  <g id=\"patch_1\">\n   <path d=\"M 0 251.564219 \nL 292.912937 251.564219 \nL 292.912937 0 \nL 0 0 \nz\n\" style=\"fill:#ffffff;\"/>\n  </g>\n  <g id=\"axes_1\">\n   <g id=\"patch_2\">\n    <path d=\"M 19.760938 228.218906 \nL 237.200937 228.218906 \nL 237.200937 10.778906 \nL 19.760938 10.778906 \nz\n\" style=\"fill:#ffffff;\"/>\n   </g>\n   <g clip-path=\"url(#p5449530e5f)\">\n    <image height=\"218\" id=\"imageb6198b5b2c\" transform=\"scale(1 -1)translate(0 -218)\" width=\"218\" x=\"19.760938\" xlink:href=\"data:image/png;base64,\niVBORw0KGgoAAAANSUhEUgAAANoAAADaCAYAAADAHVzbAAAD30lEQVR4nO3czY7kYxiH4bc6ZUy6LXQaG2sSImx9LIkjsBenMVtHYikRB+AAsCWzQsJGiIT2kWkTSpdjkPyfe1JxXQfwS6Uqd727Z/fmG+8fFzDq7FF/APg/EBoEhAYBoUFAaBAQGgSEBgGhQUBoEBAaBIQGAaFBQGgQEBoEhAYBoUFAaBAQGgSEBgGhQUBoENhPDe8OtzO7J3Sz67ib2T2l72CttW4f2/7//JOPPth8c6213n7n3ZFdLxoEhAYBoUFAaBAQGgSEBgGhQUBoEBAaBIQGAaFBQGgQEBoEhAYBoUFAaBAQGgSEBgGhQUBoEBAaBMauYB33Mw2f2AGoEVPfwdnfM5fLJlz/c/OoP8J/4kWDgNAgIDQICA0CQoOA0CAgNAgIDQJCg4DQICA0CAgNAkKDgNAgIDQICA0CQoOA0CAgNAgIDQJjx3k4Pb+8+MTI7jPvfbf55od/PLf55iQvGgSEBgGhQUBoEBAaBIQGAaFBQGgQEBoEhAYBoUFAaBAQGgSEBgGhQUBoEBAaBIQGAaFBQGgQEBoExq5g7a9vZoZvjzO7J+RwdTGy++TXM7/ZNz89tfnmx/fe2nxzkhcNAkKDgNAgIDQICA0CQoOA0CAgNAgIDQJCg4DQICA0CAgNAkKDgNAgIDQICA0CQoOA0CAgNAgIDQJjV7AOl+dT0ydj//ODmd1f/xzZ/f2Fy5Hd41fb/58/ePZ288211rr4/uHIrhcNAkKDgNAgIDQICA0CQoOA0CAgNAgIDQJCg4DQICA0CAgNAkKDgNAgIDQICA0CQoOA0CAgNAgIDQJjV7B2n305M3w8bj/5+iubb6611uHqYmR3yvkPMxeg9s9v/z1MXaua4kWDgNAgIDQICA0CQoOA0CAgNAgIDQJCg4DQICA0CAgNAkKDgNAgIDQICA0CQoOA0CAgNAgIDQJCg8DYFazjay+P7O4+/eIkNteau661u93+Ethaaz18+u7I7vmPM5/3lHjRICA0CAgNAkKDgNAgIDQICA0CQoOA0CAgNAgIDQJCg4DQICA0CAgNAkKDgNAgIDQICA0CQoPA2HGeKRMHb3af3998c6219ve/HdndXV2O7D5+thvZ3R3ubL65v77ZfHOttQ6X5yO7XjQICA0CQoOA0CAgNAgIDQJCg4DQICA0CAgNAkKDgNAgIDQICA0CQoOA0CAgNAgIDQJCg4DQICA0CJzcFawJx1dfGtk9jKyenju//bX55tS1qileNAgIDQJCg4DQICA0CAgNAkKDgNAgIDQICA0CQoOA0CAgNAgIDQJCg4DQICA0CAgNAkKDgNAgIDQI/AuP9FJlXSiivAAAAABJRU5ErkJggg==\" y=\"-10.218906\"/>\n   </g>\n   <g id=\"matplotlib.axis_1\">\n    <g id=\"xtick_1\">\n     <g id=\"text_1\">\n      <!-- 0 -->\n      <g style=\"fill:#262626;\" transform=\"translate(27.852469 242.376719)scale(0.1 -0.1)\">\n       <defs>\n        <path d=\"M 4.15625 35.296875 \nQ 4.15625 48 6.765625 55.734375 \nQ 9.375 63.484375 14.515625 67.671875 \nQ 19.671875 71.875 27.484375 71.875 \nQ 33.25 71.875 37.59375 69.546875 \nQ 41.9375 67.234375 44.765625 62.859375 \nQ 47.609375 58.5 49.21875 52.21875 \nQ 50.828125 45.953125 50.828125 35.296875 \nQ 50.828125 22.703125 48.234375 14.96875 \nQ 45.65625 7.234375 40.5 3 \nQ 35.359375 -1.21875 27.484375 -1.21875 \nQ 17.140625 -1.21875 11.234375 6.203125 \nQ 4.15625 15.140625 4.15625 35.296875 \nz\nM 13.1875 35.296875 \nQ 13.1875 17.671875 17.3125 11.828125 \nQ 21.4375 6 27.484375 6 \nQ 33.546875 6 37.671875 11.859375 \nQ 41.796875 17.71875 41.796875 35.296875 \nQ 41.796875 52.984375 37.671875 58.78125 \nQ 33.546875 64.59375 27.390625 64.59375 \nQ 21.34375 64.59375 17.71875 59.46875 \nQ 13.1875 52.9375 13.1875 35.296875 \nz\n\" id=\"ArialMT-48\"/>\n       </defs>\n       <use xlink:href=\"#ArialMT-48\"/>\n      </g>\n     </g>\n    </g>\n    <g id=\"xtick_2\">\n     <g id=\"text_2\">\n      <!-- 2 -->\n      <g style=\"fill:#262626;\" transform=\"translate(71.340469 242.376719)scale(0.1 -0.1)\">\n       <defs>\n        <path d=\"M 50.34375 8.453125 \nL 50.34375 0 \nL 3.03125 0 \nQ 2.9375 3.171875 4.046875 6.109375 \nQ 5.859375 10.9375 9.828125 15.625 \nQ 13.8125 20.3125 21.34375 26.46875 \nQ 33.015625 36.03125 37.109375 41.625 \nQ 41.21875 47.21875 41.21875 52.203125 \nQ 41.21875 57.421875 37.46875 61 \nQ 33.734375 64.59375 27.734375 64.59375 \nQ 21.390625 64.59375 17.578125 60.78125 \nQ 13.765625 56.984375 13.71875 50.25 \nL 4.6875 51.171875 \nQ 5.609375 61.28125 11.65625 66.578125 \nQ 17.71875 71.875 27.9375 71.875 \nQ 38.234375 71.875 44.234375 66.15625 \nQ 50.25 60.453125 50.25 52 \nQ 50.25 47.703125 48.484375 43.546875 \nQ 46.734375 39.40625 42.65625 34.8125 \nQ 38.578125 30.21875 29.109375 22.21875 \nQ 21.1875 15.578125 18.9375 13.203125 \nQ 16.703125 10.84375 15.234375 8.453125 \nz\n\" id=\"ArialMT-50\"/>\n       </defs>\n       <use xlink:href=\"#ArialMT-50\"/>\n      </g>\n     </g>\n    </g>\n    <g id=\"xtick_3\">\n     <g id=\"text_3\">\n      <!-- 4 -->\n      <g style=\"fill:#262626;\" transform=\"translate(114.828469 242.376719)scale(0.1 -0.1)\">\n       <defs>\n        <path d=\"M 32.328125 0 \nL 32.328125 17.140625 \nL 1.265625 17.140625 \nL 1.265625 25.203125 \nL 33.9375 71.578125 \nL 41.109375 71.578125 \nL 41.109375 25.203125 \nL 50.78125 25.203125 \nL 50.78125 17.140625 \nL 41.109375 17.140625 \nL 41.109375 0 \nz\nM 32.328125 25.203125 \nL 32.328125 57.46875 \nL 9.90625 25.203125 \nz\n\" id=\"ArialMT-52\"/>\n       </defs>\n       <use xlink:href=\"#ArialMT-52\"/>\n      </g>\n     </g>\n    </g>\n    <g id=\"xtick_4\">\n     <g id=\"text_4\">\n      <!-- 6 -->\n      <g style=\"fill:#262626;\" transform=\"translate(158.316469 242.376719)scale(0.1 -0.1)\">\n       <defs>\n        <path d=\"M 49.75 54.046875 \nL 41.015625 53.375 \nQ 39.84375 58.546875 37.703125 60.890625 \nQ 34.125 64.65625 28.90625 64.65625 \nQ 24.703125 64.65625 21.53125 62.3125 \nQ 17.390625 59.28125 14.984375 53.46875 \nQ 12.59375 47.65625 12.5 36.921875 \nQ 15.671875 41.75 20.265625 44.09375 \nQ 24.859375 46.4375 29.890625 46.4375 \nQ 38.671875 46.4375 44.84375 39.96875 \nQ 51.03125 33.5 51.03125 23.25 \nQ 51.03125 16.5 48.125 10.71875 \nQ 45.21875 4.9375 40.140625 1.859375 \nQ 35.0625 -1.21875 28.609375 -1.21875 \nQ 17.625 -1.21875 10.6875 6.859375 \nQ 3.765625 14.9375 3.765625 33.5 \nQ 3.765625 54.25 11.421875 63.671875 \nQ 18.109375 71.875 29.4375 71.875 \nQ 37.890625 71.875 43.28125 67.140625 \nQ 48.6875 62.40625 49.75 54.046875 \nz\nM 13.875 23.1875 \nQ 13.875 18.65625 15.796875 14.5 \nQ 17.71875 10.359375 21.1875 8.171875 \nQ 24.65625 6 28.46875 6 \nQ 34.03125 6 38.03125 10.484375 \nQ 42.046875 14.984375 42.046875 22.703125 \nQ 42.046875 30.125 38.078125 34.390625 \nQ 34.125 38.671875 28.125 38.671875 \nQ 22.171875 38.671875 18.015625 34.390625 \nQ 13.875 30.125 13.875 23.1875 \nz\n\" id=\"ArialMT-54\"/>\n       </defs>\n       <use xlink:href=\"#ArialMT-54\"/>\n      </g>\n     </g>\n    </g>\n    <g id=\"xtick_5\">\n     <g id=\"text_5\">\n      <!-- 8 -->\n      <g style=\"fill:#262626;\" transform=\"translate(201.804469 242.376719)scale(0.1 -0.1)\">\n       <defs>\n        <path d=\"M 17.671875 38.8125 \nQ 12.203125 40.828125 9.5625 44.53125 \nQ 6.9375 48.25 6.9375 53.421875 \nQ 6.9375 61.234375 12.546875 66.546875 \nQ 18.171875 71.875 27.484375 71.875 \nQ 36.859375 71.875 42.578125 66.421875 \nQ 48.296875 60.984375 48.296875 53.171875 \nQ 48.296875 48.1875 45.671875 44.5 \nQ 43.0625 40.828125 37.75 38.8125 \nQ 44.34375 36.671875 47.78125 31.875 \nQ 51.21875 27.09375 51.21875 20.453125 \nQ 51.21875 11.28125 44.71875 5.03125 \nQ 38.234375 -1.21875 27.640625 -1.21875 \nQ 17.046875 -1.21875 10.546875 5.046875 \nQ 4.046875 11.328125 4.046875 20.703125 \nQ 4.046875 27.6875 7.59375 32.390625 \nQ 11.140625 37.109375 17.671875 38.8125 \nz\nM 15.921875 53.71875 \nQ 15.921875 48.640625 19.1875 45.40625 \nQ 22.46875 42.1875 27.6875 42.1875 \nQ 32.765625 42.1875 36.015625 45.375 \nQ 39.265625 48.578125 39.265625 53.21875 \nQ 39.265625 58.0625 35.90625 61.359375 \nQ 32.5625 64.65625 27.59375 64.65625 \nQ 22.5625 64.65625 19.234375 61.421875 \nQ 15.921875 58.203125 15.921875 53.71875 \nz\nM 13.09375 20.65625 \nQ 13.09375 16.890625 14.875 13.375 \nQ 16.65625 9.859375 20.171875 7.921875 \nQ 23.6875 6 27.734375 6 \nQ 34.03125 6 38.125 10.046875 \nQ 42.234375 14.109375 42.234375 20.359375 \nQ 42.234375 26.703125 38.015625 30.859375 \nQ 33.796875 35.015625 27.4375 35.015625 \nQ 21.234375 35.015625 17.15625 30.90625 \nQ 13.09375 26.8125 13.09375 20.65625 \nz\n\" id=\"ArialMT-56\"/>\n       </defs>\n       <use xlink:href=\"#ArialMT-56\"/>\n      </g>\n     </g>\n    </g>\n   </g>\n   <g id=\"matplotlib.axis_2\">\n    <g id=\"ytick_1\">\n     <g id=\"text_6\">\n      <!-- 0 -->\n      <g style=\"fill:#262626;\" transform=\"translate(7.2 25.229812)scale(0.1 -0.1)\">\n       <use xlink:href=\"#ArialMT-48\"/>\n      </g>\n     </g>\n    </g>\n    <g id=\"ytick_2\">\n     <g id=\"text_7\">\n      <!-- 2 -->\n      <g style=\"fill:#262626;\" transform=\"translate(7.2 68.717812)scale(0.1 -0.1)\">\n       <use xlink:href=\"#ArialMT-50\"/>\n      </g>\n     </g>\n    </g>\n    <g id=\"ytick_3\">\n     <g id=\"text_8\">\n      <!-- 4 -->\n      <g style=\"fill:#262626;\" transform=\"translate(7.2 112.205812)scale(0.1 -0.1)\">\n       <use xlink:href=\"#ArialMT-52\"/>\n      </g>\n     </g>\n    </g>\n    <g id=\"ytick_4\">\n     <g id=\"text_9\">\n      <!-- 6 -->\n      <g style=\"fill:#262626;\" transform=\"translate(7.2 155.693812)scale(0.1 -0.1)\">\n       <use xlink:href=\"#ArialMT-54\"/>\n      </g>\n     </g>\n    </g>\n    <g id=\"ytick_5\">\n     <g id=\"text_10\">\n      <!-- 8 -->\n      <g style=\"fill:#262626;\" transform=\"translate(7.2 199.181812)scale(0.1 -0.1)\">\n       <use xlink:href=\"#ArialMT-56\"/>\n      </g>\n     </g>\n    </g>\n   </g>\n   <g id=\"patch_3\">\n    <path d=\"M 19.760938 228.218906 \nL 19.760938 10.778906 \n\" style=\"fill:none;stroke:#cccccc;stroke-linecap:square;stroke-linejoin:miter;stroke-width:0.8;\"/>\n   </g>\n   <g id=\"patch_4\">\n    <path d=\"M 237.200937 228.218906 \nL 237.200937 10.778906 \n\" style=\"fill:none;stroke:#cccccc;stroke-linecap:square;stroke-linejoin:miter;stroke-width:0.8;\"/>\n   </g>\n   <g id=\"patch_5\">\n    <path d=\"M 19.760938 228.218906 \nL 237.200938 228.218906 \n\" style=\"fill:none;stroke:#cccccc;stroke-linecap:square;stroke-linejoin:miter;stroke-width:0.8;\"/>\n   </g>\n   <g id=\"patch_6\">\n    <path d=\"M 19.760938 10.778906 \nL 237.200938 10.778906 \n\" style=\"fill:none;stroke:#cccccc;stroke-linecap:square;stroke-linejoin:miter;stroke-width:0.8;\"/>\n   </g>\n  </g>\n  <g id=\"axes_2\">\n   <g id=\"patch_7\">\n    <path clip-path=\"url(#pad89297cf6)\" d=\"M 253.940938 228.218906 \nL 253.940938 227.369531 \nL 253.940938 11.628281 \nL 253.940938 10.778906 \nL 264.812937 10.778906 \nL 264.812937 11.628281 \nL 264.812937 227.369531 \nL 264.812937 228.218906 \nz\n\" style=\"fill:#ffffff;stroke:#ffffff;stroke-linejoin:miter;stroke-width:0.01;\"/>\n   </g>\n   <g id=\"matplotlib.axis_3\"/>\n   <g id=\"matplotlib.axis_4\">\n    <g id=\"ytick_6\">\n     <g id=\"line2d_1\">\n      <defs>\n       <path d=\"M 0 0 \nL 3.5 0 \n\" id=\"m4267e5c05b\" style=\"stroke:#262626;stroke-width:0.8;\"/>\n      </defs>\n      <g>\n       <use style=\"fill:#262626;stroke:#262626;stroke-width:0.8;\" x=\"264.812937\" xlink:href=\"#m4267e5c05b\" y=\"228.218906\"/>\n      </g>\n     </g>\n     <g id=\"text_11\">\n      <!-- 0.0 -->\n      <g style=\"fill:#262626;\" transform=\"translate(271.812937 231.797812)scale(0.1 -0.1)\">\n       <defs>\n        <path d=\"M 9.078125 0 \nL 9.078125 10.015625 \nL 19.09375 10.015625 \nL 19.09375 0 \nz\n\" id=\"ArialMT-46\"/>\n       </defs>\n       <use xlink:href=\"#ArialMT-48\"/>\n       <use x=\"55.615234\" xlink:href=\"#ArialMT-46\"/>\n       <use x=\"83.398438\" xlink:href=\"#ArialMT-48\"/>\n      </g>\n     </g>\n    </g>\n    <g id=\"ytick_7\">\n     <g id=\"line2d_2\">\n      <g>\n       <use style=\"fill:#262626;stroke:#262626;stroke-width:0.8;\" x=\"264.812937\" xlink:href=\"#m4267e5c05b\" y=\"184.730906\"/>\n      </g>\n     </g>\n     <g id=\"text_12\">\n      <!-- 0.2 -->\n      <g style=\"fill:#262626;\" transform=\"translate(271.812937 188.309812)scale(0.1 -0.1)\">\n       <use xlink:href=\"#ArialMT-48\"/>\n       <use x=\"55.615234\" xlink:href=\"#ArialMT-46\"/>\n       <use x=\"83.398438\" xlink:href=\"#ArialMT-50\"/>\n      </g>\n     </g>\n    </g>\n    <g id=\"ytick_8\">\n     <g id=\"line2d_3\">\n      <g>\n       <use style=\"fill:#262626;stroke:#262626;stroke-width:0.8;\" x=\"264.812937\" xlink:href=\"#m4267e5c05b\" y=\"141.242906\"/>\n      </g>\n     </g>\n     <g id=\"text_13\">\n      <!-- 0.4 -->\n      <g style=\"fill:#262626;\" transform=\"translate(271.812937 144.821812)scale(0.1 -0.1)\">\n       <use xlink:href=\"#ArialMT-48\"/>\n       <use x=\"55.615234\" xlink:href=\"#ArialMT-46\"/>\n       <use x=\"83.398438\" xlink:href=\"#ArialMT-52\"/>\n      </g>\n     </g>\n    </g>\n    <g id=\"ytick_9\">\n     <g id=\"line2d_4\">\n      <g>\n       <use style=\"fill:#262626;stroke:#262626;stroke-width:0.8;\" x=\"264.812937\" xlink:href=\"#m4267e5c05b\" y=\"97.754906\"/>\n      </g>\n     </g>\n     <g id=\"text_14\">\n      <!-- 0.6 -->\n      <g style=\"fill:#262626;\" transform=\"translate(271.812937 101.333812)scale(0.1 -0.1)\">\n       <use xlink:href=\"#ArialMT-48\"/>\n       <use x=\"55.615234\" xlink:href=\"#ArialMT-46\"/>\n       <use x=\"83.398438\" xlink:href=\"#ArialMT-54\"/>\n      </g>\n     </g>\n    </g>\n    <g id=\"ytick_10\">\n     <g id=\"line2d_5\">\n      <g>\n       <use style=\"fill:#262626;stroke:#262626;stroke-width:0.8;\" x=\"264.812937\" xlink:href=\"#m4267e5c05b\" y=\"54.266906\"/>\n      </g>\n     </g>\n     <g id=\"text_15\">\n      <!-- 0.8 -->\n      <g style=\"fill:#262626;\" transform=\"translate(271.812937 57.845812)scale(0.1 -0.1)\">\n       <use xlink:href=\"#ArialMT-48\"/>\n       <use x=\"55.615234\" xlink:href=\"#ArialMT-46\"/>\n       <use x=\"83.398438\" xlink:href=\"#ArialMT-56\"/>\n      </g>\n     </g>\n    </g>\n    <g id=\"ytick_11\">\n     <g id=\"line2d_6\">\n      <g>\n       <use style=\"fill:#262626;stroke:#262626;stroke-width:0.8;\" x=\"264.812937\" xlink:href=\"#m4267e5c05b\" y=\"10.778906\"/>\n      </g>\n     </g>\n     <g id=\"text_16\">\n      <!-- 1.0 -->\n      <g style=\"fill:#262626;\" transform=\"translate(271.812937 14.357812)scale(0.1 -0.1)\">\n       <defs>\n        <path d=\"M 37.25 0 \nL 28.46875 0 \nL 28.46875 56 \nQ 25.296875 52.984375 20.140625 49.953125 \nQ 14.984375 46.921875 10.890625 45.40625 \nL 10.890625 53.90625 \nQ 18.265625 57.375 23.78125 62.296875 \nQ 29.296875 67.234375 31.59375 71.875 \nL 37.25 71.875 \nz\n\" id=\"ArialMT-49\"/>\n       </defs>\n       <use xlink:href=\"#ArialMT-49\"/>\n       <use x=\"55.615234\" xlink:href=\"#ArialMT-46\"/>\n       <use x=\"83.398438\" xlink:href=\"#ArialMT-48\"/>\n      </g>\n     </g>\n    </g>\n   </g>\n   <image height=\"218\" id=\"image6d503ecbda\" transform=\"scale(1 -1)translate(0 -218)\" width=\"11\" x=\"254\" xlink:href=\"data:image/png;base64,\niVBORw0KGgoAAAANSUhEUgAAAAsAAADaCAYAAABwzrisAAABaElEQVR4nO2aMW7EMAwERVLKy/KE/P8llyhtSk4xAB2c6wWxnKVpn3zxGV93Na+9IrvataMKiDP6YmRjscpAjBpcSTwTG6jB8NChBj0anpjRQLMxo0EkLpDgZZzb2jE0bs2wMYPz1eb5ep77WnjDeqGwyqRBRAPGDSpDzqTyA2nABi10t/9ke2aDzDO7YTUbYoMjOI+hMcLGFBr/vvI77r+V2dsXqWx5Bo4fOhtm3O2ToWfOs0aDTZ1JQ0uQrQLLhkcDnJOpnJF4WTaCrILQaIBXfho3Eae2GJENUNhsMDXOUNzWQs8VPxNssARRgwkaTLJkPM+eeJO4h3hmYpLgzu8JNiANkOBhcVuzUYyGZeOEFXctDR2iQTiffAEbWoJeZRQ3StALBVYG4g82/ChBhA5tUSuUs8hsePPsNeglqD3aUGUkPmzq+tcG38bXLvB7idk45K8v0AYQF/luleCchdk4sdtidJz1CyI3gWiDlzgyAAAAAElFTkSuQmCC\" y=\"-10\"/>\n   <g id=\"patch_8\">\n    <path d=\"M 253.940938 228.218906 \nL 253.940938 227.369531 \nL 253.940938 11.628281 \nL 253.940938 10.778906 \nL 264.812937 10.778906 \nL 264.812937 11.628281 \nL 264.812937 227.369531 \nL 264.812937 228.218906 \nz\n\" style=\"fill:none;stroke:#cccccc;stroke-linejoin:miter;stroke-width:0.8;\"/>\n   </g>\n  </g>\n </g>\n <defs>\n  <clipPath id=\"p5449530e5f\">\n   <rect height=\"217.44\" width=\"217.44\" x=\"19.760938\" y=\"10.778906\"/>\n  </clipPath>\n  <clipPath id=\"pad89297cf6\">\n   <rect height=\"217.44\" width=\"10.872\" x=\"253.940938\" y=\"10.778906\"/>\n  </clipPath>\n </defs>\n</svg>\n",
      "image/png": "[encoded data removed]"
     },
     "metadata": {}
    }
   ],
   "source": [
    "qm.reset()\n",
    "qm.display()\n",
    "results_vals = ql.display_q_values()\n",
    "plt.imshow((results_vals - results_vals.min())/(results_vals.max() - results_vals.min()), cmap=\"viridis\")\n",
    "plt.colorbar()\n",
    "plt.grid(False)\n",
    "plt.show();\n"
   ]
  },
  {
   "cell_type": "code",
   "execution_count": null,
   "metadata": {},
   "outputs": [],
   "source": [
    "# Plot rewards\n",
    "plt.plot(experiment_mean_rewards);\n",
    "plt.title(f\"Mean rewards for {NUM_EPISODES} episodes\");\n",
    "plt.xlabel(f\"Per {NUM_LOGGED_EPISODES} episodes\");\n",
    "plt.ylabel(\"Reward\");\n",
    "plt.ylim([-1000, 200]);\n",
    "plt.xlim([0, LOGGING_STEP_SIZE]);"
   ]
  },
  {
   "source": [
    "## Save results"
   ],
   "cell_type": "markdown",
   "metadata": {}
  },
  {
   "cell_type": "code",
   "execution_count": 142,
   "metadata": {},
   "outputs": [
    {
     "output_type": "execute_result",
     "data": {
      "text/plain": [
       "                                          all_rewards  max_reward  \\\n",
       "0   [-747, -3427, -14321, -2180, -3167, -448, -116...          32   \n",
       "1   [-1415, -201, -713, -701, -217, -233, -1044, -...          60   \n",
       "2   [-95, -131, -295, 44, -105, -48, -189, -76, -1...          74   \n",
       "3   [72, -151, -215, -530, -70, 23, -7, 20, -64, -...          80   \n",
       "4   [27, -6, 34, -1, 8, 4, -55, 64, -181, -3, 31, ...          72   \n",
       "5   [57, -82, 32, 6, 54, 21, 47, 74, -77, 34, 48, ...          74   \n",
       "6   [51, -14, -4, 35, 0, 16, 66, 54, 25, 5, -40, 4...          72   \n",
       "7   [46, -29, 51, 64, 56, 41, 28, -79, 72, 50, -15...          75   \n",
       "8   [27, -32, 73, 47, 5, 48, 46, 60, 32, 44, -5, 5...          76   \n",
       "9   [33, 65, 65, 34, -19, 28, 57, 48, 57, 17, 65, ...          75   \n",
       "10  [7, 46, 37, 26, 68, 50, 60, 13, -23, 26, 42, 2...          75   \n",
       "\n",
       "    mean_reward   var_reward  \\\n",
       "0       -960.25  1684.913585   \n",
       "1       -424.03   571.774229   \n",
       "2       -232.66   437.582089   \n",
       "3        -59.26   133.252138   \n",
       "4        -21.00   118.071927   \n",
       "5         16.09    60.829449   \n",
       "6          3.94   124.459457   \n",
       "7         10.21    92.505275   \n",
       "8         32.15    31.102211   \n",
       "9         35.59    26.781746   \n",
       "10        25.91    55.633640   \n",
       "\n",
       "                                    all_turns_elapsed  max_turns_elapsed  \\\n",
       "0   [175, 740, 3107, 509, 706, 109, 256, 44, 187, ...               3107   \n",
       "1   [321, 70, 167, 170, 70, 77, 263, 45, 23, 385, ...                601   \n",
       "2   [45, 47, 85, 14, 43, 33, 56, 44, 57, 126, 196,...                512   \n",
       "3   [11, 62, 73, 117, 34, 18, 25, 22, 33, 127, 32,...                136   \n",
       "4   [16, 25, 17, 24, 22, 28, 32, 12, 63, 26, 18, 1...                170   \n",
       "5   [14, 47, 19, 30, 15, 18, 15, 11, 36, 16, 15, 2...                 90   \n",
       "6   [17, 30, 25, 17, 27, 21, 14, 14, 20, 21, 29, 1...                211   \n",
       "7   [15, 27, 16, 14, 12, 21, 22, 44, 14, 17, 67, 2...                152   \n",
       "8   [19, 36, 14, 19, 20, 16, 16, 16, 19, 18, 27, 1...                 51   \n",
       "9   [19, 14, 14, 20, 28, 20, 12, 13, 15, 24, 12, 1...                 38   \n",
       "10  [27, 19, 19, 23, 11, 18, 17, 25, 31, 18, 16, 2...                 85   \n",
       "\n",
       "    mean_turns_elapsed  var_turns_elapsed  mean_ending_epsilon  \n",
       "0               227.53         360.708094             0.090057  \n",
       "1               114.73         120.380219             0.090057  \n",
       "2                73.71          93.962258             0.090057  \n",
       "3                37.08          26.659587             0.090057  \n",
       "4                29.23          24.186713             0.090057  \n",
       "5                21.85          12.160078             0.090057  \n",
       "6                24.09          24.507997             0.090057  \n",
       "7                23.34          18.699850             0.090057  \n",
       "8                18.97           6.019061             0.090057  \n",
       "9                18.09           4.874618             0.090057  \n",
       "10               20.37          11.489695             0.090057  "
      ],
      "text/html": "<div>\n<style scoped>\n    .dataframe tbody tr th:only-of-type {\n        vertical-align: middle;\n    }\n\n    .dataframe tbody tr th {\n        vertical-align: top;\n    }\n\n    .dataframe thead th {\n        text-align: right;\n    }\n</style>\n<table border=\"1\" class=\"dataframe\">\n  <thead>\n    <tr style=\"text-align: right;\">\n      <th></th>\n      <th>all_rewards</th>\n      <th>max_reward</th>\n      <th>mean_reward</th>\n      <th>var_reward</th>\n      <th>all_turns_elapsed</th>\n      <th>max_turns_elapsed</th>\n      <th>mean_turns_elapsed</th>\n      <th>var_turns_elapsed</th>\n      <th>mean_ending_epsilon</th>\n    </tr>\n  </thead>\n  <tbody>\n    <tr>\n      <th>0</th>\n      <td>[-747, -3427, -14321, -2180, -3167, -448, -116...</td>\n      <td>32</td>\n      <td>-960.25</td>\n      <td>1684.913585</td>\n      <td>[175, 740, 3107, 509, 706, 109, 256, 44, 187, ...</td>\n      <td>3107</td>\n      <td>227.53</td>\n      <td>360.708094</td>\n      <td>0.090057</td>\n    </tr>\n    <tr>\n      <th>1</th>\n      <td>[-1415, -201, -713, -701, -217, -233, -1044, -...</td>\n      <td>60</td>\n      <td>-424.03</td>\n      <td>571.774229</td>\n      <td>[321, 70, 167, 170, 70, 77, 263, 45, 23, 385, ...</td>\n      <td>601</td>\n      <td>114.73</td>\n      <td>120.380219</td>\n      <td>0.090057</td>\n    </tr>\n    <tr>\n      <th>2</th>\n      <td>[-95, -131, -295, 44, -105, -48, -189, -76, -1...</td>\n      <td>74</td>\n      <td>-232.66</td>\n      <td>437.582089</td>\n      <td>[45, 47, 85, 14, 43, 33, 56, 44, 57, 126, 196,...</td>\n      <td>512</td>\n      <td>73.71</td>\n      <td>93.962258</td>\n      <td>0.090057</td>\n    </tr>\n    <tr>\n      <th>3</th>\n      <td>[72, -151, -215, -530, -70, 23, -7, 20, -64, -...</td>\n      <td>80</td>\n      <td>-59.26</td>\n      <td>133.252138</td>\n      <td>[11, 62, 73, 117, 34, 18, 25, 22, 33, 127, 32,...</td>\n      <td>136</td>\n      <td>37.08</td>\n      <td>26.659587</td>\n      <td>0.090057</td>\n    </tr>\n    <tr>\n      <th>4</th>\n      <td>[27, -6, 34, -1, 8, 4, -55, 64, -181, -3, 31, ...</td>\n      <td>72</td>\n      <td>-21.00</td>\n      <td>118.071927</td>\n      <td>[16, 25, 17, 24, 22, 28, 32, 12, 63, 26, 18, 1...</td>\n      <td>170</td>\n      <td>29.23</td>\n      <td>24.186713</td>\n      <td>0.090057</td>\n    </tr>\n    <tr>\n      <th>5</th>\n      <td>[57, -82, 32, 6, 54, 21, 47, 74, -77, 34, 48, ...</td>\n      <td>74</td>\n      <td>16.09</td>\n      <td>60.829449</td>\n      <td>[14, 47, 19, 30, 15, 18, 15, 11, 36, 16, 15, 2...</td>\n      <td>90</td>\n      <td>21.85</td>\n      <td>12.160078</td>\n      <td>0.090057</td>\n    </tr>\n    <tr>\n      <th>6</th>\n      <td>[51, -14, -4, 35, 0, 16, 66, 54, 25, 5, -40, 4...</td>\n      <td>72</td>\n      <td>3.94</td>\n      <td>124.459457</td>\n      <td>[17, 30, 25, 17, 27, 21, 14, 14, 20, 21, 29, 1...</td>\n      <td>211</td>\n      <td>24.09</td>\n      <td>24.507997</td>\n      <td>0.090057</td>\n    </tr>\n    <tr>\n      <th>7</th>\n      <td>[46, -29, 51, 64, 56, 41, 28, -79, 72, 50, -15...</td>\n      <td>75</td>\n      <td>10.21</td>\n      <td>92.505275</td>\n      <td>[15, 27, 16, 14, 12, 21, 22, 44, 14, 17, 67, 2...</td>\n      <td>152</td>\n      <td>23.34</td>\n      <td>18.699850</td>\n      <td>0.090057</td>\n    </tr>\n    <tr>\n      <th>8</th>\n      <td>[27, -32, 73, 47, 5, 48, 46, 60, 32, 44, -5, 5...</td>\n      <td>76</td>\n      <td>32.15</td>\n      <td>31.102211</td>\n      <td>[19, 36, 14, 19, 20, 16, 16, 16, 19, 18, 27, 1...</td>\n      <td>51</td>\n      <td>18.97</td>\n      <td>6.019061</td>\n      <td>0.090057</td>\n    </tr>\n    <tr>\n      <th>9</th>\n      <td>[33, 65, 65, 34, -19, 28, 57, 48, 57, 17, 65, ...</td>\n      <td>75</td>\n      <td>35.59</td>\n      <td>26.781746</td>\n      <td>[19, 14, 14, 20, 28, 20, 12, 13, 15, 24, 12, 1...</td>\n      <td>38</td>\n      <td>18.09</td>\n      <td>4.874618</td>\n      <td>0.090057</td>\n    </tr>\n    <tr>\n      <th>10</th>\n      <td>[7, 46, 37, 26, 68, 50, 60, 13, -23, 26, 42, 2...</td>\n      <td>75</td>\n      <td>25.91</td>\n      <td>55.633640</td>\n      <td>[27, 19, 19, 23, 11, 18, 17, 25, 31, 18, 16, 2...</td>\n      <td>85</td>\n      <td>20.37</td>\n      <td>11.489695</td>\n      <td>0.090057</td>\n    </tr>\n  </tbody>\n</table>\n</div>"
     },
     "metadata": {},
     "execution_count": 142
    }
   ],
   "source": [
    "results_df = pd.DataFrame(all_results)\n",
    "results_df "
   ]
  },
  {
   "source": [
    "## Test QMaze number of steps for different environment sizes"
   ],
   "cell_type": "markdown",
   "metadata": {}
  },
  {
   "cell_type": "code",
   "execution_count": 34,
   "metadata": {},
   "outputs": [
    {
     "output_type": "stream",
     "name": "stdout",
     "text": [
      "Size of env: 5, final_turns_elapsed: 80\n",
      "Size of env: 6, final_turns_elapsed: 29\n",
      "Size of env: 7, final_turns_elapsed: 64\n",
      "Size of env: 8, final_turns_elapsed: 5\n",
      "Size of env: 9, final_turns_elapsed: 23\n",
      "Size of env: 10, final_turns_elapsed: 71\n",
      "Size of env: 11, final_turns_elapsed: 9\n",
      "Size of env: 12, final_turns_elapsed: 24\n",
      "Size of env: 13, final_turns_elapsed: 41\n",
      "Size of env: 14, final_turns_elapsed: 48\n",
      "Size of env: 15, final_turns_elapsed: 45\n",
      "Size of env: 16, final_turns_elapsed: 41\n",
      "Size of env: 17, final_turns_elapsed: 23\n",
      "Size of env: 18, final_turns_elapsed: 23\n",
      "Size of env: 19, final_turns_elapsed: 8\n",
      "Size of env: 20, final_turns_elapsed: 6\n",
      "Size of env: 21, final_turns_elapsed: 13\n",
      "Size of env: 22, final_turns_elapsed: 19\n",
      "Size of env: 23, final_turns_elapsed: 22\n",
      "Size of env: 24, final_turns_elapsed: 7\n",
      "Size of env: 25, final_turns_elapsed: 31\n",
      "Size of env: 26, final_turns_elapsed: 11\n",
      "Size of env: 27, final_turns_elapsed: 44\n",
      "Size of env: 28, final_turns_elapsed: 59\n",
      "Size of env: 29, final_turns_elapsed: 17\n",
      "Size of env: 30, final_turns_elapsed: 21\n",
      "Size of env: 31, final_turns_elapsed: 26\n",
      "Size of env: 32, final_turns_elapsed: 21\n",
      "Size of env: 33, final_turns_elapsed: 14\n",
      "Size of env: 34, final_turns_elapsed: 72\n",
      "Size of env: 35, final_turns_elapsed: 8\n",
      "Size of env: 36, final_turns_elapsed: 35\n",
      "Size of env: 37, final_turns_elapsed: 49\n",
      "Size of env: 38, final_turns_elapsed: 13\n",
      "Size of env: 39, final_turns_elapsed: 18\n",
      "Size of env: 40, final_turns_elapsed: 13\n",
      "Size of env: 41, final_turns_elapsed: 28\n",
      "Size of env: 42, final_turns_elapsed: 4\n",
      "Size of env: 43, final_turns_elapsed: 19\n",
      "Size of env: 44, final_turns_elapsed: 32\n",
      "Size of env: 45, final_turns_elapsed: 20\n",
      "Size of env: 46, final_turns_elapsed: 59\n",
      "Size of env: 47, final_turns_elapsed: 37\n",
      "Size of env: 48, final_turns_elapsed: 23\n",
      "Size of env: 49, final_turns_elapsed: 80\n",
      "Size of env: 50, final_turns_elapsed: 27\n",
      "Size of env: 51, final_turns_elapsed: 17\n",
      "Size of env: 52, final_turns_elapsed: 12\n",
      "Size of env: 53, final_turns_elapsed: 37\n",
      "Size of env: 54, final_turns_elapsed: 44\n",
      "Size of env: 55, final_turns_elapsed: 20\n",
      "Size of env: 56, final_turns_elapsed: 46\n",
      "Size of env: 57, final_turns_elapsed: 20\n",
      "Size of env: 58, final_turns_elapsed: 34\n",
      "Size of env: 59, final_turns_elapsed: 20\n",
      "Size of env: 60, final_turns_elapsed: 13\n",
      "Size of env: 61, final_turns_elapsed: 17\n",
      "Size of env: 62, final_turns_elapsed: 37\n",
      "Size of env: 63, final_turns_elapsed: 66\n",
      "Size of env: 64, final_turns_elapsed: 38\n",
      "Size of env: 65, final_turns_elapsed: 39\n",
      "Size of env: 66, final_turns_elapsed: 42\n",
      "Size of env: 67, final_turns_elapsed: 37\n",
      "Size of env: 68, final_turns_elapsed: 36\n",
      "Size of env: 69, final_turns_elapsed: 36\n",
      "Size of env: 70, final_turns_elapsed: 23\n",
      "Size of env: 71, final_turns_elapsed: 3\n",
      "Size of env: 72, final_turns_elapsed: 27\n",
      "Size of env: 73, final_turns_elapsed: 38\n",
      "Size of env: 74, final_turns_elapsed: 17\n",
      "Size of env: 75, final_turns_elapsed: 15\n",
      "Size of env: 76, final_turns_elapsed: 3\n",
      "Size of env: 77, final_turns_elapsed: 32\n",
      "Size of env: 78, final_turns_elapsed: 7\n",
      "Size of env: 79, final_turns_elapsed: 39\n",
      "Size of env: 80, final_turns_elapsed: 30\n",
      "Size of env: 81, final_turns_elapsed: 36\n",
      "Size of env: 82, final_turns_elapsed: 44\n",
      "Size of env: 83, final_turns_elapsed: 31\n",
      "Size of env: 84, final_turns_elapsed: 27\n",
      "Size of env: 85, final_turns_elapsed: 53\n",
      "Size of env: 86, final_turns_elapsed: 28\n",
      "Size of env: 87, final_turns_elapsed: 51\n",
      "Size of env: 88, final_turns_elapsed: 15\n",
      "Size of env: 89, final_turns_elapsed: 28\n",
      "Size of env: 90, final_turns_elapsed: 6\n",
      "Size of env: 91, final_turns_elapsed: 33\n",
      "Size of env: 92, final_turns_elapsed: 77\n",
      "Size of env: 93, final_turns_elapsed: 25\n",
      "Size of env: 94, final_turns_elapsed: 23\n",
      "Size of env: 95, final_turns_elapsed: 33\n",
      "Size of env: 96, final_turns_elapsed: 33\n",
      "Size of env: 97, final_turns_elapsed: 37\n",
      "Size of env: 98, final_turns_elapsed: 30\n",
      "Size of env: 99, final_turns_elapsed: 28\n"
     ]
    }
   ],
   "source": [
    "test_size_envs = range(5, 100)\n",
    "\n",
    "for size_env in test_size_envs:\n",
    "        test_qm = QMaze()\n",
    "        test_eg_policy = EGreedyPolicy(epsilon=0.6, decay=0.9)\n",
    "        test_ql = QLearning(policy=eg_policy, environment=qm, gamma=0.9, alpha=0.01)\n",
    "        _, final_turns_elapsed, _ = train_ql_for_one_episode(environment=test_qm, policy=test_eg_policy, q_learning_method=test_ql)\n",
    "        print(f\"Size of env: {size_env}, final_turns_elapsed: {final_turns_elapsed}\")"
   ]
  },
  {
   "cell_type": "code",
   "execution_count": 15,
   "metadata": {},
   "outputs": [],
   "source": [
    "epsilon_list = [0.5, 0.7, 0.9]\n",
    "gamma_list = [0.5, 0.7, 0.9]\n",
    "env_size_list = [10, 20, 30, 40, 50]\n",
    "\n",
    "# mean_reward = []\n",
    "# std_reward = []\n",
    "    \n",
    "# for size_envir in range(5,50,5):\n",
    "\n",
    "#     # heuristics\n",
    "#     n_improvement_steps = size_envir\n",
    "#     n_steps_policy_eval = 10\n",
    "    \n",
    "#     total_rewards = []\n",
    "\n",
    "#     for n_envir in range(n_environments_per_size):\n",
    "\n",
    "#         dungeon = DungeonDP(size_envir)\n",
    "#         policy = Policy(dungeon, gamma)\n",
    "        \n",
    "#         for n_improvements in range(n_improvement_steps):\n",
    "    \n",
    "#             policy.policy_iteration(n_steps_policy_eval)\n",
    "\n",
    "#         all_total_rewards, _, _, _ = run_experiments(dungeon, policy, n_runs_per_environments)\n",
    "\n",
    "#         total_rewards += all_total_rewards\n",
    "\n",
    "#     mean_reward.append( np.mean(total_rewards) )\n",
    "#     std_reward.append( np.std(total_rewards) )\n",
    "\n",
    "# mean_reward = np.asarray(mean_reward)\n",
    "# std_reward = np.asarray(std_reward)\n",
    "\n",
    "# plt.plot(range(5, 50, 5), mean_reward, 'or')\n",
    "# plt.plot(range(5, 50, 5), mean_reward, color = 'r')\n",
    "# plt.fill_between(range(5, 50, 5), mean_reward - std_reward/2, mean_reward + std_reward/2,\n",
    "#              color='r', alpha=0.2)\n",
    "\n",
    "# plt.xlabel('Environment size')\n",
    "# plt.ylabel('Average reward')\n",
    "\n",
    "# plt.show()"
   ]
  },
  {
   "cell_type": "code",
   "execution_count": null,
   "metadata": {},
   "outputs": [],
   "source": []
  }
 ]
}